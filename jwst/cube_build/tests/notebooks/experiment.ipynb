{
 "cells": [
  {
   "cell_type": "markdown",
   "metadata": {},
   "source": [
    "# Abstract"
   ]
  },
  {
   "cell_type": "markdown",
   "metadata": {},
   "source": [
    "Test cube build running."
   ]
  },
  {
   "cell_type": "markdown",
   "metadata": {},
   "source": [
    "# Environment"
   ]
  },
  {
   "cell_type": "code",
   "execution_count": 1,
   "metadata": {},
   "outputs": [],
   "source": [
    "from os import path"
   ]
  },
  {
   "cell_type": "code",
   "execution_count": 2,
   "metadata": {},
   "outputs": [],
   "source": [
    "from jwst.stpipe import Step"
   ]
  },
  {
   "cell_type": "markdown",
   "metadata": {},
   "source": [
    "# Library"
   ]
  },
  {
   "cell_type": "markdown",
   "metadata": {},
   "source": [
    "# Main"
   ]
  },
  {
   "cell_type": "code",
   "execution_count": 3,
   "metadata": {},
   "outputs": [],
   "source": [
    "DATA_DIR = '/Users/eisenham/Documents/ssbdev/testdata/pandokia/jwcalibdev/data4/jwst_test_data/miri/test_datasets/mrs/simulated'\n",
    "OUTPUT_DIR = '/tmp/cube_build'"
   ]
  },
  {
   "cell_type": "code",
   "execution_count": null,
   "metadata": {},
   "outputs": [],
   "source": [
    "% rm -rf $OUTPUT_DIR\n",
    "% mkdir $OUTPUT_DIR"
   ]
  },
  {
   "cell_type": "markdown",
   "metadata": {},
   "source": [
    "## First run assign_wcs"
   ]
  },
  {
   "cell_type": "code",
   "execution_count": null,
   "metadata": {},
   "outputs": [],
   "source": [
    "assign_wcs_args = [\n",
    "    path.join(DATA_DIR, 'cfgs', 'assign_wcs.cfg'),\n",
    "    path.join(DATA_DIR, 'level2a', 'det_image_seq1_MIRIFULONG_34LONGexp1_rate.fits'),\n",
    "    '--output_dir', OUTPUT_DIR,\n",
    "]"
   ]
  },
  {
   "cell_type": "code",
   "execution_count": null,
   "metadata": {},
   "outputs": [],
   "source": [
    "Step.from_cmdline(assign_wcs_args)"
   ]
  },
  {
   "cell_type": "markdown",
   "metadata": {},
   "source": [
    "## With output_file"
   ]
  },
  {
   "cell_type": "code",
   "execution_count": 4,
   "metadata": {},
   "outputs": [],
   "source": [
    "args = [\n",
    "    path.join(DATA_DIR, 'cfgs', 'cube_build.cfg'),\n",
    "    path.join(OUTPUT_DIR, 'det_image_seq1_MIRIFULONG_34LONGexp1_assign_wcs.fits'),\n",
    "    '--output_dir', OUTPUT_DIR,\n",
    "    '--output_file','test',\n",
    "]"
   ]
  },
  {
   "cell_type": "code",
   "execution_count": 5,
   "metadata": {
    "scrolled": false
   },
   "outputs": [
    {
     "name": "stderr",
     "output_type": "stream",
     "text": [
      "2018-05-08 17:29:51,717 - stpipe.cube_build - INFO - CubeBuildStep instance created.\n",
      "2018-05-08 17:29:51,766 - stpipe.cube_build - INFO - Step cube_build running with args ('/tmp/cube_build/det_image_seq1_MIRIFULONG_34LONGexp1_assign_wcs.fits',).\n",
      "2018-05-08 17:29:51,767 - stpipe.cube_build - INFO - Starting IFU Cube Building Step\n",
      "2018-05-08 17:29:51,768 - stpipe.cube_build - INFO - Input interpolation: pointcloud\n",
      "2018-05-08 17:29:51,768 - stpipe.cube_build - INFO - Coordinate system to use: ra-dec\n",
      "2018-05-08 17:29:51,769 - stpipe.cube_build - INFO - Weighting method for point cloud: msm\n",
      "2018-05-08 17:29:51,770 - stpipe.cube_build - INFO - Power Weighting distance : 2.000000\n",
      "2018-05-08 17:29:55,773 - stpipe.cube_build - INFO - The desired cubes covers the MIRI Channels: ['3', '4']\n",
      "2018-05-08 17:29:55,774 - stpipe.cube_build - INFO - The desired cubes covers the MIRI subchannels: ['LONG', 'LONG']\n",
      "2018-05-08 17:29:55,775 - stpipe.cube_build - INFO - Reading  cube parameter file /Users/eisenham/Documents/ssbdev/testdata/crds-cache/references/jwst/miri/jwst_miri_cubepar_0002.fits\n",
      "2018-05-08 17:29:57,829 - stpipe.cube_build - INFO - Output Cubes are single channel, single sub-channel IFU Cubes\n",
      "2018-05-08 17:29:57,830 - stpipe.cube_build - INFO - Number of IFUCubes produced by a this run 2\n",
      "2018-05-08 17:29:57,844 - stpipe.cube_build - INFO - Increasing spatial region of interest default value set for 4 dithers 0.300000\n",
      "2018-05-08 17:29:57,845 - stpipe.cube_build - INFO - Region of interest spatial, wavelength  0.300000 0.003000\n",
      "2018-05-08 17:29:57,846 - stpipe.cube_build - INFO - Number of bands in cube  1\n",
      "2018-05-08 17:29:58,202 - stpipe.cube_build - WARNING - /Users/eisenham/anaconda3/envs/jwstdev/lib/python3.6/site-packages/gwcs/selector.py:443: RuntimeWarning: invalid value encountered in less_equal\n",
      "  temp = np.where(np.logical_or(temp <= val_range[0],\n",
      "\n",
      "2018-05-08 17:29:58,203 - stpipe.cube_build - WARNING - /Users/eisenham/anaconda3/envs/jwstdev/lib/python3.6/site-packages/gwcs/selector.py:444: RuntimeWarning: invalid value encountered in greater_equal\n",
      "  temp >= val_range[1]),\n",
      "\n",
      "2018-05-08 17:29:58,373 - stpipe.cube_build - INFO - Ra average -0.00060812.8\n",
      "2018-05-08 17:29:58,375 - stpipe.cube_build - INFO - Cube Geometry:\n",
      "2018-05-08 17:29:58,375 - stpipe.cube_build - INFO - axis# Naxis  CRPIX    CRVAL      CDELT(arc sec)  MIN & Max (xi,eta arc sec)\n",
      "2018-05-08 17:29:58,376 - stpipe.cube_build - INFO - Axis 1    40  21.00  -0.00060834   0.20000000  -4.10000006   4.10000006\n",
      "2018-05-08 17:29:58,377 - stpipe.cube_build - INFO - Axis 2    34  18.00  -0.04722627   0.20000000  -3.50000005   3.50000005\n",
      "2018-05-08 17:29:58,378 - stpipe.cube_build - INFO - Axis 3   971   1.00  15.27267498   0.00300000  15.27267498  18.18567501\n",
      "2018-05-08 17:29:58,378 - stpipe.cube_build - INFO - Cube covers channel, subchannel: 3 LONG \n",
      "2018-05-08 17:29:58,379 - stpipe.cube_build - INFO - Output Name /tmp/cube_build/test_ch3-long_s3d.fits\n",
      "2018-05-08 17:30:57,174 - stpipe.cube_build - INFO - Time Map All slices on Detector to Cube = 57.0.s\n",
      "2018-05-08 17:30:57,832 - stpipe.cube_build - INFO - Time to interpolate at spaxel values = 0.7.s\n",
      "2018-05-08 17:30:57,832 - stpipe.cube_build - INFO - Time to find Cube Flux= 0.7.s\n",
      "2018-05-08 17:30:58,492 - stpipe.cube_build - INFO - Increasing spatial region of interest default value set for 4 dithers 0.600000\n",
      "2018-05-08 17:30:58,493 - stpipe.cube_build - INFO - Region of interest spatial, wavelength  0.600000 0.006000\n",
      "2018-05-08 17:30:58,494 - stpipe.cube_build - INFO - Number of bands in cube  1\n",
      "2018-05-08 17:30:58,982 - stpipe.cube_build - INFO - Ra average -0.00030812.8\n",
      "2018-05-08 17:30:58,984 - stpipe.cube_build - INFO - Cube Geometry:\n",
      "2018-05-08 17:30:58,984 - stpipe.cube_build - INFO - axis# Naxis  CRPIX    CRVAL      CDELT(arc sec)  MIN & Max (xi,eta arc sec)\n",
      "2018-05-08 17:30:58,985 - stpipe.cube_build - INFO - Axis 1    30  16.00  -0.00030751   0.34999999  -5.42499991   5.42499991\n",
      "2018-05-08 17:30:58,986 - stpipe.cube_build - INFO - Axis 2    24  13.00  -0.04729520   0.34999999  -4.37499993   4.37499993\n",
      "2018-05-08 17:30:58,986 - stpipe.cube_build - INFO - Axis 3   792   1.00  23.71750924   0.00600000  23.71750924  28.46950928\n",
      "2018-05-08 17:30:58,987 - stpipe.cube_build - INFO - Cube covers channel, subchannel: 4 LONG \n",
      "2018-05-08 17:30:58,987 - stpipe.cube_build - INFO - Output Name /tmp/cube_build/test_ch4-long_s3d.fits\n",
      "2018-05-08 17:31:59,687 - stpipe.cube_build - INFO - Time Map All slices on Detector to Cube = 60.0.s\n",
      "2018-05-08 17:31:59,979 - stpipe.cube_build - INFO - Time to interpolate at spaxel values = 0.3.s\n",
      "2018-05-08 17:31:59,980 - stpipe.cube_build - INFO - Time to find Cube Flux= 0.3.s\n",
      "2018-05-08 17:32:00,468 - stpipe.cube_build - INFO - Saved model in /tmp/cube_build/test_ch3-long_s3d.fits\n",
      "2018-05-08 17:32:00,560 - stpipe.cube_build - INFO - Saved model in /tmp/cube_build/test_ch4-long_s3d.fits\n",
      "2018-05-08 17:32:00,561 - stpipe.cube_build - INFO - Step cube_build done\n"
     ]
    },
    {
     "data": {
      "text/plain": [
       "<jwst.cube_build.cube_build_step.CubeBuildStep at 0x181ede0c88>"
      ]
     },
     "execution_count": 5,
     "metadata": {},
     "output_type": "execute_result"
    }
   ],
   "source": [
    "Step.from_cmdline(args)"
   ]
  },
  {
   "cell_type": "markdown",
   "metadata": {},
   "source": [
    "## Output use model"
   ]
  },
  {
   "cell_type": "code",
   "execution_count": null,
   "metadata": {},
   "outputs": [],
   "source": [
    "args = [\n",
    "    path.join(DATA_DIR, 'cfgs', 'cube_build.cfg'),\n",
    "    path.join(OUTPUT_DIR, 'det_image_seq1_MIRIFULONG_34LONGexp1_assign_wcs.fits'),\n",
    "    '--output_dir', OUTPUT_DIR,\n",
    "    '--output_file','test',\n",
    "    '--output_use_model=true',\n",
    "]"
   ]
  },
  {
   "cell_type": "code",
   "execution_count": null,
   "metadata": {},
   "outputs": [],
   "source": [
    "Step.from_cmdline(args)"
   ]
  },
  {
   "cell_type": "markdown",
   "metadata": {},
   "source": [
    "## Without output_file"
   ]
  },
  {
   "cell_type": "code",
   "execution_count": null,
   "metadata": {},
   "outputs": [],
   "source": [
    "args = [\n",
    "    path.join(DATA_DIR, 'cfgs', 'cube_build.cfg'),\n",
    "    path.join(DATA_DIR, 'level2a', 'MIRI-103-Q0-SHORT-495_rate.fits'),\n",
    "    '--output_dir', OUTPUT_DIR,\n",
    "]"
   ]
  },
  {
   "cell_type": "code",
   "execution_count": null,
   "metadata": {
    "scrolled": false
   },
   "outputs": [],
   "source": [
    "Step.from_cmdline(args)"
   ]
  },
  {
   "cell_type": "code",
   "execution_count": null,
   "metadata": {},
   "outputs": [],
   "source": [
    "%debug"
   ]
  },
  {
   "cell_type": "code",
   "execution_count": null,
   "metadata": {},
   "outputs": [],
   "source": []
  }
 ],
 "metadata": {
  "kernelspec": {
   "display_name": "Python 3",
   "language": "python",
   "name": "python3"
  },
  "language_info": {
   "codemirror_mode": {
    "name": "ipython",
    "version": 3
   },
   "file_extension": ".py",
   "mimetype": "text/x-python",
   "name": "python",
   "nbconvert_exporter": "python",
   "pygments_lexer": "ipython3",
   "version": "3.6.5"
  }
 },
 "nbformat": 4,
 "nbformat_minor": 2
}
