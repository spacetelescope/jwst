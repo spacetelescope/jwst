{
 "cells": [
  {
   "cell_type": "markdown",
   "metadata": {
    "deletable": true,
    "editable": true
   },
   "source": [
    "# Abstract"
   ]
  },
  {
   "cell_type": "markdown",
   "metadata": {
    "deletable": true,
    "editable": true
   },
   "source": [
    "# Environment"
   ]
  },
  {
   "cell_type": "code",
   "execution_count": 1,
   "metadata": {
    "collapsed": true,
    "deletable": true,
    "editable": true
   },
   "outputs": [],
   "source": [
    "from jwst.associations.tests.helpers import (\n",
    "    combine_pools,\n",
    "    registry_level3_only,\n",
    "    registry_level2_only\n",
    ")"
   ]
  },
  {
   "cell_type": "code",
   "execution_count": 2,
   "metadata": {
    "collapsed": true,
    "deletable": true,
    "editable": true
   },
   "outputs": [],
   "source": [
    "from jwst.associations import (\n",
    "    AssociationPool,\n",
    "    AssociationRegistry,\n",
    "    generate\n",
    ")"
   ]
  },
  {
   "cell_type": "markdown",
   "metadata": {
    "deletable": true,
    "editable": true
   },
   "source": [
    "# Library"
   ]
  },
  {
   "cell_type": "code",
   "execution_count": 3,
   "metadata": {
    "collapsed": false
   },
   "outputs": [],
   "source": [
    "def merge_asns(asns):\n",
    "    # Merge all the associations into common types\n",
    "    merged_by_type = {}\n",
    "    for asn in asns:\n",
    "        try:\n",
    "            current_asn = merged_by_type[asn['asn_type']]\n",
    "        except KeyError:\n",
    "            merged_by_type[asn['asn_type']] = asn\n",
    "            current_asn = asn\n",
    "        for product in asn['products']:\n",
    "            merge_occurred = False\n",
    "            for current_product in current_asn['products']:\n",
    "                if product['name'] == current_product['name']:\n",
    "                    member_names = set([\n",
    "                        member['expname']\n",
    "                        for member in product['members']\n",
    "                    ])\n",
    "                    current_member_names = [\n",
    "                        member['expname']\n",
    "                        for member in current_product['members']\n",
    "                    ]\n",
    "                    new_names = member_names.difference(current_member_names)\n",
    "                    new_members = [\n",
    "                        member\n",
    "                        for member in product['members']\n",
    "                        if member['expname'] in new_names\n",
    "                    ]\n",
    "                    current_product['members'].extend(new_members)\n",
    "                    merge_occurred = True\n",
    "            if not merge_occurred:\n",
    "                current_asn['products'].append(product)\n",
    "                \n",
    "    merged_asns = [\n",
    "        asn\n",
    "        for asn_type, asn in merged_by_type.items()\n",
    "    ]\n",
    "    return merged_asns"
   ]
  },
  {
   "cell_type": "markdown",
   "metadata": {
    "deletable": true,
    "editable": true
   },
   "source": [
    "# Main"
   ]
  },
  {
   "cell_type": "markdown",
   "metadata": {},
   "source": [
    "## Level2 operations"
   ]
  },
  {
   "cell_type": "markdown",
   "metadata": {},
   "source": [
    "### No Backgrounds"
   ]
  },
  {
   "cell_type": "code",
   "execution_count": 4,
   "metadata": {
    "collapsed": true
   },
   "outputs": [],
   "source": [
    "rules = registry_level2_only()"
   ]
  },
  {
   "cell_type": "code",
   "execution_count": 5,
   "metadata": {
    "collapsed": false
   },
   "outputs": [
    {
     "name": "stderr",
     "output_type": "stream",
     "text": [
      "/Users/eisenham/anaconda3/envs/jwstdevpy3/lib/python3.5/site-packages/astropy/table/table.py:1281: StringTruncateWarning: truncated right side string(s) longer than 14 character(s) during assignment\n",
      "  col[item] = val\n"
     ]
    }
   ],
   "source": [
    "pool = combine_pools('data/pool_002_image_miri.csv')"
   ]
  },
  {
   "cell_type": "code",
   "execution_count": 6,
   "metadata": {
    "collapsed": true
   },
   "outputs": [],
   "source": [
    "asns, orphaned = generate(pool, rules)"
   ]
  },
  {
   "cell_type": "code",
   "execution_count": 7,
   "metadata": {
    "collapsed": false,
    "scrolled": true
   },
   "outputs": [
    {
     "data": {
      "text/plain": [
       "[{\n",
       "     \"constraints\": \"Constraints:\\n    opt_elem2: None\\n    detector: MIRIMAGE\\n    subarray: FULL\\n    program: 99009\\n    channel: None\\n    opt_elem: F560W\\n    single_science: False\\n    instrument: MIRI\\n    exp_type: MIR_IMAGE\",\n",
       "     \"asn_id\": \"a3001\",\n",
       "     \"target\": \"1\",\n",
       "     \"program\": \"99009\",\n",
       "     \"asn_pool\": \"pool_002_image_miri\",\n",
       "     \"asn_type\": \"image2\",\n",
       "     \"products\": [\n",
       "         {\n",
       "             \"name\": \"jw_00001\",\n",
       "             \"members\": [\n",
       "                 {\n",
       "                     \"expname\": \"jw_00001_rate.fits\",\n",
       "                     \"exptype\": \"SCIENCE\"\n",
       "                 }\n",
       "             ]\n",
       "         },\n",
       "         {\n",
       "             \"name\": \"jw_00002\",\n",
       "             \"members\": [\n",
       "                 {\n",
       "                     \"expname\": \"jw_00002_rate.fits\",\n",
       "                     \"exptype\": \"SCIENCE\"\n",
       "                 }\n",
       "             ]\n",
       "         },\n",
       "         {\n",
       "             \"name\": \"jw_00003\",\n",
       "             \"members\": [\n",
       "                 {\n",
       "                     \"expname\": \"jw_00003_rate.fits\",\n",
       "                     \"exptype\": \"SCIENCE\"\n",
       "                 }\n",
       "             ]\n",
       "         },\n",
       "         {\n",
       "             \"name\": \"jw_00004\",\n",
       "             \"members\": [\n",
       "                 {\n",
       "                     \"expname\": \"jw_00004_rate.fits\",\n",
       "                     \"exptype\": \"SCIENCE\"\n",
       "                 }\n",
       "             ]\n",
       "         },\n",
       "         {\n",
       "             \"name\": \"jw_00005\",\n",
       "             \"members\": [\n",
       "                 {\n",
       "                     \"expname\": \"jw_00005_rate.fits\",\n",
       "                     \"exptype\": \"SCIENCE\"\n",
       "                 }\n",
       "             ]\n",
       "         },\n",
       "         {\n",
       "             \"name\": \"jw_00006\",\n",
       "             \"members\": [\n",
       "                 {\n",
       "                     \"expname\": \"jw_00006_rate.fits\",\n",
       "                     \"exptype\": \"SCIENCE\"\n",
       "                 }\n",
       "             ]\n",
       "         },\n",
       "         {\n",
       "             \"name\": \"jw_00007\",\n",
       "             \"members\": [\n",
       "                 {\n",
       "                     \"expname\": \"jw_00007_rate.fits\",\n",
       "                     \"exptype\": \"SCIENCE\"\n",
       "                 }\n",
       "             ]\n",
       "         },\n",
       "         {\n",
       "             \"name\": \"jw_00008\",\n",
       "             \"members\": [\n",
       "                 {\n",
       "                     \"expname\": \"jw_00008_rate.fits\",\n",
       "                     \"exptype\": \"SCIENCE\"\n",
       "                 }\n",
       "             ]\n",
       "         }\n",
       "     ],\n",
       "     \"asn_rule\": \"Asn_Lv2Image\",\n",
       "     \"version_id\": null,\n",
       "     \"code_version\": \"0.7.1.beta2\"\n",
       " }]"
      ]
     },
     "execution_count": 7,
     "metadata": {},
     "output_type": "execute_result"
    }
   ],
   "source": [
    "asns"
   ]
  },
  {
   "cell_type": "code",
   "execution_count": 8,
   "metadata": {
    "collapsed": false
   },
   "outputs": [
    {
     "data": {
      "text/plain": [
       "1"
      ]
     },
     "execution_count": 8,
     "metadata": {},
     "output_type": "execute_result"
    }
   ],
   "source": [
    "len(asns)"
   ]
  },
  {
   "cell_type": "code",
   "execution_count": null,
   "metadata": {
    "collapsed": false
   },
   "outputs": [],
   "source": [
    "asn = asns[0]"
   ]
  },
  {
   "cell_type": "code",
   "execution_count": null,
   "metadata": {
    "collapsed": false
   },
   "outputs": [],
   "source": [
    "asn.product_name"
   ]
  },
  {
   "cell_type": "markdown",
   "metadata": {},
   "source": [
    "### With backgrounds"
   ]
  },
  {
   "cell_type": "code",
   "execution_count": null,
   "metadata": {
    "collapsed": false
   },
   "outputs": [],
   "source": [
    "pool = combine_pools('data/pool_009_spec_miri_lv2bkg.csv')"
   ]
  },
  {
   "cell_type": "code",
   "execution_count": null,
   "metadata": {
    "collapsed": true
   },
   "outputs": [],
   "source": [
    "asns, orphaned = generate(pool, rules)"
   ]
  },
  {
   "cell_type": "code",
   "execution_count": null,
   "metadata": {
    "collapsed": false
   },
   "outputs": [],
   "source": [
    "len(asns)"
   ]
  },
  {
   "cell_type": "code",
   "execution_count": null,
   "metadata": {
    "collapsed": false,
    "scrolled": true
   },
   "outputs": [],
   "source": [
    "asns"
   ]
  },
  {
   "cell_type": "code",
   "execution_count": null,
   "metadata": {
    "collapsed": false
   },
   "outputs": [],
   "source": [
    "merged = merge_asns(asns)"
   ]
  },
  {
   "cell_type": "code",
   "execution_count": null,
   "metadata": {
    "collapsed": false,
    "scrolled": false
   },
   "outputs": [],
   "source": [
    "merged"
   ]
  },
  {
   "cell_type": "code",
   "execution_count": null,
   "metadata": {
    "collapsed": false,
    "scrolled": false
   },
   "outputs": [],
   "source": [
    "import pdb\n",
    "pdb.run('merged = merge_asns(asns)')"
   ]
  },
  {
   "cell_type": "code",
   "execution_count": null,
   "metadata": {
    "collapsed": true
   },
   "outputs": [],
   "source": []
  },
  {
   "cell_type": "markdown",
   "metadata": {},
   "source": [
    "## Just basic operation"
   ]
  },
  {
   "cell_type": "code",
   "execution_count": null,
   "metadata": {
    "collapsed": true,
    "deletable": true,
    "editable": true
   },
   "outputs": [],
   "source": [
    "rules = AssociationRegistry()"
   ]
  },
  {
   "cell_type": "code",
   "execution_count": null,
   "metadata": {
    "collapsed": false,
    "deletable": true,
    "editable": true
   },
   "outputs": [],
   "source": [
    "pool = combine_pools('data/pool_002_image_miri.csv')"
   ]
  },
  {
   "cell_type": "code",
   "execution_count": null,
   "metadata": {
    "collapsed": true,
    "deletable": true,
    "editable": true
   },
   "outputs": [],
   "source": [
    "member = pool[0]"
   ]
  },
  {
   "cell_type": "code",
   "execution_count": null,
   "metadata": {
    "collapsed": false,
    "deletable": true,
    "editable": true
   },
   "outputs": [],
   "source": [
    "asns, reprocess = rules.match(member)"
   ]
  },
  {
   "cell_type": "code",
   "execution_count": null,
   "metadata": {
    "collapsed": false,
    "deletable": true,
    "editable": true
   },
   "outputs": [],
   "source": [
    "asns"
   ]
  },
  {
   "cell_type": "code",
   "execution_count": null,
   "metadata": {
    "collapsed": true,
    "deletable": true,
    "editable": true
   },
   "outputs": [],
   "source": []
  }
 ],
 "metadata": {
  "kernelspec": {
   "display_name": "Python [default]",
   "language": "python",
   "name": "python3"
  },
  "language_info": {
   "codemirror_mode": {
    "name": "ipython",
    "version": 3
   },
   "file_extension": ".py",
   "mimetype": "text/x-python",
   "name": "python",
   "nbconvert_exporter": "python",
   "pygments_lexer": "ipython3",
   "version": "3.5.2"
  }
 },
 "nbformat": 4,
 "nbformat_minor": 2
}
