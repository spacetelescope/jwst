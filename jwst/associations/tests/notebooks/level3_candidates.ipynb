{
 "cells": [
  {
   "cell_type": "markdown",
   "metadata": {},
   "source": [
    "# Abstract"
   ]
  },
  {
   "cell_type": "markdown",
   "metadata": {},
   "source": [
    "Test candidates and discovery"
   ]
  },
  {
   "cell_type": "markdown",
   "metadata": {},
   "source": [
    "# Environment"
   ]
  },
  {
   "cell_type": "code",
   "execution_count": 1,
   "metadata": {},
   "outputs": [],
   "source": [
    "## Setup debugging log\n",
    "import logging\n",
    "\n",
    "logger = logging.getLogger(\"jwst.associations\")\n",
    "handler = logging.StreamHandler()\n",
    "logger.addHandler(handler)\n",
    "handler.setLevel(logging.INFO)\n",
    "logger.setLevel(logging.INFO)"
   ]
  },
  {
   "cell_type": "code",
   "execution_count": 2,
   "metadata": {},
   "outputs": [],
   "source": [
    "import pdb"
   ]
  },
  {
   "cell_type": "code",
   "execution_count": 3,
   "metadata": {},
   "outputs": [],
   "source": [
    "from jwst.associations.tests.helpers import (\n",
    "    combine_pools,\n",
    "    registry_level2_only,\n",
    "    registry_level3_only,\n",
    ")"
   ]
  },
  {
   "cell_type": "code",
   "execution_count": 4,
   "metadata": {},
   "outputs": [],
   "source": [
    "from jwst.associations.main import Main\n",
    "from jwst.associations import generate"
   ]
  },
  {
   "cell_type": "markdown",
   "metadata": {},
   "source": [
    "# Library"
   ]
  },
  {
   "cell_type": "markdown",
   "metadata": {},
   "source": [
    "# Main"
   ]
  },
  {
   "cell_type": "markdown",
   "metadata": {},
   "source": [
    "## One-liner pool"
   ]
  },
  {
   "cell_type": "code",
   "execution_count": 5,
   "metadata": {},
   "outputs": [],
   "source": [
    "pool_single = combine_pools(\"../data/pool_012_image_miri_single_exp.csv\")"
   ]
  },
  {
   "cell_type": "code",
   "execution_count": null,
   "metadata": {},
   "outputs": [],
   "source": [
    "pdb.run(\"registry_level3_only()\")"
   ]
  },
  {
   "cell_type": "code",
   "execution_count": 6,
   "metadata": {},
   "outputs": [],
   "source": [
    "rules_lv3 = registry_level3_only()"
   ]
  },
  {
   "cell_type": "code",
   "execution_count": 7,
   "metadata": {},
   "outputs": [
    {
     "data": {
      "text/plain": [
       "{'Asn_Image': abc.Asn_Image,\n",
       " 'Asn_MIRI_LRS_FIXEDSLIT': abc.Asn_MIRI_LRS_FIXEDSLIT,\n",
       " 'Asn_MIRI_LRS_SLITLESS': abc.Asn_MIRI_LRS_SLITLESS,\n",
       " 'Asn_NIS_SO_SLITLESS': abc.Asn_NIS_SO_SLITLESS,\n",
       " 'Asn_NRS_FIXEDSLIT': abc.Asn_NRS_FIXEDSLIT,\n",
       " 'Asn_NRS_MSA': abc.Asn_NRS_MSA,\n",
       " 'Asn_WFSCMB': abc.Asn_WFSCMB}"
      ]
     },
     "execution_count": 7,
     "metadata": {},
     "output_type": "execute_result"
    }
   ],
   "source": [
    "rules_lv3"
   ]
  },
  {
   "cell_type": "code",
   "execution_count": null,
   "metadata": {},
   "outputs": [],
   "source": [
    "names = [name for name in rules_lv3]"
   ]
  },
  {
   "cell_type": "code",
   "execution_count": null,
   "metadata": {},
   "outputs": [],
   "source": [
    "for name in names:\n",
    "    if name != \"Asn_Image\":\n",
    "        del rules_lv3[name]"
   ]
  },
  {
   "cell_type": "code",
   "execution_count": null,
   "metadata": {},
   "outputs": [],
   "source": [
    "rules_lv3"
   ]
  },
  {
   "cell_type": "code",
   "execution_count": 8,
   "metadata": {},
   "outputs": [],
   "source": [
    "asns = generate(pool_single, rules_lv3)"
   ]
  },
  {
   "cell_type": "code",
   "execution_count": 9,
   "metadata": {
    "scrolled": false
   },
   "outputs": [
    {
     "data": {
      "text/plain": [
       "[{\n",
       "     \"asn_type\": \"image3\",\n",
       "     \"asn_rule\": \"Asn_Image\",\n",
       "     \"version_id\": null,\n",
       "     \"code_version\": \"0.9.6\",\n",
       "     \"degraded_status\": \"No known degraded exposures in association.\",\n",
       "     \"program\": \"99009\",\n",
       "     \"constraints\": \"Constraint Unnamed with <function Constraint.all at 0x107061598> on:\\nConstraint Unnamed with <function Constraint.all at 0x107061598> on:\\nConstraint Unnamed with <function Constraint.all at 0x107061598> on:\\nLV3AttrConstraint({'value': '99009', 'name': 'program', 'sources': ['program'], 'evaluate': False, 'force_unique': False, 'force_undefined': False, 'invalid_values': (None, '', 'NULL', 'Null', 'null', '--', 'N', 'n', 'F', 'f'), 'onlyif': <function AttrConstraint.__init__.<locals>.<lambda> at 0x10915a488>, 'required': True, 'found_values': {'99009'}})LV3AttrConstraint({'value': 'miri', 'name': 'instrument', 'sources': ['instrume'], 'evaluate': False, 'force_unique': False, 'force_undefined': False, 'invalid_values': (None, '', 'NULL', 'Null', 'null', '--', 'N', 'n', 'F', 'f'), 'onlyif': <function AttrConstraint.__init__.<locals>.<lambda> at 0x10915a7b8>, 'required': True, 'found_values': {'miri'}})\\nConstraint Unnamed with <function Constraint.all at 0x107061598> on:\\nLV3AttrConstraint({'value': 'f560w', 'name': 'opt_elem', 'sources': ['filter'], 'evaluate': False, 'force_unique': False, 'force_undefined': False, 'invalid_values': (None, '', 'NULL', 'Null', 'null', '--', 'N', 'n', 'F', 'f'), 'onlyif': <function AttrConstraint.__init__.<locals>.<lambda> at 0x10915aae8>, 'required': True, 'found_values': {'f560w'}})LV3AttrConstraint({'value': None, 'name': 'opt_elem2', 'sources': ['pupil', 'grating'], 'evaluate': False, 'force_unique': True, 'force_undefined': False, 'invalid_values': (None, '', 'NULL', 'Null', 'null', '--', 'N', 'n', 'F', 'f'), 'onlyif': <function AttrConstraint.__init__.<locals>.<lambda> at 0x10915ab70>, 'required': False, 'found_values': set()})\\nLV3AttrConstraint({'value': '1', 'name': 'target', 'sources': ['targetid'], 'evaluate': False, 'force_unique': False, 'force_undefined': False, 'invalid_values': (None, '', 'NULL', 'Null', 'null', '--', 'N', 'n', 'F', 'f'), 'onlyif': <function AttrConstraint.__init__.<locals>.<lambda> at 0x10915abf8>, 'required': True, 'found_values': {'1'}})LV3AttrConstraint({'value': 'mir_image', 'name': 'exp_type', 'sources': ['exp_type'], 'evaluate': False, 'force_unique': False, 'force_undefined': False, 'invalid_values': (None, '', 'NULL', 'Null', 'null', '--', 'N', 'n', 'F', 'f'), 'onlyif': <function AttrConstraint.__init__.<locals>.<lambda> at 0x10915a840>, 'required': True, 'found_values': {'mir_image'}})LV3AttrConstraint({'value': 'prime_targeted_fixed', 'name': 'wfsvisit', 'sources': ['visitype'], 'evaluate': False, 'force_unique': False, 'force_undefined': False, 'invalid_values': (None, '', 'NULL', 'Null', 'null', '--', 'N', 'n', 'F', 'f'), 'onlyif': <function AttrConstraint.__init__.<locals>.<lambda> at 0x1090cc8c8>, 'required': False, 'found_values': {'prime_targeted_fixed'}})\\nConstraintTrue({'value': None, 'name': None})\\n\",\n",
       "     \"asn_id\": \"a3001\",\n",
       "     \"target\": \"t001\",\n",
       "     \"asn_pool\": \"pool_012_image_miri_single_exp\",\n",
       "     \"products\": [\n",
       "         {\n",
       "             \"name\": \"jw99009-a3001_t001_miri_f560w\",\n",
       "             \"members\": [\n",
       "                 {\n",
       "                     \"expname\": \"jw_00001_cal.fits\",\n",
       "                     \"exptype\": \"science\",\n",
       "                     \"exposerr\": null,\n",
       "                     \"asn_candidate\": \"[('o001', 'observation')]\"\n",
       "                 }\n",
       "             ]\n",
       "         }\n",
       "     ]\n",
       " }]"
      ]
     },
     "execution_count": 9,
     "metadata": {},
     "output_type": "execute_result"
    }
   ],
   "source": [
    "asns"
   ]
  },
  {
   "cell_type": "code",
   "execution_count": null,
   "metadata": {
    "scrolled": false
   },
   "outputs": [],
   "source": [
    "pdb.run(\"generate(pool_single, rules_lv3)\")"
   ]
  },
  {
   "cell_type": "code",
   "execution_count": null,
   "metadata": {},
   "outputs": [],
   "source": [
    "args_default = [\"--dry-run\"]"
   ]
  },
  {
   "cell_type": "code",
   "execution_count": null,
   "metadata": {},
   "outputs": [],
   "source": [
    "results = Main(args_default, pool=pool_single)"
   ]
  },
  {
   "cell_type": "code",
   "execution_count": null,
   "metadata": {},
   "outputs": [],
   "source": [
    "# Should only be the o001 and level2 associations\n",
    "\n",
    "assert len(results.associations) == 2"
   ]
  },
  {
   "cell_type": "code",
   "execution_count": null,
   "metadata": {
    "scrolled": false
   },
   "outputs": [],
   "source": [
    "results.associations"
   ]
  },
  {
   "cell_type": "markdown",
   "metadata": {},
   "source": [
    "## Try the candidate pool"
   ]
  },
  {
   "cell_type": "markdown",
   "metadata": {},
   "source": [
    "### Just discovered"
   ]
  },
  {
   "cell_type": "code",
   "execution_count": null,
   "metadata": {},
   "outputs": [],
   "source": [
    "pool_candidates = combine_pools(\"../data/pool_001_candidates.csv\")"
   ]
  },
  {
   "cell_type": "code",
   "execution_count": null,
   "metadata": {},
   "outputs": [],
   "source": [
    "disc_args = [\"--dry-run\", \"--discover\"]"
   ]
  },
  {
   "cell_type": "code",
   "execution_count": null,
   "metadata": {},
   "outputs": [],
   "source": [
    "disc_results = Main(disc_args, pool=pool_candidates)"
   ]
  },
  {
   "cell_type": "code",
   "execution_count": null,
   "metadata": {},
   "outputs": [],
   "source": [
    "len(disc_results.associations)"
   ]
  },
  {
   "cell_type": "code",
   "execution_count": null,
   "metadata": {
    "scrolled": false
   },
   "outputs": [],
   "source": [
    "disc_results.associations"
   ]
  },
  {
   "cell_type": "markdown",
   "metadata": {},
   "source": [
    "### Just candidates"
   ]
  },
  {
   "cell_type": "code",
   "execution_count": null,
   "metadata": {},
   "outputs": [],
   "source": [
    "cand_args = [\"--dry-run\", \"--all-candidates\"]"
   ]
  },
  {
   "cell_type": "code",
   "execution_count": null,
   "metadata": {},
   "outputs": [],
   "source": [
    "cand_results = Main(cand_args, pool=pool_candidates)"
   ]
  },
  {
   "cell_type": "code",
   "execution_count": null,
   "metadata": {},
   "outputs": [],
   "source": [
    "len(cand_results.associations)"
   ]
  },
  {
   "cell_type": "code",
   "execution_count": null,
   "metadata": {},
   "outputs": [],
   "source": [
    "cand_results.associations"
   ]
  },
  {
   "cell_type": "code",
   "execution_count": null,
   "metadata": {
    "scrolled": false
   },
   "outputs": [],
   "source": [
    "max_members = 0\n",
    "for asn in cand_results.associations:\n",
    "    max_members = max(max_members, len(asn[\"products\"][0][\"members\"]))\n",
    "max_members"
   ]
  },
  {
   "cell_type": "code",
   "execution_count": null,
   "metadata": {
    "scrolled": false
   },
   "outputs": [],
   "source": [
    "max_members = 0\n",
    "for asn in disc_results.associations:\n",
    "    max_members = max(max_members, len(asn[\"products\"][0][\"members\"]))\n",
    "max_members"
   ]
  },
  {
   "cell_type": "markdown",
   "metadata": {},
   "source": [
    "## Now the mega pool"
   ]
  },
  {
   "cell_type": "code",
   "execution_count": null,
   "metadata": {},
   "outputs": [],
   "source": [
    "pool_mega = combine_pools(\"../data/mega_pool.csv\")"
   ]
  },
  {
   "cell_type": "code",
   "execution_count": null,
   "metadata": {},
   "outputs": [],
   "source": [
    "mega_results = Main(args_default, pool=pool_mega)"
   ]
  },
  {
   "cell_type": "code",
   "execution_count": null,
   "metadata": {},
   "outputs": [],
   "source": [
    "len(mega_results.associations)"
   ]
  },
  {
   "cell_type": "code",
   "execution_count": null,
   "metadata": {
    "scrolled": true
   },
   "outputs": [],
   "source": [
    "mega_results.associations"
   ]
  },
  {
   "cell_type": "code",
   "execution_count": null,
   "metadata": {},
   "outputs": [],
   "source": []
  }
 ],
 "metadata": {
  "kernelspec": {
   "display_name": "Python 3",
   "language": "python",
   "name": "python3"
  },
  "language_info": {
   "codemirror_mode": {
    "name": "ipython",
    "version": 3
   },
   "file_extension": ".py",
   "mimetype": "text/x-python",
   "name": "python",
   "nbconvert_exporter": "python",
   "pygments_lexer": "ipython3",
   "version": "3.6.4"
  }
 },
 "nbformat": 4,
 "nbformat_minor": 2
}
