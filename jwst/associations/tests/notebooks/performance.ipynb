{
 "cells": [
  {
   "cell_type": "markdown",
   "metadata": {},
   "source": [
    "# Abstract"
   ]
  },
  {
   "cell_type": "markdown",
   "metadata": {},
   "source": [
    "Try out various performance checks and issues"
   ]
  },
  {
   "cell_type": "markdown",
   "metadata": {},
   "source": [
    "# Environment"
   ]
  },
  {
   "cell_type": "markdown",
   "metadata": {},
   "source": [
    "# Setup debugging log\n",
    "import logging\n",
    "logger = logging.getLogger('jwst.associations')\n",
    "handler = logging.StreamHandler()\n",
    "logger.addHandler(handler)\n",
    "handler.setLevel(logging.DEBUG)\n",
    "logger.setLevel(logging.DEBUG)"
   ]
  },
  {
   "cell_type": "code",
   "execution_count": 1,
   "metadata": {
    "collapsed": true
   },
   "outputs": [],
   "source": [
    "%load_ext line_profiler"
   ]
  },
  {
   "cell_type": "code",
   "execution_count": 2,
   "metadata": {
    "collapsed": true
   },
   "outputs": [],
   "source": [
    "import cProfile\n",
    "import pdb"
   ]
  },
  {
   "cell_type": "code",
   "execution_count": 3,
   "metadata": {},
   "outputs": [],
   "source": [
    "from jwst.associations.tests.helpers import (\n",
    "    combine_pools,\n",
    "    registry_level2_only,\n",
    "    registry_level3_only\n",
    ")"
   ]
  },
  {
   "cell_type": "code",
   "execution_count": 4,
   "metadata": {},
   "outputs": [],
   "source": [
    "from jwst.associations import (\n",
    "    AssociationRegistry,\n",
    "    AssociationPool,\n",
    "    generate\n",
    ")"
   ]
  },
  {
   "cell_type": "code",
   "execution_count": 5,
   "metadata": {
    "collapsed": true
   },
   "outputs": [],
   "source": [
    "from jwst.associations.main import (\n",
    "    constrain_on_candidates\n",
    ")"
   ]
  },
  {
   "cell_type": "markdown",
   "metadata": {},
   "source": [
    "# Library"
   ]
  },
  {
   "cell_type": "markdown",
   "metadata": {},
   "source": [
    "# Main"
   ]
  },
  {
   "cell_type": "markdown",
   "metadata": {},
   "source": [
    "## Timings"
   ]
  },
  {
   "cell_type": "markdown",
   "metadata": {},
   "source": [
    "### Dead simple: 1 row, 1 rule"
   ]
  },
  {
   "cell_type": "code",
   "execution_count": 6,
   "metadata": {},
   "outputs": [
    {
     "name": "stderr",
     "output_type": "stream",
     "text": [
      "/Users/eisenham/anaconda3/envs/asnopt_py3/lib/python3.5/site-packages/astropy/table/table.py:1301: StringTruncateWarning: truncated right side string(s) longer than 14 character(s) during assignment\n",
      "  col[item] = val\n"
     ]
    }
   ],
   "source": [
    "pool_one = combine_pools('data/pool_012_image_miri_single_exp.csv')"
   ]
  },
  {
   "cell_type": "code",
   "execution_count": 7,
   "metadata": {
    "collapsed": true
   },
   "outputs": [],
   "source": [
    "rules_lv3_imageonly = registry_level3_only()\n",
    "names = [name for name in rules_lv3_imageonly]\n",
    "for name in names:\n",
    "    if name != 'Asn_Image':\n",
    "        del rules_lv3_imageonly[name]"
   ]
  },
  {
   "cell_type": "code",
   "execution_count": 8,
   "metadata": {},
   "outputs": [
    {
     "name": "stdout",
     "output_type": "stream",
     "text": [
      "4.95 ms ± 254 µs per loop (mean ± std. dev. of 7 runs, 100 loops each)\n"
     ]
    }
   ],
   "source": [
    "run_1x1 = %timeit -o generate(pool_one, rules_lv3_imageonly)"
   ]
  },
  {
   "cell_type": "markdown",
   "metadata": {},
   "source": [
    "### One rule, full pool"
   ]
  },
  {
   "cell_type": "code",
   "execution_count": 9,
   "metadata": {
    "collapsed": true
   },
   "outputs": [],
   "source": [
    "pool_full = AssociationPool.read('data/mega_pool.csv')"
   ]
  },
  {
   "cell_type": "code",
   "execution_count": 10,
   "metadata": {},
   "outputs": [
    {
     "name": "stdout",
     "output_type": "stream",
     "text": [
      "52.8 ms ± 1.93 ms per loop (mean ± std. dev. of 7 runs, 10 loops each)\n"
     ]
    }
   ],
   "source": [
    "run_fullx1 = %timeit -o generate(pool_full, rules_lv3_imageonly)"
   ]
  },
  {
   "cell_type": "code",
   "execution_count": 11,
   "metadata": {},
   "outputs": [
    {
     "name": "stdout",
     "output_type": "stream",
     "text": [
      "Estimated run time = 0.5642257671103912\n"
     ]
    }
   ],
   "source": [
    "print('Estimated run time = {}'.format(\n",
    "    len(pool_full) * run_1x1.average)\n",
    ")"
   ]
  },
  {
   "cell_type": "code",
   "execution_count": 12,
   "metadata": {},
   "outputs": [
    {
     "name": "stdout",
     "output_type": "stream",
     "text": [
      "member/sec = 2160.219724969652\n"
     ]
    }
   ],
   "source": [
    "print('member/sec = {}'.format(\n",
    "    len(pool_full) / run_fullx1.average\n",
    "))"
   ]
  },
  {
   "cell_type": "markdown",
   "metadata": {},
   "source": [
    "### 1 row, full rules"
   ]
  },
  {
   "cell_type": "code",
   "execution_count": 13,
   "metadata": {
    "collapsed": true
   },
   "outputs": [],
   "source": [
    "rules_full = AssociationRegistry()"
   ]
  },
  {
   "cell_type": "code",
   "execution_count": 14,
   "metadata": {},
   "outputs": [
    {
     "name": "stdout",
     "output_type": "stream",
     "text": [
      "7.7 ms ± 303 µs per loop (mean ± std. dev. of 7 runs, 100 loops each)\n"
     ]
    }
   ],
   "source": [
    "run_1xfull = %timeit -o generate(pool_one, rules_full)"
   ]
  },
  {
   "cell_type": "code",
   "execution_count": 15,
   "metadata": {},
   "outputs": [
    {
     "name": "stdout",
     "output_type": "stream",
     "text": [
      "Processing time for member per rule = 0.0006418683954827776\n"
     ]
    }
   ],
   "source": [
    "print('Processing time for member per rule = {}'.format(\n",
    "     run_1xfull.average / len(rules_full)\n",
    "))"
   ]
  },
  {
   "cell_type": "code",
   "execution_count": 16,
   "metadata": {},
   "outputs": [
    {
     "name": "stdout",
     "output_type": "stream",
     "text": [
      "Rules/sec = 1557.951765560689\n"
     ]
    }
   ],
   "source": [
    "print('Rules/sec = {}'.format(\n",
    "    len(rules_full) / run_1xfull.average\n",
    "))"
   ]
  },
  {
   "cell_type": "markdown",
   "metadata": {},
   "source": [
    "### Full rules, Full pool"
   ]
  },
  {
   "cell_type": "code",
   "execution_count": 17,
   "metadata": {},
   "outputs": [
    {
     "name": "stdout",
     "output_type": "stream",
     "text": [
      "Predicted time = 6.770709205324694\n"
     ]
    }
   ],
   "source": [
    "print('Predicted time = {}'.format(\n",
    "    len(pool_full) * len(rules_full) * run_1x1.average\n",
    "))"
   ]
  },
  {
   "cell_type": "code",
   "execution_count": 18,
   "metadata": {},
   "outputs": [
    {
     "name": "stdout",
     "output_type": "stream",
     "text": [
      "1.49 s ± 87 ms per loop (mean ± std. dev. of 7 runs, 1 loop each)\n"
     ]
    }
   ],
   "source": [
    "run_fullxfull = %timeit -o generate(pool_full, rules_full)"
   ]
  },
  {
   "cell_type": "code",
   "execution_count": 19,
   "metadata": {},
   "outputs": [
    {
     "name": "stdout",
     "output_type": "stream",
     "text": [
      "member/rule per sec = 919.8918108919365\n"
     ]
    }
   ],
   "source": [
    "print('member/rule per sec = {}'.format(\n",
    "    len(pool_full) * len(rules_full) / run_fullxfull.average\n",
    "))"
   ]
  },
  {
   "cell_type": "code",
   "execution_count": 20,
   "metadata": {},
   "outputs": [],
   "source": [
    "asns, orphaned = generate(pool_full, rules_full)"
   ]
  },
  {
   "cell_type": "code",
   "execution_count": 21,
   "metadata": {},
   "outputs": [
    {
     "data": {
      "text/plain": [
       "13"
      ]
     },
     "execution_count": 21,
     "metadata": {},
     "output_type": "execute_result"
    }
   ],
   "source": [
    "len(asns)"
   ]
  },
  {
   "cell_type": "markdown",
   "metadata": {},
   "source": [
    "### Add constraint"
   ]
  },
  {
   "cell_type": "code",
   "execution_count": 22,
   "metadata": {},
   "outputs": [],
   "source": [
    "c_o001 = {'asn_candidate': constrain_on_candidates(['o001'])}"
   ]
  },
  {
   "cell_type": "markdown",
   "metadata": {},
   "source": [
    "#### 1 row, 1 rule"
   ]
  },
  {
   "cell_type": "code",
   "execution_count": 23,
   "metadata": {
    "collapsed": true
   },
   "outputs": [],
   "source": [
    "rules_lv3_imageonly_asnid = registry_level3_only(global_constraints=c_o001)\n",
    "names = [name for name in rules_lv3_imageonly_asnid]\n",
    "for name in names:\n",
    "    if name != 'Asn_Image':\n",
    "        del rules_lv3_imageonly_asnid[name]"
   ]
  },
  {
   "cell_type": "code",
   "execution_count": 24,
   "metadata": {},
   "outputs": [
    {
     "name": "stdout",
     "output_type": "stream",
     "text": [
      "4.88 ms ± 355 µs per loop (mean ± std. dev. of 7 runs, 100 loops each)\n"
     ]
    }
   ],
   "source": [
    "run_1x1_asnid = %timeit -o generate(pool_one, rules_lv3_imageonly_asnid)"
   ]
  },
  {
   "cell_type": "markdown",
   "metadata": {},
   "source": [
    "#### One rule, full pool"
   ]
  },
  {
   "cell_type": "code",
   "execution_count": 25,
   "metadata": {},
   "outputs": [
    {
     "name": "stdout",
     "output_type": "stream",
     "text": [
      "812 ms ± 25.7 ms per loop (mean ± std. dev. of 7 runs, 1 loop each)\n"
     ]
    }
   ],
   "source": [
    "run_fullx1_asnid = %timeit -o generate(pool_full, rules_lv3_imageonly_asnid)"
   ]
  },
  {
   "cell_type": "code",
   "execution_count": 26,
   "metadata": {},
   "outputs": [
    {
     "name": "stdout",
     "output_type": "stream",
     "text": [
      "member rule time = 0.007120552468648995\n"
     ]
    }
   ],
   "source": [
    "print('member rule time = {}'.format(\n",
    "    run_fullx1_asnid.average / len(pool_full)\n",
    "))"
   ]
  },
  {
   "cell_type": "code",
   "execution_count": 27,
   "metadata": {},
   "outputs": [
    {
     "name": "stdout",
     "output_type": "stream",
     "text": [
      "members/sec = 140.43854102654103\n"
     ]
    }
   ],
   "source": [
    "print ('members/sec = {}'.format(\n",
    "    len(pool_full) / run_fullx1_asnid.average\n",
    "))"
   ]
  },
  {
   "cell_type": "markdown",
   "metadata": {},
   "source": [
    "#### 1 row, full rules"
   ]
  },
  {
   "cell_type": "code",
   "execution_count": 28,
   "metadata": {
    "collapsed": true
   },
   "outputs": [],
   "source": [
    "rules_full_asnid = AssociationRegistry(global_constraints=c_o001)"
   ]
  },
  {
   "cell_type": "code",
   "execution_count": 29,
   "metadata": {},
   "outputs": [
    {
     "name": "stdout",
     "output_type": "stream",
     "text": [
      "7.86 ms ± 293 µs per loop (mean ± std. dev. of 7 runs, 100 loops each)\n"
     ]
    }
   ],
   "source": [
    "run_1xfull_asnid = %timeit -o generate(pool_one, rules_full_asnid)"
   ]
  },
  {
   "cell_type": "code",
   "execution_count": 44,
   "metadata": {},
   "outputs": [
    {
     "name": "stdout",
     "output_type": "stream",
     "text": [
      "member per rule = 0.000654883387265034\n"
     ]
    }
   ],
   "source": [
    "print('member per rule = {}'.format(\n",
    "    run_1xfull_asnid.average / len(rules_full_asnid)\n",
    "))"
   ]
  },
  {
   "cell_type": "code",
   "execution_count": 45,
   "metadata": {},
   "outputs": [
    {
     "name": "stdout",
     "output_type": "stream",
     "text": [
      "Rule/sec = 1526.9894143692727\n"
     ]
    }
   ],
   "source": [
    "print('Rule/sec = {}'.format(\n",
    "    len(rules_full_asnid) / run_1xfull_asnid.average\n",
    "))"
   ]
  },
  {
   "cell_type": "markdown",
   "metadata": {},
   "source": [
    "#### Full rules, Full pool"
   ]
  },
  {
   "cell_type": "code",
   "execution_count": 32,
   "metadata": {},
   "outputs": [
    {
     "name": "stdout",
     "output_type": "stream",
     "text": [
      "1.7 s ± 38.2 ms per loop (mean ± std. dev. of 7 runs, 1 loop each)\n"
     ]
    }
   ],
   "source": [
    "run_fullxfull_asnid = %timeit -o generate(pool_full, rules_full_asnid)"
   ]
  },
  {
   "cell_type": "code",
   "execution_count": 33,
   "metadata": {},
   "outputs": [
    {
     "name": "stdout",
     "output_type": "stream",
     "text": [
      "Full member rule processing = 0.0012414273922319475\n"
     ]
    }
   ],
   "source": [
    "print('Full member rule processing = {}'.format(\n",
    "    run_fullxfull_asnid.average / len(pool_full) / len(rules_full_asnid)\n",
    "))"
   ]
  },
  {
   "cell_type": "code",
   "execution_count": 34,
   "metadata": {},
   "outputs": [
    {
     "name": "stdout",
     "output_type": "stream",
     "text": [
      "member/rule per sec = 805.5243554776989\n"
     ]
    }
   ],
   "source": [
    "print('member/rule per sec = {}'.format(\n",
    "    len(pool_full) * len(rules_full_asnid) / run_fullxfull_asnid.average\n",
    "))"
   ]
  },
  {
   "cell_type": "code",
   "execution_count": 35,
   "metadata": {
    "collapsed": true
   },
   "outputs": [],
   "source": [
    "asns, orphaned = generate(pool_full, rules_full)"
   ]
  },
  {
   "cell_type": "markdown",
   "metadata": {},
   "source": [
    "## The most basic profile"
   ]
  },
  {
   "cell_type": "code",
   "execution_count": 36,
   "metadata": {
    "scrolled": true
   },
   "outputs": [
    {
     "name": "stderr",
     "output_type": "stream",
     "text": [
      "/Users/eisenham/anaconda3/envs/asnopt_py3/lib/python3.5/site-packages/astropy/table/table.py:1301: StringTruncateWarning: truncated right side string(s) longer than 14 character(s) during assignment\n",
      "  col[item] = val\n"
     ]
    }
   ],
   "source": [
    "pool = combine_pools('data/pool_012_image_miri_single_exp.csv')"
   ]
  },
  {
   "cell_type": "code",
   "execution_count": 37,
   "metadata": {},
   "outputs": [],
   "source": [
    "rules = registry_level3_only()"
   ]
  },
  {
   "cell_type": "code",
   "execution_count": 38,
   "metadata": {
    "scrolled": true
   },
   "outputs": [],
   "source": [
    "asns, orphaned = generate(pool, rules)"
   ]
  },
  {
   "cell_type": "code",
   "execution_count": 39,
   "metadata": {
    "scrolled": true
   },
   "outputs": [
    {
     "name": "stdout",
     "output_type": "stream",
     "text": [
      "         16183 function calls (14872 primitive calls) in 0.009 seconds\n",
      "\n",
      "   Ordered by: standard name\n",
      "\n",
      "   ncalls  tottime  percall  cumtime  percall filename:lineno(function)\n",
      "        1    0.000    0.000    0.009    0.009 <string>:1(<module>)\n",
      "       24    0.000    0.000    0.000    0.000 <string>:12(__new__)\n",
      "       25    0.000    0.000    0.000    0.000 __init__.py:1258(debug)\n",
      "       25    0.000    0.000    0.000    0.000 __init__.py:1502(getEffectiveLevel)\n",
      "       25    0.000    0.000    0.000    0.000 __init__.py:1516(isEnabledFor)\n",
      "        6    0.000    0.000    0.000    0.000 __init__.py:1841(debug)\n",
      "        1    0.000    0.000    0.000    0.000 __init__.py:243(load)\n",
      "        1    0.000    0.000    0.000    0.000 __init__.py:271(loads)\n",
      "        1    0.000    0.000    0.000    0.000 _bootlocale.py:23(getpreferredencoding)\n",
      "        1    0.000    0.000    0.000    0.000 _collections_abc.py:594(get)\n",
      "        2    0.000    0.000    0.000    0.000 _collections_abc.py:613(items)\n",
      "        2    0.000    0.000    0.000    0.000 _collections_abc.py:633(__init__)\n",
      "        6    0.000    0.000    0.000    0.000 _collections_abc.py:677(__iter__)\n",
      "        2    0.000    0.000    0.000    0.000 _collections_abc.py:758(update)\n",
      "        1    0.000    0.000    0.000    0.000 _utils.py:122(types_msg)\n",
      "       11    0.000    0.000    0.000    0.000 _utils.py:15(normalize)\n",
      "       62    0.000    0.000    0.000    0.000 _utils.py:165(ensure_list)\n",
      "        7    0.000    0.000    0.000    0.000 _utils.py:178(unbool)\n",
      "        2    0.000    0.000    0.000    0.000 _utils.py:18(__init__)\n",
      "        3    0.000    0.000    0.000    0.000 _utils.py:191(uniq)\n",
      "       10    0.000    0.000    0.000    0.000 _utils.py:202(<genexpr>)\n",
      "        9    0.000    0.000    0.000    0.000 _utils.py:22(__getitem__)\n",
      "        2    0.000    0.000    0.000    0.000 _utils.py:25(__setitem__)\n",
      "        2    0.000    0.000    0.000    0.000 _utils.py:31(__iter__)\n",
      "       15    0.000    0.000    0.000    0.000 _utils.py:89(find_additional_properties)\n",
      "        4    0.000    0.000    0.000    0.000 _validators.py:133(minItems)\n",
      "        3    0.000    0.000    0.000    0.000 _validators.py:143(uniqueItems)\n",
      "        1    0.000    0.000    0.000    0.000 _validators.py:160(format)\n",
      "       17    0.000    0.000    0.000    0.000 _validators.py:178(dependencies)\n",
      "       16    0.000    0.000    0.000    0.000 _validators.py:200(enum)\n",
      "    36/10    0.000    0.000    0.001    0.000 _validators.py:205(ref)\n",
      "      3/1    0.000    0.000    0.001    0.001 _validators.py:21(additionalProperties)\n",
      "       63    0.000    0.000    0.000    0.000 _validators.py:287(type_draft4)\n",
      "      124    0.000    0.000    0.000    0.000 _validators.py:290(<genexpr>)\n",
      "     20/2    0.000    0.000    0.001    0.001 _validators.py:294(properties_draft4)\n",
      "        3    0.000    0.000    0.000    0.000 _validators.py:309(required_draft4)\n",
      "    19/12    0.000    0.000    0.001    0.000 _validators.py:361(anyOf_draft4)\n",
      "      6/5    0.000    0.000    0.000    0.000 _validators.py:49(items)\n",
      "       68    0.000    0.000    0.000    0.000 _weakrefset.py:70(__contains__)\n",
      "       58    0.000    0.000    0.000    0.000 abc.py:178(__instancecheck__)\n",
      "        2    0.000    0.000    0.000    0.000 acid.py:44(__init__)\n",
      "        9    0.000    0.000    0.000    0.000 acid.py:56(__init__)\n",
      "        2    0.000    0.000    0.000    0.000 acid.py:63(acid_from_constraints)\n",
      "        9    0.000    0.000    0.002    0.000 association.py:112(create)\n",
      "        9    0.000    0.000    0.000    0.000 association.py:143(_asn_rule)\n",
      "        9    0.000    0.000    0.000    0.000 association.py:147(asn_rule)\n",
      "        1    0.000    0.000    0.002    0.002 association.py:151(validate)\n",
      "        1    0.000    0.000    0.002    0.002 association.py:298(is_valid)\n",
      "        9    0.000    0.000    0.002    0.000 association.py:307(add)\n",
      "        9    0.000    0.000    0.002    0.000 association.py:337(test_and_set_constraints)\n",
      "       20    0.000    0.000    0.001    0.000 association.py:377(match_member)\n",
      "       48    0.000    0.000    0.000    0.000 association.py:504(add_constraints)\n",
      "        9    0.000    0.000    0.000    0.000 association.py:515(constraints_to_text)\n",
      "        1    0.000    0.000    0.000    0.000 association.py:523(_init_hook)\n",
      "        1    0.000    0.000    0.000    0.000 association.py:567(__len__)\n",
      "        1    0.000    0.000    0.000    0.000 association.py:595(__init__)\n",
      "       10    0.000    0.000    0.000    0.000 association.py:603(meets_conditions)\n",
      "       20    0.000    0.000    0.000    0.000 association.py:640(getattr_from_list)\n",
      "       16    0.000    0.000    0.000    0.000 association.py:685(evaluate)\n",
      "       26    0.000    0.000    0.000    0.000 association.py:706(is_iterable)\n",
      "        9    0.000    0.000    0.000    0.000 association.py:93(__init__)\n",
      "       16    0.000    0.000    0.000    0.000 ast.py:30(parse)\n",
      "       18    0.000    0.000    0.000    0.000 ast.py:38(literal_eval)\n",
      "       18    0.000    0.000    0.000    0.000 ast.py:49(_convert)\n",
      "        1    0.000    0.000    0.002    0.002 callback_registry.py:18(filter)\n",
      "        1    0.000    0.000    0.000    0.000 codecs.py:259(__init__)\n",
      "        1    0.000    0.000    0.000    0.000 codecs.py:308(__init__)\n",
      "        1    0.000    0.000    0.000    0.000 codecs.py:318(decode)\n",
      "       47    0.000    0.000    0.000    0.000 column.py:173(parent_table)\n",
      "       94    0.000    0.000    0.000    0.000 column.py:180(parent_table)\n",
      "       47    0.000    0.000    0.003    0.000 column.py:280(__array_finalize__)\n",
      "      141    0.000    0.000    0.000    0.000 column.py:324(name)\n",
      "       47    0.000    0.000    0.000    0.000 column.py:331(name)\n",
      "       47    0.000    0.000    0.000    0.000 column.py:502(unit)\n",
      "       47    0.000    0.000    0.000    0.000 column.py:513(unit)\n",
      "       47    0.000    0.000    0.002    0.000 column.py:632(_copy_attrs)\n",
      "  611/376    0.001    0.000    0.002    0.000 column.py:721(__setattr__)\n",
      "       14    0.000    0.000    0.000    0.000 compat.py:39(urlsplit)\n",
      "        4    0.000    0.000    0.000    0.000 compat.py:46(urldefrag)\n",
      "  634/113    0.001    0.000    0.002    0.000 copy.py:137(deepcopy)\n",
      "      315    0.000    0.000    0.000    0.000 copy.py:192(_deepcopy_atomic)\n",
      "       56    0.000    0.000    0.000    0.000 copy.py:214(_deepcopy_list)\n",
      "       95    0.000    0.000    0.000    0.000 copy.py:222(_deepcopy_tuple)\n",
      "       95    0.000    0.000    0.000    0.000 copy.py:223(<listcomp>)\n",
      "    73/18    0.000    0.000    0.001    0.000 copy.py:239(_deepcopy_dict)\n",
      "      224    0.000    0.000    0.000    0.000 copy.py:253(_keep_alive)\n",
      "       95    0.000    0.000    0.001    0.000 copy.py:269(_reconstruct)\n",
      "        2    0.000    0.000    0.000    0.000 counter.py:11(__next__)\n",
      "       10    0.000    0.000    0.000    0.000 counter.py:3(__init__)\n",
      "       47    0.000    0.000    0.000    0.000 data_info.py:191(__init__)\n",
      "      423    0.000    0.000    0.000    0.000 data_info.py:195(<genexpr>)\n",
      "      282    0.000    0.000    0.001    0.000 data_info.py:197(__get__)\n",
      "      141    0.000    0.000    0.000    0.000 data_info.py:228(__getattr__)\n",
      "      470    0.001    0.000    0.001    0.000 data_info.py:250(__setattr__)\n",
      "        1    0.000    0.000    0.000    0.000 decoder.py:334(decode)\n",
      "        1    0.000    0.000    0.000    0.000 decoder.py:345(raw_decode)\n",
      "        1    0.000    0.000    0.000    0.000 dms_base.py:100(new_product)\n",
      "        1    0.000    0.000    0.000    0.000 dms_base.py:111(update_validity)\n",
      "        1    0.000    0.000    0.002    0.002 dms_base.py:116(validate)\n",
      "        2    0.000    0.000    0.000    0.000 dms_base.py:124(<genexpr>)\n",
      "        9    0.000    0.000    0.002    0.000 dms_base.py:25(create)\n",
      "        2    0.000    0.000    0.000    0.000 dms_base.py:52(acid)\n",
      "       11    0.000    0.000    0.000    0.000 dms_base.py:81(validity)\n",
      "        1    0.000    0.000    0.000    0.000 exceptions.py:114(_set)\n",
      "        1    0.000    0.000    0.000    0.000 exceptions.py:12(__init__)\n",
      "        1    0.000    0.000    0.000    0.000 exceptions.py:17(__init__)\n",
      "        4    0.000    0.000    0.000    0.000 functools.py:391(lru_cache)\n",
      "        4    0.000    0.000    0.000    0.000 functools.py:422(decorating_function)\n",
      "        4    0.000    0.000    0.000    0.000 functools.py:43(update_wrapper)\n",
      "        1    0.000    0.000    0.000    0.000 generate.py:124(<listcomp>)\n",
      "        1    0.000    0.000    0.000    0.000 generate.py:133(<listcomp>)\n",
      "        1    0.000    0.000    0.000    0.000 generate.py:145(match_member)\n",
      "        1    0.000    0.000    0.009    0.009 generate.py:15(generate)\n",
      "        1    0.000    0.000    0.000    0.000 generate.py:53(<listcomp>)\n",
      "        1    0.000    0.000    0.002    0.002 generate.py:79(generate_from_member)\n",
      "       51    0.000    0.000    0.000    0.000 metadata.py:378(__get__)\n",
      "       48    0.000    0.000    0.001    0.000 metadata.py:385(__set__)\n",
      "       47    0.000    0.000    0.000    0.000 np_utils.py:163(fix_column_name)\n",
      "      112    0.000    0.000    0.000    0.000 parse.py:101(_coerce_args)\n",
      "       11    0.000    0.000    0.000    0.000 parse.py:248(geturl)\n",
      "       24    0.000    0.000    0.000    0.000 parse.py:289(urlparse)\n",
      "       38    0.000    0.000    0.000    0.000 parse.py:322(urlsplit)\n",
      "       12    0.000    0.000    0.000    0.000 parse.py:378(urlunparse)\n",
      "       26    0.000    0.000    0.000    0.000 parse.py:389(urlunsplit)\n",
      "       12    0.000    0.000    0.000    0.000 parse.py:408(urljoin)\n",
      "        3    0.000    0.000    0.000    0.000 parse.py:528(unquote)\n",
      "      112    0.000    0.000    0.000    0.000 parse.py:90(_noop)\n",
      "        1    0.000    0.000    0.000    0.000 posixpath.py:136(basename)\n",
      "        1    0.000    0.000    0.000    0.000 posixpath.py:39(_get_sep)\n",
      "       11    0.000    0.000    0.000    0.000 re.py:160(match)\n",
      "        1    0.000    0.000    0.000    0.000 re.py:170(search)\n",
      "        9    0.000    0.000    0.000    0.000 re.py:240(escape)\n",
      "       12    0.000    0.000    0.000    0.000 re.py:278(_compile)\n",
      "        1    0.000    0.000    0.002    0.002 registry.py:120(match)\n",
      "        1    0.000    0.000    0.002    0.002 registry.py:270(finalize)\n",
      "        1    0.000    0.000    0.000    0.000 row.py:149(meta)\n",
      "        2    0.000    0.000    0.000    0.000 row.py:35(__init__)\n",
      "       27    0.000    0.000    0.000    0.000 row.py:44(__getitem__)\n",
      "        1    0.000    0.000    0.000    0.000 row.py:88(index)\n",
      "        1    0.000    0.000    0.000    0.000 rules_level2_base.py:355(finalize)\n",
      "        1    0.000    0.000    0.000    0.000 rules_level2_base.py:388(merge_asns)\n",
      "        1    0.000    0.000    0.000    0.000 rules_level2_base.py:422(<listcomp>)\n",
      "        1    0.000    0.000    0.000    0.000 rules_level3.py:103(__init__)\n",
      "        1    0.000    0.000    0.000    0.000 rules_level3.py:133(__init__)\n",
      "        1    0.000    0.000    0.000    0.000 rules_level3.py:163(__init__)\n",
      "        1    0.000    0.000    0.000    0.000 rules_level3.py:199(__init__)\n",
      "        1    0.000    0.000    0.000    0.000 rules_level3.py:237(__init__)\n",
      "        1    0.000    0.000    0.000    0.000 rules_level3.py:267(__init__)\n",
      "        1    0.000    0.000    0.000    0.000 rules_level3.py:309(__init__)\n",
      "        1    0.000    0.000    0.000    0.000 rules_level3.py:39(__init__)\n",
      "        1    0.000    0.000    0.000    0.000 rules_level3.py:64(__init__)\n",
      "        1    0.000    0.000    0.000    0.000 rules_level3_base.py:107(<lambda>)\n",
      "        1    0.000    0.000    0.000    0.000 rules_level3_base.py:130(current_product)\n",
      "        1    0.000    0.000    0.000    0.000 rules_level3_base.py:150(dms_product_name)\n",
      "        1    0.000    0.000    0.000    0.000 rules_level3_base.py:176(_init_hook)\n",
      "        1    0.000    0.000    0.000    0.000 rules_level3_base.py:189(<listcomp>)\n",
      "        1    0.000    0.000    0.000    0.000 rules_level3_base.py:204(_add)\n",
      "        1    0.000    0.000    0.000    0.000 rules_level3_base.py:230(_get_target)\n",
      "        1    0.000    0.000    0.000    0.000 rules_level3_base.py:245(_get_instrument)\n",
      "        1    0.000    0.000    0.000    0.000 rules_level3_base.py:257(_get_opt_element)\n",
      "        1    0.000    0.000    0.000    0.000 rules_level3_base.py:289(_get_exposure)\n",
      "        1    0.000    0.000    0.000    0.000 rules_level3_base.py:390(resequence)\n",
      "        1    0.000    0.000    0.000    0.000 rules_level3_base.py:393(<lambda>)\n",
      "        1    0.000    0.000    0.000    0.000 rules_level3_base.py:399(rename_to_level2b)\n",
      "        1    0.000    0.000    0.000    0.000 rules_level3_base.py:454(get_exposure_type)\n",
      "        1    0.000    0.000    0.002    0.002 rules_level3_base.py:490(finalize)\n",
      "        9    0.000    0.000    0.000    0.000 rules_level3_base.py:532(__init__)\n",
      "        3    0.000    0.000    0.000    0.000 rules_level3_base.py:552(__init__)\n",
      "        9    0.000    0.000    0.000    0.000 rules_level3_base.py:572(__init__)\n",
      "        3    0.000    0.000    0.000    0.000 rules_level3_base.py:589(__init__)\n",
      "        3    0.000    0.000    0.000    0.000 rules_level3_base.py:606(__init__)\n",
      "        1    0.000    0.000    0.000    0.000 rules_level3_base.py:623(__init__)\n",
      "        2    0.000    0.000    0.000    0.000 rules_level3_base.py:657(__init__)\n",
      "        1    0.000    0.000    0.000    0.000 rules_level3_base.py:669(_init_hook)\n",
      "        9    0.000    0.000    0.000    0.000 rules_level3_base.py:98(__init__)\n",
      "       48    0.000    0.000    0.000    0.000 six.py:580(iteritems)\n",
      "        3    0.000    0.000    0.005    0.002 table.py:1188(__getitem__)\n",
      "       47    0.000    0.000    0.000    0.000 table.py:123(__setitem__)\n",
      "       48    0.000    0.000    0.000    0.000 table.py:1342(masked)\n",
      "        1    0.000    0.000    0.000    0.000 table.py:1351(_set_masked)\n",
      "        4    0.000    0.000    0.000    0.000 table.py:1400(__len__)\n",
      "      192    0.000    0.000    0.000    0.000 table.py:1404(<genexpr>)\n",
      "        5    0.000    0.000    0.000    0.000 table.py:150(values)\n",
      "        1    0.000    0.000    0.000    0.000 table.py:251(__init__)\n",
      "        1    0.000    0.000    0.005    0.005 table.py:740(_new_from_slice)\n",
      "        1    0.000    0.000    0.001    0.001 table.py:761(_make_table_from_cols)\n",
      "       48    0.000    0.000    0.001    0.000 table.py:766(<genexpr>)\n",
      "       48    0.000    0.000    0.000    0.000 table.py:772(<genexpr>)\n",
      "        2    0.000    0.000    0.000    0.000 table.py:86(__init__)\n",
      "       27    0.000    0.000    0.000    0.000 table.py:99(__getitem__)\n",
      "   132/14    0.000    0.000    0.001    0.000 validators.py:120(descend)\n",
      "        1    0.000    0.000    0.000    0.000 validators.py:128(validate)\n",
      "      127    0.000    0.000    0.000    0.000 validators.py:132(is_type)\n",
      "        2    0.000    0.000    0.000    0.000 validators.py:271(__init__)\n",
      "        6    0.000    0.000    0.000    0.000 validators.py:292(<genexpr>)\n",
      "        2    0.000    0.000    0.000    0.000 validators.py:301(from_schema)\n",
      "       53    0.000    0.000    0.000    0.000 validators.py:320(push_scope)\n",
      "       53    0.000    0.000    0.000    0.000 validators.py:325(pop_scope)\n",
      "       89    0.000    0.000    0.000    0.000 validators.py:335(resolution_scope)\n",
      "       36    0.000    0.000    0.000    0.000 validators.py:373(resolve)\n",
      "        4    0.000    0.000    0.000    0.000 validators.py:377(resolve_from_url)\n",
      "        4    0.000    0.000    0.000    0.000 validators.py:389(resolve_fragment)\n",
      "        1    0.000    0.000    0.000    0.000 validators.py:481(validator_for)\n",
      "        1    0.000    0.000    0.002    0.002 validators.py:487(validate)\n",
      "        2    0.000    0.000    0.000    0.000 validators.py:67(__init__)\n",
      "        1    0.000    0.000    0.001    0.001 validators.py:80(check_schema)\n",
      "    134/2    0.000    0.000    0.002    0.001 validators.py:85(iter_errors)\n",
      "       38    0.000    0.000    0.000    0.000 {built-in method __new__ of type object at 0x10643cf30}\n",
      "        1    0.000    0.000    0.000    0.000 {built-in method _codecs.utf_8_decode}\n",
      "        1    0.000    0.000    0.000    0.000 {built-in method _locale.nl_langinfo}\n",
      "        1    0.000    0.000    0.000    0.000 {built-in method builtins.all}\n",
      "       62    0.000    0.000    0.000    0.000 {built-in method builtins.any}\n",
      "       47    0.000    0.000    0.000    0.000 {built-in method builtins.callable}\n",
      "       16    0.000    0.000    0.000    0.000 {built-in method builtins.compile}\n",
      "        1    0.000    0.000    0.009    0.009 {built-in method builtins.exec}\n",
      "     1104    0.000    0.000    0.000    0.000 {built-in method builtins.getattr}\n",
      "      106    0.000    0.000    0.000    0.000 {built-in method builtins.hasattr}\n",
      "     1290    0.000    0.000    0.000    0.000 {built-in method builtins.id}\n",
      "     2150    0.000    0.000    0.000    0.000 {built-in method builtins.isinstance}\n",
      "      142    0.000    0.000    0.000    0.000 {built-in method builtins.issubclass}\n",
      "       50    0.000    0.000    0.000    0.000 {built-in method builtins.iter}\n",
      "  319/123    0.000    0.000    0.000    0.000 {built-in method builtins.len}\n",
      "        2    0.000    0.000    0.000    0.000 {built-in method builtins.next}\n",
      "       16    0.000    0.000    0.000    0.000 {built-in method builtins.repr}\n",
      "      259    0.000    0.000    0.001    0.000 {built-in method builtins.setattr}\n",
      "        1    0.000    0.000    0.000    0.000 {built-in method io.open}\n",
      "        1    0.000    0.000    0.000    0.000 {built-in method numpy.core.multiarray.zeros}\n",
      "       95    0.000    0.000    0.000    0.000 {method '__reduce_ex__' of 'object' objects}\n",
      "        1    0.000    0.000    0.000    0.000 {method 'add' of 'set' objects}\n",
      "      290    0.000    0.000    0.000    0.000 {method 'append' of 'list' objects}\n",
      "        2    0.000    0.000    0.000    0.000 {method 'appendleft' of 'collections.deque' objects}\n",
      "        1    0.000    0.000    0.000    0.000 {method 'clear' of 'collections.OrderedDict' objects}\n",
      "        1    0.000    0.000    0.000    0.000 {method 'disable' of '_lsprof.Profiler' objects}\n",
      "        2    0.000    0.000    0.000    0.000 {method 'end' of '_sre.SRE_Match' objects}\n",
      "       33    0.000    0.000    0.000    0.000 {method 'extend' of 'list' objects}\n",
      "       36    0.000    0.000    0.000    0.000 {method 'format' of 'str' objects}\n",
      "     2384    0.000    0.000    0.000    0.000 {method 'get' of 'dict' objects}\n",
      "        3    0.000    0.000    0.000    0.000 {method 'group' of '_sre.SRE_Match' objects}\n",
      "      138    0.000    0.000    0.000    0.000 {method 'items' of 'dict' objects}\n",
      "       25    0.000    0.000    0.000    0.000 {method 'join' of 'str' objects}\n",
      "        1    0.000    0.000    0.000    0.000 {method 'lower' of 'str' objects}\n",
      "        4    0.000    0.000    0.000    0.000 {method 'lstrip' of 'str' objects}\n",
      "       13    0.000    0.000    0.000    0.000 {method 'match' of '_sre.SRE_Pattern' objects}\n",
      "       53    0.000    0.000    0.000    0.000 {method 'pop' of 'list' objects}\n",
      "        4    0.000    0.000    0.000    0.000 {method 'pop' of 'set' objects}\n",
      "        1    0.000    0.000    0.000    0.000 {method 'read' of '_io.TextIOWrapper' objects}\n",
      "       12    0.000    0.000    0.000    0.000 {method 'replace' of 'str' objects}\n",
      "        1    0.000    0.000    0.000    0.000 {method 'rfind' of 'str' objects}\n",
      "        1    0.000    0.000    0.000    0.000 {method 'search' of '_sre.SRE_Pattern' objects}\n",
      "        4    0.000    0.000    0.000    0.000 {method 'split' of 'str' objects}\n",
      "      565    0.000    0.000    0.000    0.000 {method 'startswith' of 'str' objects}\n",
      "        1    0.000    0.000    0.000    0.000 {method 'update' of 'collections.OrderedDict' objects}\n",
      "       26    0.000    0.000    0.000    0.000 {method 'update' of 'dict' objects}\n",
      "        2    0.000    0.000    0.000    0.000 {method 'values' of 'dict' objects}\n",
      "\n",
      "\n"
     ]
    }
   ],
   "source": [
    "cProfile.run('asns, orphaned = generate(pool, rules)')"
   ]
  },
  {
   "cell_type": "code",
   "execution_count": 40,
   "metadata": {},
   "outputs": [
    {
     "data": {
      "text/plain": [
       "[{\n",
       "     \"asn_rule\": \"Asn_Image\",\n",
       "     \"code_version\": \"0.7.1.beta2\",\n",
       "     \"degraded_status\": \"No known degraded exposures in association.\",\n",
       "     \"products\": [\n",
       "         {\n",
       "             \"members\": [\n",
       "                 {\n",
       "                     \"exposerr\": null,\n",
       "                     \"expname\": \"jw_00001_cal.fits\",\n",
       "                     \"asn_candidate\": \"[('o001', 'OBSERVATION')]\",\n",
       "                     \"exptype\": \"SCIENCE\"\n",
       "                 }\n",
       "             ],\n",
       "             \"name\": \"jw99009-a3001_t001_miri_f560w\"\n",
       "         }\n",
       "     ],\n",
       "     \"target\": \"1\",\n",
       "     \"asn_type\": \"image3\",\n",
       "     \"version_id\": null,\n",
       "     \"program\": \"99009\",\n",
       "     \"asn_id\": \"a3001\",\n",
       "     \"asn_pool\": \"pool_012_image_miri_single_exp\",\n",
       "     \"constraints\": \"Constraints:\\n    exp_type: MIR_IMAGE\\n    opt_elem2: None\\n    wfsvisit: Is Invalid\\n    program: 99009\\n    target: 1\\n    opt_elem: F560W\\n    instrument: MIRI\"\n",
       " }]"
      ]
     },
     "execution_count": 40,
     "metadata": {},
     "output_type": "execute_result"
    }
   ],
   "source": [
    "asns"
   ]
  },
  {
   "cell_type": "markdown",
   "metadata": {},
   "source": [
    "## Full script profile"
   ]
  },
  {
   "cell_type": "code",
   "execution_count": 41,
   "metadata": {},
   "outputs": [
    {
     "name": "stdout",
     "output_type": "stream",
     "text": [
      " "
     ]
    }
   ],
   "source": [
    "%prun generate(pool_full, rules_full)"
   ]
  },
  {
   "cell_type": "markdown",
   "metadata": {},
   "source": [
    "## Full line profile"
   ]
  },
  {
   "cell_type": "code",
   "execution_count": 42,
   "metadata": {
    "collapsed": true
   },
   "outputs": [],
   "source": [
    "from jwst.associations import Association"
   ]
  },
  {
   "cell_type": "code",
   "execution_count": 43,
   "metadata": {},
   "outputs": [],
   "source": [
    "%lprun -f Association.match_member generate(pool_full, rules_full)"
   ]
  },
  {
   "cell_type": "code",
   "execution_count": null,
   "metadata": {
    "collapsed": true
   },
   "outputs": [],
   "source": []
  }
 ],
 "metadata": {
  "kernelspec": {
   "display_name": "Python 3",
   "language": "python",
   "name": "python3"
  },
  "language_info": {
   "codemirror_mode": {
    "name": "ipython",
    "version": 3
   },
   "file_extension": ".py",
   "mimetype": "text/x-python",
   "name": "python",
   "nbconvert_exporter": "python",
   "pygments_lexer": "ipython3",
   "version": "3.5.3"
  }
 },
 "nbformat": 4,
 "nbformat_minor": 2
}
