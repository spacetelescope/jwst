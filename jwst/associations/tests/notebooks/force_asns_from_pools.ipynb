{
 "cells": [
  {
   "cell_type": "markdown",
   "metadata": {},
   "source": [
    "# Abstract"
   ]
  },
  {
   "cell_type": "markdown",
   "metadata": {},
   "source": [
    "Shortcut association creation to create test associations from pools"
   ]
  },
  {
   "cell_type": "markdown",
   "metadata": {},
   "source": [
    "# Environment"
   ]
  },
  {
   "cell_type": "code",
   "execution_count": 18,
   "metadata": {},
   "outputs": [],
   "source": [
    "from jwst.associations import AssociationPool\n",
    "from jwst.associations.load_as_asn import LoadAsLevel2Asn\n",
    "from jwst.stpipe.suffix import remove_suffix"
   ]
  },
  {
   "cell_type": "markdown",
   "metadata": {},
   "source": [
    "# Library"
   ]
  },
  {
   "cell_type": "markdown",
   "metadata": {},
   "source": [
    "# Main"
   ]
  },
  {
   "cell_type": "code",
   "execution_count": 2,
   "metadata": {},
   "outputs": [],
   "source": [
    "pool = AssociationPool.read(\"../data/sdp/pools/jw96215_20180602T170215_pool.csv\")"
   ]
  },
  {
   "cell_type": "code",
   "execution_count": 3,
   "metadata": {},
   "outputs": [
    {
     "data": {
      "text/html": [
       "&lt;Column name=&apos;filename&apos; dtype=&apos;str41&apos; length=12&gt;\n",
       "<table>\n",
       "<tr><td>jw96215001001_02107_00001_nrs1_uncal.fits</td></tr>\n",
       "<tr><td>jw96215001001_02105_00001_nrs2_uncal.fits</td></tr>\n",
       "<tr><td>jw96215001001_02105_00001_nrs1_uncal.fits</td></tr>\n",
       "<tr><td>jw96215001001_02104_00001_nrs2_uncal.fits</td></tr>\n",
       "<tr><td>jw96215001001_02104_00001_nrs1_uncal.fits</td></tr>\n",
       "<tr><td>jw96215001001_02106_00001_nrs2_uncal.fits</td></tr>\n",
       "<tr><td>jw96215001001_02102_00001_nrs2_uncal.fits</td></tr>\n",
       "<tr><td>jw96215001001_02103_00001_nrs1_uncal.fits</td></tr>\n",
       "<tr><td>jw96215001001_02106_00001_nrs1_uncal.fits</td></tr>\n",
       "<tr><td>jw96215001001_02107_00001_nrs2_uncal.fits</td></tr>\n",
       "<tr><td>jw96215001001_02103_00001_nrs2_uncal.fits</td></tr>\n",
       "<tr><td>jw96215001001_02102_00001_nrs1_uncal.fits</td></tr>\n",
       "</table>"
      ],
      "text/plain": [
       "<Column name='filename' dtype='str41' length=12>\n",
       "jw96215001001_02107_00001_nrs1_uncal.fits\n",
       "jw96215001001_02105_00001_nrs2_uncal.fits\n",
       "jw96215001001_02105_00001_nrs1_uncal.fits\n",
       "jw96215001001_02104_00001_nrs2_uncal.fits\n",
       "jw96215001001_02104_00001_nrs1_uncal.fits\n",
       "jw96215001001_02106_00001_nrs2_uncal.fits\n",
       "jw96215001001_02102_00001_nrs2_uncal.fits\n",
       "jw96215001001_02103_00001_nrs1_uncal.fits\n",
       "jw96215001001_02106_00001_nrs1_uncal.fits\n",
       "jw96215001001_02107_00001_nrs2_uncal.fits\n",
       "jw96215001001_02103_00001_nrs2_uncal.fits\n",
       "jw96215001001_02102_00001_nrs1_uncal.fits"
      ]
     },
     "execution_count": 3,
     "metadata": {},
     "output_type": "execute_result"
    }
   ],
   "source": [
    "pool[\"filename\"]"
   ]
  },
  {
   "cell_type": "code",
   "execution_count": 13,
   "metadata": {},
   "outputs": [
    {
     "data": {
      "text/plain": [
       "['jw96215001001_02107_00001_nrs1_uncal.fits',\n",
       " 'jw96215001001_02105_00001_nrs2_uncal.fits',\n",
       " 'jw96215001001_02105_00001_nrs1_uncal.fits',\n",
       " 'jw96215001001_02104_00001_nrs2_uncal.fits',\n",
       " 'jw96215001001_02104_00001_nrs1_uncal.fits',\n",
       " 'jw96215001001_02106_00001_nrs2_uncal.fits',\n",
       " 'jw96215001001_02102_00001_nrs2_uncal.fits',\n",
       " 'jw96215001001_02103_00001_nrs1_uncal.fits',\n",
       " 'jw96215001001_02106_00001_nrs1_uncal.fits',\n",
       " 'jw96215001001_02107_00001_nrs2_uncal.fits',\n",
       " 'jw96215001001_02103_00001_nrs2_uncal.fits',\n",
       " 'jw96215001001_02102_00001_nrs1_uncal.fits']"
      ]
     },
     "execution_count": 13,
     "metadata": {},
     "output_type": "execute_result"
    }
   ],
   "source": [
    "list(pool[\"filename\"])"
   ]
  },
  {
   "cell_type": "code",
   "execution_count": 21,
   "metadata": {},
   "outputs": [],
   "source": [
    "asn = LoadAsLevel2Asn.load(list(pool[\"filename\"]))"
   ]
  },
  {
   "cell_type": "code",
   "execution_count": 22,
   "metadata": {
    "scrolled": false
   },
   "outputs": [],
   "source": [
    "for product in asn[\"products\"]:\n",
    "    product[\"name\"] = remove_suffix(product[\"name\"])[0]"
   ]
  },
  {
   "cell_type": "code",
   "execution_count": 23,
   "metadata": {},
   "outputs": [
    {
     "data": {
      "text/plain": [
       "{'asn_type': 'None',\n",
       " 'asn_rule': 'DMSLevel2bBase',\n",
       " 'version_id': None,\n",
       " 'code_version': '0.9.19',\n",
       " 'degraded_status': 'No known degraded exposures in association.',\n",
       " 'program': 'singleton',\n",
       " 'products': [{'name': 'jw96215001001_02107_00001_nrs1',\n",
       "   'members': [{'expname': 'jw96215001001_02107_00001_nrs1_uncal.fits',\n",
       "     'exptype': 'science'}]},\n",
       "  {'name': 'jw96215001001_02105_00001_nrs2',\n",
       "   'members': [{'expname': 'jw96215001001_02105_00001_nrs2_uncal.fits',\n",
       "     'exptype': 'science'}]},\n",
       "  {'name': 'jw96215001001_02105_00001_nrs1',\n",
       "   'members': [{'expname': 'jw96215001001_02105_00001_nrs1_uncal.fits',\n",
       "     'exptype': 'science'}]},\n",
       "  {'name': 'jw96215001001_02104_00001_nrs2',\n",
       "   'members': [{'expname': 'jw96215001001_02104_00001_nrs2_uncal.fits',\n",
       "     'exptype': 'science'}]},\n",
       "  {'name': 'jw96215001001_02104_00001_nrs1',\n",
       "   'members': [{'expname': 'jw96215001001_02104_00001_nrs1_uncal.fits',\n",
       "     'exptype': 'science'}]},\n",
       "  {'name': 'jw96215001001_02106_00001_nrs2',\n",
       "   'members': [{'expname': 'jw96215001001_02106_00001_nrs2_uncal.fits',\n",
       "     'exptype': 'science'}]},\n",
       "  {'name': 'jw96215001001_02102_00001_nrs2',\n",
       "   'members': [{'expname': 'jw96215001001_02102_00001_nrs2_uncal.fits',\n",
       "     'exptype': 'science'}]},\n",
       "  {'name': 'jw96215001001_02103_00001_nrs1',\n",
       "   'members': [{'expname': 'jw96215001001_02103_00001_nrs1_uncal.fits',\n",
       "     'exptype': 'science'}]},\n",
       "  {'name': 'jw96215001001_02106_00001_nrs1',\n",
       "   'members': [{'expname': 'jw96215001001_02106_00001_nrs1_uncal.fits',\n",
       "     'exptype': 'science'}]},\n",
       "  {'name': 'jw96215001001_02107_00001_nrs2',\n",
       "   'members': [{'expname': 'jw96215001001_02107_00001_nrs2_uncal.fits',\n",
       "     'exptype': 'science'}]},\n",
       "  {'name': 'jw96215001001_02103_00001_nrs2',\n",
       "   'members': [{'expname': 'jw96215001001_02103_00001_nrs2_uncal.fits',\n",
       "     'exptype': 'science'}]},\n",
       "  {'name': 'jw96215001001_02102_00001_nrs1',\n",
       "   'members': [{'expname': 'jw96215001001_02102_00001_nrs1_uncal.fits',\n",
       "     'exptype': 'science'}]}],\n",
       " 'target': 'singleton',\n",
       " 'asn_pool': 'singleton'}"
      ]
     },
     "execution_count": 23,
     "metadata": {},
     "output_type": "execute_result"
    }
   ],
   "source": [
    "asn.data"
   ]
  },
  {
   "cell_type": "code",
   "execution_count": 25,
   "metadata": {},
   "outputs": [],
   "source": [
    "name, serialization = asn.dump()"
   ]
  },
  {
   "cell_type": "code",
   "execution_count": 27,
   "metadata": {},
   "outputs": [],
   "source": [
    "with open(\"jw96215-o001_spec2-nrslamp_001_asn.json\", \"w\") as fp:\n",
    "    fp.write(serialization)"
   ]
  },
  {
   "cell_type": "code",
   "execution_count": 28,
   "metadata": {},
   "outputs": [
    {
     "name": "stdout",
     "output_type": "stream",
     "text": [
      "{\r\n",
      "    \"asn_type\": \"None\",\r\n",
      "    \"asn_rule\": \"DMSLevel2bBase\",\r\n",
      "    \"version_id\": null,\r\n",
      "    \"code_version\": \"0.9.19\",\r\n",
      "    \"degraded_status\": \"No known degraded exposures in association.\",\r\n",
      "    \"program\": \"singleton\",\r\n",
      "    \"products\": [\r\n",
      "        {\r\n",
      "            \"name\": \"jw96215001001_02107_00001_nrs1\",\r\n",
      "            \"members\": [\r\n",
      "                {\r\n",
      "                    \"expname\": \"jw96215001001_02107_00001_nrs1_uncal.fits\",\r\n",
      "                    \"exptype\": \"science\"\r\n",
      "                }\r\n",
      "            ]\r\n",
      "        },\r\n",
      "        {\r\n",
      "            \"name\": \"jw96215001001_02105_00001_nrs2\",\r\n",
      "            \"members\": [\r\n",
      "                {\r\n",
      "                    \"expname\": \"jw96215001001_02105_00001_nrs2_uncal.fits\",\r\n",
      "                    \"exptype\": \"science\"\r\n",
      "                }\r\n",
      "            ]\r\n",
      "        },\r\n",
      "        {\r\n",
      "            \"name\": \"jw96215001001_02105_00001_nrs1\",\r\n",
      "            \"members\": [\r\n",
      "                {\r\n",
      "                    \"expname\": \"jw96215001001_02105_00001_nrs1_uncal.fits\",\r\n",
      "                    \"exptype\": \"science\"\r\n",
      "                }\r\n",
      "            ]\r\n",
      "        },\r\n",
      "        {\r\n",
      "            \"name\": \"jw96215001001_02104_00001_nrs2\",\r\n",
      "            \"members\": [\r\n",
      "                {\r\n",
      "                    \"expname\": \"jw96215001001_02104_00001_nrs2_uncal.fits\",\r\n",
      "                    \"exptype\": \"science\"\r\n",
      "                }\r\n",
      "            ]\r\n",
      "        },\r\n",
      "        {\r\n",
      "            \"name\": \"jw96215001001_02104_00001_nrs1\",\r\n",
      "            \"members\": [\r\n",
      "                {\r\n",
      "                    \"expname\": \"jw96215001001_02104_00001_nrs1_uncal.fits\",\r\n",
      "                    \"exptype\": \"science\"\r\n",
      "                }\r\n",
      "            ]\r\n",
      "        },\r\n",
      "        {\r\n",
      "            \"name\": \"jw96215001001_02106_00001_nrs2\",\r\n",
      "            \"members\": [\r\n",
      "                {\r\n",
      "                    \"expname\": \"jw96215001001_02106_00001_nrs2_uncal.fits\",\r\n",
      "                    \"exptype\": \"science\"\r\n",
      "                }\r\n",
      "            ]\r\n",
      "        },\r\n",
      "        {\r\n",
      "            \"name\": \"jw96215001001_02102_00001_nrs2\",\r\n",
      "            \"members\": [\r\n",
      "                {\r\n",
      "                    \"expname\": \"jw96215001001_02102_00001_nrs2_uncal.fits\",\r\n",
      "                    \"exptype\": \"science\"\r\n",
      "                }\r\n",
      "            ]\r\n",
      "        },\r\n",
      "        {\r\n",
      "            \"name\": \"jw96215001001_02103_00001_nrs1\",\r\n",
      "            \"members\": [\r\n",
      "                {\r\n",
      "                    \"expname\": \"jw96215001001_02103_00001_nrs1_uncal.fits\",\r\n",
      "                    \"exptype\": \"science\"\r\n",
      "                }\r\n",
      "            ]\r\n",
      "        },\r\n",
      "        {\r\n",
      "            \"name\": \"jw96215001001_02106_00001_nrs1\",\r\n",
      "            \"members\": [\r\n",
      "                {\r\n",
      "                    \"expname\": \"jw96215001001_02106_00001_nrs1_uncal.fits\",\r\n",
      "                    \"exptype\": \"science\"\r\n",
      "                }\r\n",
      "            ]\r\n",
      "        },\r\n",
      "        {\r\n",
      "            \"name\": \"jw96215001001_02107_00001_nrs2\",\r\n",
      "            \"members\": [\r\n",
      "                {\r\n",
      "                    \"expname\": \"jw96215001001_02107_00001_nrs2_uncal.fits\",\r\n",
      "                    \"exptype\": \"science\"\r\n",
      "                }\r\n",
      "            ]\r\n",
      "        },\r\n",
      "        {\r\n",
      "            \"name\": \"jw96215001001_02103_00001_nrs2\",\r\n",
      "            \"members\": [\r\n",
      "                {\r\n",
      "                    \"expname\": \"jw96215001001_02103_00001_nrs2_uncal.fits\",\r\n",
      "                    \"exptype\": \"science\"\r\n",
      "                }\r\n",
      "            ]\r\n",
      "        },\r\n",
      "        {\r\n",
      "            \"name\": \"jw96215001001_02102_00001_nrs1\",\r\n",
      "            \"members\": [\r\n",
      "                {\r\n",
      "                    \"expname\": \"jw96215001001_02102_00001_nrs1_uncal.fits\",\r\n",
      "                    \"exptype\": \"science\"\r\n",
      "                }\r\n",
      "            ]\r\n",
      "        }\r\n",
      "    ],\r\n",
      "    \"target\": \"singleton\",\r\n",
      "    \"asn_pool\": \"singleton\"\r\n",
      "}"
     ]
    }
   ],
   "source": [
    "%cat jw96215-o001_spec2-nrslamp_001_asn.json"
   ]
  },
  {
   "cell_type": "code",
   "execution_count": null,
   "metadata": {},
   "outputs": [],
   "source": []
  }
 ],
 "metadata": {
  "kernelspec": {
   "display_name": "Python 3",
   "language": "python",
   "name": "python3"
  },
  "language_info": {
   "codemirror_mode": {
    "name": "ipython",
    "version": 3
   },
   "file_extension": ".py",
   "mimetype": "text/x-python",
   "name": "python",
   "nbconvert_exporter": "python",
   "pygments_lexer": "ipython3",
   "version": "3.6.5"
  }
 },
 "nbformat": 4,
 "nbformat_minor": 2
}
