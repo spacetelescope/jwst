{
 "cells": [
  {
   "cell_type": "markdown",
   "metadata": {},
   "source": [
    "# Abstract"
   ]
  },
  {
   "cell_type": "markdown",
   "metadata": {},
   "source": [
    "# Environment"
   ]
  },
  {
   "cell_type": "code",
   "execution_count": null,
   "metadata": {
    "collapsed": true
   },
   "outputs": [],
   "source": [
    "import json\n",
    "import jsonschema\n",
    "import os.path as path\n",
    "import re"
   ]
  },
  {
   "cell_type": "code",
   "execution_count": null,
   "metadata": {
    "collapsed": false
   },
   "outputs": [],
   "source": [
    "import jwst.associations as associations\n",
    "from jwst.associations import load_asn\n",
    "from jwst.associations.lib.rules_level2_base import _REGEX_LEVEL2A"
   ]
  },
  {
   "cell_type": "markdown",
   "metadata": {},
   "source": [
    "# Library"
   ]
  },
  {
   "cell_type": "code",
   "execution_count": null,
   "metadata": {
    "collapsed": false
   },
   "outputs": [],
   "source": [
    "def lv2_v1_to_v2(asn):\n",
    "    new_asn = dict(asn)\n",
    "    products = []\n",
    "    members_to_add = []\n",
    "    for member in asn[\"members\"]:\n",
    "        product = {\"name\": product_name(member[\"expname\"])}\n",
    "        new_members = []\n",
    "        new_members.append({\"expname\": member[\"expname\"], \"exptype\": member[\"exptype\"]})\n",
    "        for bkg in member.get(\"bkgexps\", []):\n",
    "            new_members.append({\"expname\": bkg[\"expname\"], \"exptype\": \"BACKGROUND\"})\n",
    "            members_to_add.append({\"expname\": bkg[\"expname\"], \"exptype\": \"SCIENCE\"})\n",
    "        product[\"members\"] = new_members\n",
    "        products.append(product)\n",
    "\n",
    "    for new_member in members_to_add:\n",
    "        product = {\"name\": product_name(new_member[\"expname\"])}\n",
    "        product[\"members\"] = [{\"expname\": new_member[\"expname\"], \"exptype\": \"SCIENCE\"}]\n",
    "        products.append(product)\n",
    "\n",
    "    new_asn[\"products\"] = products\n",
    "    del new_asn[\"members\"]\n",
    "    return new_asn"
   ]
  },
  {
   "cell_type": "code",
   "execution_count": null,
   "metadata": {
    "collapsed": true
   },
   "outputs": [],
   "source": [
    "def product_name(expname):\n",
    "    name = path.basename(expname.lower())\n",
    "    match = re.match(_REGEX_LEVEL2A, name)\n",
    "    if match:\n",
    "        return match.groupdict()[\"path\"]\n",
    "    else:\n",
    "        return name"
   ]
  },
  {
   "cell_type": "markdown",
   "metadata": {},
   "source": [
    "# Main"
   ]
  },
  {
   "cell_type": "code",
   "execution_count": null,
   "metadata": {
    "collapsed": true
   },
   "outputs": [],
   "source": [
    "with open(\"data/asn_level2_v1.json\") as fp:\n",
    "    lv2_v1 = json.load(fp)"
   ]
  },
  {
   "cell_type": "code",
   "execution_count": null,
   "metadata": {
    "collapsed": false
   },
   "outputs": [],
   "source": [
    "lv2_v1"
   ]
  },
  {
   "cell_type": "code",
   "execution_count": null,
   "metadata": {
    "collapsed": false
   },
   "outputs": [],
   "source": [
    "lv2_v2 = lv2_v1_to_v2(lv2_v1)"
   ]
  },
  {
   "cell_type": "code",
   "execution_count": null,
   "metadata": {
    "collapsed": false
   },
   "outputs": [],
   "source": [
    "lv2_v2"
   ]
  },
  {
   "cell_type": "code",
   "execution_count": null,
   "metadata": {
    "collapsed": false
   },
   "outputs": [],
   "source": [
    "with open(\"/tmp/level2b_asn.json\", \"w\") as fp:\n",
    "    json.dump(lv2_v2, fp)"
   ]
  },
  {
   "cell_type": "code",
   "execution_count": null,
   "metadata": {
    "collapsed": true
   },
   "outputs": [],
   "source": [
    "with open(\"/tmp/level2b_asn.json\") as fp:\n",
    "    asn = load_asn(fp)"
   ]
  },
  {
   "cell_type": "code",
   "execution_count": null,
   "metadata": {
    "collapsed": false
   },
   "outputs": [],
   "source": [
    "asn"
   ]
  },
  {
   "cell_type": "code",
   "execution_count": null,
   "metadata": {
    "collapsed": false
   },
   "outputs": [],
   "source": [
    "asn[\"products\"]"
   ]
  },
  {
   "cell_type": "code",
   "execution_count": null,
   "metadata": {
    "collapsed": false
   },
   "outputs": [],
   "source": [
    "asn[\"products\"][0][\"members\"]"
   ]
  },
  {
   "cell_type": "code",
   "execution_count": null,
   "metadata": {
    "collapsed": true
   },
   "outputs": [],
   "source": []
  }
 ],
 "metadata": {
  "kernelspec": {
   "display_name": "Python [default]",
   "language": "python",
   "name": "python3"
  },
  "language_info": {
   "codemirror_mode": {
    "name": "ipython",
    "version": 3
   },
   "file_extension": ".py",
   "mimetype": "text/x-python",
   "name": "python",
   "nbconvert_exporter": "python",
   "pygments_lexer": "ipython3",
   "version": "3.5.2"
  }
 },
 "nbformat": 4,
 "nbformat_minor": 2
}
