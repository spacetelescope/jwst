{
 "cells": [
  {
   "cell_type": "markdown",
   "metadata": {},
   "source": [
    "# Abstract"
   ]
  },
  {
   "cell_type": "markdown",
   "metadata": {},
   "source": [
    "Test out lists constraints"
   ]
  },
  {
   "cell_type": "markdown",
   "metadata": {},
   "source": [
    "# Environment"
   ]
  },
  {
   "cell_type": "code",
   "execution_count": 1,
   "metadata": {},
   "outputs": [],
   "source": [
    "# Setup debugging log\n",
    "import logging\n",
    "logger = logging.getLogger('jwst.associations')\n",
    "handler = logging.StreamHandler()\n",
    "logger.addHandler(handler)\n",
    "handler.setLevel(logging.DEBUG)\n",
    "logger.setLevel(logging.DEBUG)"
   ]
  },
  {
   "cell_type": "code",
   "execution_count": 2,
   "metadata": {},
   "outputs": [],
   "source": [
    "import pdb"
   ]
  },
  {
   "cell_type": "code",
   "execution_count": 3,
   "metadata": {},
   "outputs": [],
   "source": [
    "from jwst.associations.tests.helpers import (\n",
    "    combine_pools,\n",
    "    registry_level2_only,\n",
    "    registry_level3_only\n",
    ")"
   ]
  },
  {
   "cell_type": "code",
   "execution_count": 4,
   "metadata": {},
   "outputs": [],
   "source": [
    "from jwst.associations import (\n",
    "    generate\n",
    ")"
   ]
  },
  {
   "cell_type": "code",
   "execution_count": 5,
   "metadata": {},
   "outputs": [],
   "source": [
    "from jwst.associations.main import (\n",
    "    constrain_on_candidates\n",
    ")"
   ]
  },
  {
   "cell_type": "markdown",
   "metadata": {},
   "source": [
    "# Library"
   ]
  },
  {
   "cell_type": "markdown",
   "metadata": {},
   "source": [
    "# Main"
   ]
  },
  {
   "cell_type": "markdown",
   "metadata": {},
   "source": [
    "## Really paired down candidate"
   ]
  },
  {
   "cell_type": "code",
   "execution_count": 7,
   "metadata": {},
   "outputs": [],
   "source": [
    "pool = combine_pools('../data/pool_012_image_miri_single_exp.csv')"
   ]
  },
  {
   "cell_type": "code",
   "execution_count": 8,
   "metadata": {},
   "outputs": [],
   "source": [
    "c_o001 = constrain_on_candidates(['o001'])"
   ]
  },
  {
   "cell_type": "code",
   "execution_count": 10,
   "metadata": {},
   "outputs": [
    {
     "name": "stdout",
     "output_type": "stream",
     "text": [
      "AttrConstraint({'value': '.+(o001).+', 'name': 'asn_candidate', 'sources': ['asn_candidate'], 'is_acid': True, 'evaluate': True, 'force_unique': True, 'force_undefined': False, 'invalid_values': [], 'onlyif': <function AttrConstraint.__init__.<locals>.<lambda> at 0x150e981510>, 'required': True, 'found_values': set()})\n"
     ]
    }
   ],
   "source": [
    "print(c_o001)"
   ]
  },
  {
   "cell_type": "code",
   "execution_count": 11,
   "metadata": {
    "scrolled": true
   },
   "outputs": [],
   "source": [
    "rules = registry_level3_only(global_constraints=c_o001)"
   ]
  },
  {
   "cell_type": "code",
   "execution_count": 12,
   "metadata": {},
   "outputs": [
    {
     "data": {
      "text/plain": [
       "{'Asn_Image': abc.Asn_Image, 'Asn_WFSCMB': abc.Asn_WFSCMB}"
      ]
     },
     "execution_count": 12,
     "metadata": {},
     "output_type": "execute_result"
    }
   ],
   "source": [
    "rules"
   ]
  },
  {
   "cell_type": "code",
   "execution_count": 13,
   "metadata": {},
   "outputs": [],
   "source": [
    "names = [name for name in rules]"
   ]
  },
  {
   "cell_type": "code",
   "execution_count": 14,
   "metadata": {},
   "outputs": [],
   "source": [
    "for name in names:\n",
    "    if name != 'Asn_Image':\n",
    "        del rules[name]"
   ]
  },
  {
   "cell_type": "code",
   "execution_count": 15,
   "metadata": {},
   "outputs": [
    {
     "data": {
      "text/plain": [
       "{'Asn_Image': abc.Asn_Image}"
      ]
     },
     "execution_count": 15,
     "metadata": {},
     "output_type": "execute_result"
    }
   ],
   "source": [
    "rules"
   ]
  },
  {
   "cell_type": "code",
   "execution_count": 16,
   "metadata": {},
   "outputs": [],
   "source": [
    "asn_image = rules['Asn_Image']"
   ]
  },
  {
   "cell_type": "code",
   "execution_count": 19,
   "metadata": {},
   "outputs": [
    {
     "data": {
      "text/plain": [
       "<jwst.associations.lib.constraint.AttrConstraint at 0x150e962278>"
      ]
     },
     "execution_count": 19,
     "metadata": {},
     "output_type": "execute_result"
    }
   ],
   "source": [
    "asn_image.GLOBAL_CONSTRAINTS"
   ]
  },
  {
   "cell_type": "code",
   "execution_count": 19,
   "metadata": {
    "scrolled": true
   },
   "outputs": [
    {
     "name": "stdout",
     "output_type": "stream",
     "text": [
      "> <string>(1)<module>()->None\n",
      "(Pdb) s\n",
      "--Call--\n",
      "> /Users/eisenham/anaconda3/envs/asnopt_py3/lib/python3.5/site-packages/jwst-0.7.7.dev493-py3.5-macosx-10.7-x86_64.egg/jwst/associations/generate.py(15)generate()\n",
      "-> def generate(pool, rules, version_id=None):\n",
      "(Pdb) n\n",
      "> /Users/eisenham/anaconda3/envs/asnopt_py3/lib/python3.5/site-packages/jwst-0.7.7.dev493-py3.5-macosx-10.7-x86_64.egg/jwst/associations/generate.py(46)generate()\n",
      "-> logger.debug('Starting...')\n",
      "(Pdb) n\n",
      "> /Users/eisenham/anaconda3/envs/asnopt_py3/lib/python3.5/site-packages/jwst-0.7.7.dev493-py3.5-macosx-10.7-x86_64.egg/jwst/associations/generate.py(48)generate()\n",
      "-> associations = []\n",
      "(Pdb) n\n",
      "> /Users/eisenham/anaconda3/envs/asnopt_py3/lib/python3.5/site-packages/jwst-0.7.7.dev493-py3.5-macosx-10.7-x86_64.egg/jwst/associations/generate.py(49)generate()\n",
      "-> in_an_asn = np.zeros((len(pool),), dtype=bool)\n",
      "(Pdb) n\n",
      "> /Users/eisenham/anaconda3/envs/asnopt_py3/lib/python3.5/site-packages/jwst-0.7.7.dev493-py3.5-macosx-10.7-x86_64.egg/jwst/associations/generate.py(50)generate()\n",
      "-> if type(version_id) is bool:\n",
      "(Pdb) n\n",
      "> /Users/eisenham/anaconda3/envs/asnopt_py3/lib/python3.5/site-packages/jwst-0.7.7.dev493-py3.5-macosx-10.7-x86_64.egg/jwst/associations/generate.py(53)generate()\n",
      "-> ProcessList(\n",
      "(Pdb) n\n",
      "> /Users/eisenham/anaconda3/envs/asnopt_py3/lib/python3.5/site-packages/jwst-0.7.7.dev493-py3.5-macosx-10.7-x86_64.egg/jwst/associations/generate.py(54)generate()\n",
      "-> members=pool,\n",
      "(Pdb) n\n",
      "> /Users/eisenham/anaconda3/envs/asnopt_py3/lib/python3.5/site-packages/jwst-0.7.7.dev493-py3.5-macosx-10.7-x86_64.egg/jwst/associations/generate.py(55)generate()\n",
      "-> rules=[rule for _, rule in rules.items()]\n",
      "(Pdb) n\n",
      "> /Users/eisenham/anaconda3/envs/asnopt_py3/lib/python3.5/site-packages/jwst-0.7.7.dev493-py3.5-macosx-10.7-x86_64.egg/jwst/associations/generate.py(59)generate()\n",
      "-> for process_item in process_list:\n",
      "(Pdb) n\n",
      "> /Users/eisenham/anaconda3/envs/asnopt_py3/lib/python3.5/site-packages/jwst-0.7.7.dev493-py3.5-macosx-10.7-x86_64.egg/jwst/associations/generate.py(60)generate()\n",
      "-> for member in process_item.members:\n",
      "(Pdb) n\n",
      "> /Users/eisenham/anaconda3/envs/asnopt_py3/lib/python3.5/site-packages/jwst-0.7.7.dev493-py3.5-macosx-10.7-x86_64.egg/jwst/associations/generate.py(61)generate()\n",
      "-> logger.debug('Working member=\"{}\"'.format(member))\n",
      "(Pdb) n\n",
      "> /Users/eisenham/anaconda3/envs/asnopt_py3/lib/python3.5/site-packages/jwst-0.7.7.dev493-py3.5-macosx-10.7-x86_64.egg/jwst/associations/generate.py(62)generate()\n",
      "-> existing_asns, new_asns, to_process = generate_from_member(\n",
      "(Pdb) s\n",
      "> /Users/eisenham/anaconda3/envs/asnopt_py3/lib/python3.5/site-packages/jwst-0.7.7.dev493-py3.5-macosx-10.7-x86_64.egg/jwst/associations/generate.py(63)generate()\n",
      "-> member,\n",
      "(Pdb) s\n",
      "> /Users/eisenham/anaconda3/envs/asnopt_py3/lib/python3.5/site-packages/jwst-0.7.7.dev493-py3.5-macosx-10.7-x86_64.egg/jwst/associations/generate.py(64)generate()\n",
      "-> version_id,\n",
      "(Pdb) s\n",
      "> /Users/eisenham/anaconda3/envs/asnopt_py3/lib/python3.5/site-packages/jwst-0.7.7.dev493-py3.5-macosx-10.7-x86_64.egg/jwst/associations/generate.py(65)generate()\n",
      "-> associations,\n",
      "(Pdb) s\n",
      "> /Users/eisenham/anaconda3/envs/asnopt_py3/lib/python3.5/site-packages/jwst-0.7.7.dev493-py3.5-macosx-10.7-x86_64.egg/jwst/associations/generate.py(66)generate()\n",
      "-> rules,\n",
      "(Pdb) s\n",
      "> /Users/eisenham/anaconda3/envs/asnopt_py3/lib/python3.5/site-packages/jwst-0.7.7.dev493-py3.5-macosx-10.7-x86_64.egg/jwst/associations/generate.py(67)generate()\n",
      "-> process_item.rules\n",
      "(Pdb) s\n",
      "--Call--\n",
      "> /Users/eisenham/anaconda3/envs/asnopt_py3/lib/python3.5/site-packages/jwst-0.7.7.dev493-py3.5-macosx-10.7-x86_64.egg/jwst/associations/generate.py(83)generate_from_member()\n",
      "-> def generate_from_member(\n",
      "(Pdb) n\n",
      "> /Users/eisenham/anaconda3/envs/asnopt_py3/lib/python3.5/site-packages/jwst-0.7.7.dev493-py3.5-macosx-10.7-x86_64.egg/jwst/associations/generate.py(128)generate_from_member()\n",
      "-> asn\n",
      "(Pdb) n\n",
      "> /Users/eisenham/anaconda3/envs/asnopt_py3/lib/python3.5/site-packages/jwst-0.7.7.dev493-py3.5-macosx-10.7-x86_64.egg/jwst/associations/generate.py(129)generate_from_member()\n",
      "-> for asn in associations\n",
      "(Pdb) n\n",
      "> /Users/eisenham/anaconda3/envs/asnopt_py3/lib/python3.5/site-packages/jwst-0.7.7.dev493-py3.5-macosx-10.7-x86_64.egg/jwst/associations/generate.py(132)generate_from_member()\n",
      "-> existing_asns, process_list = match_member(member, associations)\n",
      "(Pdb) n\n",
      "> /Users/eisenham/anaconda3/envs/asnopt_py3/lib/python3.5/site-packages/jwst-0.7.7.dev493-py3.5-macosx-10.7-x86_64.egg/jwst/associations/generate.py(137)generate_from_member()\n",
      "-> ignore_asns = set([type(asn) for asn in existing_asns])\n",
      "(Pdb) n\n",
      "> /Users/eisenham/anaconda3/envs/asnopt_py3/lib/python3.5/site-packages/jwst-0.7.7.dev493-py3.5-macosx-10.7-x86_64.egg/jwst/associations/generate.py(138)generate_from_member()\n",
      "-> new_asns, to_process = rules.match(\n",
      "(Pdb) n\n",
      "> /Users/eisenham/anaconda3/envs/asnopt_py3/lib/python3.5/site-packages/jwst-0.7.7.dev493-py3.5-macosx-10.7-x86_64.egg/jwst/associations/generate.py(139)generate_from_member()\n",
      "-> member,\n",
      "(Pdb) s\n",
      "> /Users/eisenham/anaconda3/envs/asnopt_py3/lib/python3.5/site-packages/jwst-0.7.7.dev493-py3.5-macosx-10.7-x86_64.egg/jwst/associations/generate.py(140)generate_from_member()\n",
      "-> version_id=version_id,\n",
      "(Pdb) s\n",
      "> /Users/eisenham/anaconda3/envs/asnopt_py3/lib/python3.5/site-packages/jwst-0.7.7.dev493-py3.5-macosx-10.7-x86_64.egg/jwst/associations/generate.py(141)generate_from_member()\n",
      "-> allow=allowed_rules,\n",
      "(Pdb) s\n",
      "> /Users/eisenham/anaconda3/envs/asnopt_py3/lib/python3.5/site-packages/jwst-0.7.7.dev493-py3.5-macosx-10.7-x86_64.egg/jwst/associations/generate.py(142)generate_from_member()\n",
      "-> ignore=ignore_asns,\n",
      "(Pdb) s\n",
      "--Call--\n",
      "> /Users/eisenham/anaconda3/envs/asnopt_py3/lib/python3.5/site-packages/jwst-0.7.7.dev493-py3.5-macosx-10.7-x86_64.egg/jwst/associations/registry.py(120)match()\n",
      "-> def match(self, member, version_id=None, allow=None, ignore=None):\n",
      "(Pdb) n\n",
      "> /Users/eisenham/anaconda3/envs/asnopt_py3/lib/python3.5/site-packages/jwst-0.7.7.dev493-py3.5-macosx-10.7-x86_64.egg/jwst/associations/registry.py(149)match()\n",
      "-> logger.debug('Starting...')\n",
      "(Pdb) n\n",
      "> /Users/eisenham/anaconda3/envs/asnopt_py3/lib/python3.5/site-packages/jwst-0.7.7.dev493-py3.5-macosx-10.7-x86_64.egg/jwst/associations/registry.py(150)match()\n",
      "-> if allow is None:\n",
      "(Pdb) n\n",
      "> /Users/eisenham/anaconda3/envs/asnopt_py3/lib/python3.5/site-packages/jwst-0.7.7.dev493-py3.5-macosx-10.7-x86_64.egg/jwst/associations/registry.py(152)match()\n",
      "-> if ignore is None:\n",
      "(Pdb) n\n",
      "> /Users/eisenham/anaconda3/envs/asnopt_py3/lib/python3.5/site-packages/jwst-0.7.7.dev493-py3.5-macosx-10.7-x86_64.egg/jwst/associations/registry.py(154)match()\n",
      "-> associations = []\n",
      "(Pdb) n\n",
      "> /Users/eisenham/anaconda3/envs/asnopt_py3/lib/python3.5/site-packages/jwst-0.7.7.dev493-py3.5-macosx-10.7-x86_64.egg/jwst/associations/registry.py(155)match()\n",
      "-> process_list = []\n",
      "(Pdb) n\n",
      "> /Users/eisenham/anaconda3/envs/asnopt_py3/lib/python3.5/site-packages/jwst-0.7.7.dev493-py3.5-macosx-10.7-x86_64.egg/jwst/associations/registry.py(156)match()\n",
      "-> for name, rule in self.items():\n",
      "(Pdb) n\n",
      "> /Users/eisenham/anaconda3/envs/asnopt_py3/lib/python3.5/site-packages/jwst-0.7.7.dev493-py3.5-macosx-10.7-x86_64.egg/jwst/associations/registry.py(157)match()\n",
      "-> if rule not in ignore and rule in allow:\n",
      "(Pdb) n\n",
      "> /Users/eisenham/anaconda3/envs/asnopt_py3/lib/python3.5/site-packages/jwst-0.7.7.dev493-py3.5-macosx-10.7-x86_64.egg/jwst/associations/registry.py(158)match()\n",
      "-> logger.debug('Checking membership for rule \"{}\"'.format(rule))\n",
      "(Pdb) n\n",
      "> /Users/eisenham/anaconda3/envs/asnopt_py3/lib/python3.5/site-packages/jwst-0.7.7.dev493-py3.5-macosx-10.7-x86_64.egg/jwst/associations/registry.py(159)match()\n",
      "-> asn, reprocess = rule.create(member, version_id)\n",
      "(Pdb) s\n",
      "--Call--\n",
      "> /Users/eisenham/anaconda3/envs/asnopt_py3/lib/python3.5/site-packages/jwst-0.7.7.dev493-py3.5-macosx-10.7-x86_64.egg/jwst/associations/lib/dms_base.py(25)create()\n",
      "-> @classmethod\n",
      "(Pdb) n\n",
      "> /Users/eisenham/anaconda3/envs/asnopt_py3/lib/python3.5/site-packages/jwst-0.7.7.dev493-py3.5-macosx-10.7-x86_64.egg/jwst/associations/lib/dms_base.py(46)create()\n",
      "-> asn, reprocess = super(DMSBaseMixin, cls).create(member, version_id)\n",
      "(Pdb) s\n",
      "--Call--\n",
      "> /Users/eisenham/anaconda3/envs/asnopt_py3/lib/python3.5/site-packages/jwst-0.7.7.dev493-py3.5-macosx-10.7-x86_64.egg/jwst/associations/association.py(112)create()\n",
      "-> @classmethod\n"
     ]
    },
    {
     "name": "stdout",
     "output_type": "stream",
     "text": [
      "(Pdb) n\n",
      "> /Users/eisenham/anaconda3/envs/asnopt_py3/lib/python3.5/site-packages/jwst-0.7.7.dev493-py3.5-macosx-10.7-x86_64.egg/jwst/associations/association.py(133)create()\n",
      "-> asn = cls(version_id=version_id)\n",
      "(Pdb) n\n",
      "> /Users/eisenham/anaconda3/envs/asnopt_py3/lib/python3.5/site-packages/jwst-0.7.7.dev493-py3.5-macosx-10.7-x86_64.egg/jwst/associations/association.py(134)create()\n",
      "-> matches, reprocess = asn.add(member)\n",
      "(Pdb) s\n",
      "--Call--\n",
      "> /Users/eisenham/anaconda3/envs/asnopt_py3/lib/python3.5/site-packages/jwst-0.7.7.dev493-py3.5-macosx-10.7-x86_64.egg/jwst/associations/association.py(307)add()\n",
      "-> def add(self, member, check_constraints=True):\n",
      "(Pdb) s\n",
      "> /Users/eisenham/anaconda3/envs/asnopt_py3/lib/python3.5/site-packages/jwst-0.7.7.dev493-py3.5-macosx-10.7-x86_64.egg/jwst/associations/association.py(326)add()\n",
      "-> if check_constraints:\n",
      "(Pdb) n\n",
      "> /Users/eisenham/anaconda3/envs/asnopt_py3/lib/python3.5/site-packages/jwst-0.7.7.dev493-py3.5-macosx-10.7-x86_64.egg/jwst/associations/association.py(327)add()\n",
      "-> matches, reprocess = self.test_and_set_constraints(member)\n",
      "(Pdb) s\n",
      "--Call--\n",
      "> /Users/eisenham/anaconda3/envs/asnopt_py3/lib/python3.5/site-packages/jwst-0.7.7.dev493-py3.5-macosx-10.7-x86_64.egg/jwst/associations/association.py(337)test_and_set_constraints()\n",
      "-> @nottest\n",
      "(Pdb) n\n",
      "> /Users/eisenham/anaconda3/envs/asnopt_py3/lib/python3.5/site-packages/jwst-0.7.7.dev493-py3.5-macosx-10.7-x86_64.egg/jwst/associations/association.py(363)test_and_set_constraints()\n",
      "-> matches = True\n",
      "(Pdb) n\n",
      "> /Users/eisenham/anaconda3/envs/asnopt_py3/lib/python3.5/site-packages/jwst-0.7.7.dev493-py3.5-macosx-10.7-x86_64.egg/jwst/associations/association.py(365)test_and_set_constraints()\n",
      "-> reprocess = []\n",
      "(Pdb) n\n",
      "> /Users/eisenham/anaconda3/envs/asnopt_py3/lib/python3.5/site-packages/jwst-0.7.7.dev493-py3.5-macosx-10.7-x86_64.egg/jwst/associations/association.py(366)test_and_set_constraints()\n",
      "-> constraints = deepcopy(self.constraints)\n",
      "(Pdb) n\n",
      "> /Users/eisenham/anaconda3/envs/asnopt_py3/lib/python3.5/site-packages/jwst-0.7.7.dev493-py3.5-macosx-10.7-x86_64.egg/jwst/associations/association.py(367)test_and_set_constraints()\n",
      "-> for constraint, conditions in constraints.items():\n",
      "(Pdb) n\n",
      "> /Users/eisenham/anaconda3/envs/asnopt_py3/lib/python3.5/site-packages/jwst-0.7.7.dev493-py3.5-macosx-10.7-x86_64.egg/jwst/associations/association.py(368)test_and_set_constraints()\n",
      "-> logger.debug('Constraint=\"{}\" Conditions=\"{}\"'.format(\n",
      "(Pdb) constraint\n",
      "'opt_elem'\n",
      "(Pdb) l\n",
      "363  \t        matches = True\n",
      "364  \t\n",
      "365  \t        reprocess = []\n",
      "366  \t        constraints = deepcopy(self.constraints)\n",
      "367  \t        for constraint, conditions in constraints.items():\n",
      "368  ->\t            logger.debug('Constraint=\"{}\" Conditions=\"{}\"'.format(\n",
      "369  \t                constraint, conditions\n",
      "370  \t            ))\n",
      "371  \t            test = conditions.get('test', self.match_member)\n",
      "372  \t            matches, new_reprocess = test(member, constraint, conditions)\n",
      "373  \t            reprocess.extend(new_reprocess)\n",
      "(Pdb) b 368\n",
      "Breakpoint 1 at /Users/eisenham/anaconda3/envs/asnopt_py3/lib/python3.5/site-packages/jwst-0.7.7.dev493-py3.5-macosx-10.7-x86_64.egg/jwst/associations/association.py:368\n",
      "(Pdb) c\n",
      "> /Users/eisenham/anaconda3/envs/asnopt_py3/lib/python3.5/site-packages/jwst-0.7.7.dev493-py3.5-macosx-10.7-x86_64.egg/jwst/associations/association.py(368)test_and_set_constraints()\n",
      "-> logger.debug('Constraint=\"{}\" Conditions=\"{}\"'.format(\n",
      "(Pdb) constraint\n",
      "'program'\n",
      "(Pdb) c\n",
      "> /Users/eisenham/anaconda3/envs/asnopt_py3/lib/python3.5/site-packages/jwst-0.7.7.dev493-py3.5-macosx-10.7-x86_64.egg/jwst/associations/association.py(368)test_and_set_constraints()\n",
      "-> logger.debug('Constraint=\"{}\" Conditions=\"{}\"'.format(\n",
      "(Pdb) constraint\n",
      "'wfsvisit'\n",
      "(Pdb) c\n",
      "> /Users/eisenham/anaconda3/envs/asnopt_py3/lib/python3.5/site-packages/jwst-0.7.7.dev493-py3.5-macosx-10.7-x86_64.egg/jwst/associations/association.py(368)test_and_set_constraints()\n",
      "-> logger.debug('Constraint=\"{}\" Conditions=\"{}\"'.format(\n",
      "(Pdb) constraint\n",
      "'asn_candidate'\n",
      "(Pdb) l\n",
      "363  \t        matches = True\n",
      "364  \t\n",
      "365  \t        reprocess = []\n",
      "366  \t        constraints = deepcopy(self.constraints)\n",
      "367  \t        for constraint, conditions in constraints.items():\n",
      "368 B->\t            logger.debug('Constraint=\"{}\" Conditions=\"{}\"'.format(\n",
      "369  \t                constraint, conditions\n",
      "370  \t            ))\n",
      "371  \t            test = conditions.get('test', self.match_member)\n",
      "372  \t            matches, new_reprocess = test(member, constraint, conditions)\n",
      "373  \t            reprocess.extend(new_reprocess)\n",
      "(Pdb) n\n",
      "> /Users/eisenham/anaconda3/envs/asnopt_py3/lib/python3.5/site-packages/jwst-0.7.7.dev493-py3.5-macosx-10.7-x86_64.egg/jwst/associations/association.py(369)test_and_set_constraints()\n",
      "-> constraint, conditions\n",
      "(Pdb) l\n",
      "364  \t\n",
      "365  \t        reprocess = []\n",
      "366  \t        constraints = deepcopy(self.constraints)\n",
      "367  \t        for constraint, conditions in constraints.items():\n",
      "368 B\t            logger.debug('Constraint=\"{}\" Conditions=\"{}\"'.format(\n",
      "369  ->\t                constraint, conditions\n",
      "370  \t            ))\n",
      "371  \t            test = conditions.get('test', self.match_member)\n",
      "372  \t            matches, new_reprocess = test(member, constraint, conditions)\n",
      "373  \t            reprocess.extend(new_reprocess)\n",
      "374  \t            if not matches:\n",
      "(Pdb) n\n",
      "> /Users/eisenham/anaconda3/envs/asnopt_py3/lib/python3.5/site-packages/jwst-0.7.7.dev493-py3.5-macosx-10.7-x86_64.egg/jwst/associations/association.py(371)test_and_set_constraints()\n",
      "-> test = conditions.get('test', self.match_member)\n",
      "(Pdb) n\n",
      "> /Users/eisenham/anaconda3/envs/asnopt_py3/lib/python3.5/site-packages/jwst-0.7.7.dev493-py3.5-macosx-10.7-x86_64.egg/jwst/associations/association.py(372)test_and_set_constraints()\n",
      "-> matches, new_reprocess = test(member, constraint, conditions)\n",
      "(Pdb) s\n",
      "--Call--\n",
      "> /Users/eisenham/anaconda3/envs/asnopt_py3/lib/python3.5/site-packages/jwst-0.7.7.dev493-py3.5-macosx-10.7-x86_64.egg/jwst/associations/association.py(380)match_member()\n",
      "-> def match_member(self, member, constraint, conditions):\n",
      "(Pdb) n\n",
      "> /Users/eisenham/anaconda3/envs/asnopt_py3/lib/python3.5/site-packages/jwst-0.7.7.dev493-py3.5-macosx-10.7-x86_64.egg/jwst/associations/association.py(401)match_member()\n",
      "-> logger.debug(\n",
      "(Pdb) n\n",
      "> /Users/eisenham/anaconda3/envs/asnopt_py3/lib/python3.5/site-packages/jwst-0.7.7.dev493-py3.5-macosx-10.7-x86_64.egg/jwst/associations/association.py(402)match_member()\n",
      "-> 'Called with:\\n'\n",
      "(Pdb) n\n",
      "> /Users/eisenham/anaconda3/envs/asnopt_py3/lib/python3.5/site-packages/jwst-0.7.7.dev493-py3.5-macosx-10.7-x86_64.egg/jwst/associations/association.py(406)match_member()\n",
      "-> member,\n",
      "(Pdb) n\n",
      "> /Users/eisenham/anaconda3/envs/asnopt_py3/lib/python3.5/site-packages/jwst-0.7.7.dev493-py3.5-macosx-10.7-x86_64.egg/jwst/associations/association.py(407)match_member()\n",
      "-> constraint,\n",
      "(Pdb) n\n",
      "> /Users/eisenham/anaconda3/envs/asnopt_py3/lib/python3.5/site-packages/jwst-0.7.7.dev493-py3.5-macosx-10.7-x86_64.egg/jwst/associations/association.py(408)match_member()\n",
      "-> conditions\n",
      "(Pdb) n\n",
      "> /Users/eisenham/anaconda3/envs/asnopt_py3/lib/python3.5/site-packages/jwst-0.7.7.dev493-py3.5-macosx-10.7-x86_64.egg/jwst/associations/association.py(412)match_member()\n",
      "-> reprocess = []\n",
      "(Pdb) n\n",
      "> /Users/eisenham/anaconda3/envs/asnopt_py3/lib/python3.5/site-packages/jwst-0.7.7.dev493-py3.5-macosx-10.7-x86_64.egg/jwst/associations/association.py(415)match_member()\n",
      "-> try:\n",
      "(Pdb) n\n",
      "> /Users/eisenham/anaconda3/envs/asnopt_py3/lib/python3.5/site-packages/jwst-0.7.7.dev493-py3.5-macosx-10.7-x86_64.egg/jwst/associations/association.py(416)match_member()\n",
      "-> input, value = getattr_from_list(\n",
      "(Pdb) n\n",
      "> /Users/eisenham/anaconda3/envs/asnopt_py3/lib/python3.5/site-packages/jwst-0.7.7.dev493-py3.5-macosx-10.7-x86_64.egg/jwst/associations/association.py(417)match_member()\n",
      "-> member,\n",
      "(Pdb) n\n",
      "> /Users/eisenham/anaconda3/envs/asnopt_py3/lib/python3.5/site-packages/jwst-0.7.7.dev493-py3.5-macosx-10.7-x86_64.egg/jwst/associations/association.py(418)match_member()\n",
      "-> conditions['inputs'],\n",
      "(Pdb) n\n",
      "> /Users/eisenham/anaconda3/envs/asnopt_py3/lib/python3.5/site-packages/jwst-0.7.7.dev493-py3.5-macosx-10.7-x86_64.egg/jwst/associations/association.py(419)match_member()\n",
      "-> invalid_values=self.INVALID_VALUES\n"
     ]
    },
    {
     "name": "stdout",
     "output_type": "stream",
     "text": [
      "(Pdb) n\n",
      "> /Users/eisenham/anaconda3/envs/asnopt_py3/lib/python3.5/site-packages/jwst-0.7.7.dev493-py3.5-macosx-10.7-x86_64.egg/jwst/associations/association.py(434)match_member()\n",
      "-> if conditions.get('force_undefined', False):\n",
      "(Pdb) input\n",
      "'ASN_CANDIDATE'\n",
      "(Pdb) value\n",
      "\"[('o001', 'OBSERVATION')]\"\n",
      "(Pdb) n\n",
      "> /Users/eisenham/anaconda3/envs/asnopt_py3/lib/python3.5/site-packages/jwst-0.7.7.dev493-py3.5-macosx-10.7-x86_64.egg/jwst/associations/association.py(442)match_member()\n",
      "-> logger.debug('To check: Input=\"{}\" Value=\"{}\"'.format(input, value))\n",
      "(Pdb) n\n",
      "> /Users/eisenham/anaconda3/envs/asnopt_py3/lib/python3.5/site-packages/jwst-0.7.7.dev493-py3.5-macosx-10.7-x86_64.egg/jwst/associations/association.py(443)match_member()\n",
      "-> evaled = evaluate(value)\n",
      "(Pdb) n\n",
      "> /Users/eisenham/anaconda3/envs/asnopt_py3/lib/python3.5/site-packages/jwst-0.7.7.dev493-py3.5-macosx-10.7-x86_64.egg/jwst/associations/association.py(444)match_member()\n",
      "-> current_value = None\n",
      "(Pdb) n\n",
      "> /Users/eisenham/anaconda3/envs/asnopt_py3/lib/python3.5/site-packages/jwst-0.7.7.dev493-py3.5-macosx-10.7-x86_64.egg/jwst/associations/association.py(445)match_member()\n",
      "-> if is_iterable(evaled):\n",
      "(Pdb) n\n",
      "> /Users/eisenham/anaconda3/envs/asnopt_py3/lib/python3.5/site-packages/jwst-0.7.7.dev493-py3.5-macosx-10.7-x86_64.egg/jwst/associations/association.py(446)match_member()\n",
      "-> process_members = []\n",
      "(Pdb) n\n",
      "> /Users/eisenham/anaconda3/envs/asnopt_py3/lib/python3.5/site-packages/jwst-0.7.7.dev493-py3.5-macosx-10.7-x86_64.egg/jwst/associations/association.py(447)match_member()\n",
      "-> for avalue in evaled:\n",
      "(Pdb) n\n",
      "> /Users/eisenham/anaconda3/envs/asnopt_py3/lib/python3.5/site-packages/jwst-0.7.7.dev493-py3.5-macosx-10.7-x86_64.egg/jwst/associations/association.py(448)match_member()\n",
      "-> if not current_value:\n",
      "(Pdb) n\n",
      "> /Users/eisenham/anaconda3/envs/asnopt_py3/lib/python3.5/site-packages/jwst-0.7.7.dev493-py3.5-macosx-10.7-x86_64.egg/jwst/associations/association.py(449)match_member()\n",
      "-> current_value = avalue\n",
      "(Pdb) n\n",
      "> /Users/eisenham/anaconda3/envs/asnopt_py3/lib/python3.5/site-packages/jwst-0.7.7.dev493-py3.5-macosx-10.7-x86_64.egg/jwst/associations/association.py(450)match_member()\n",
      "-> continue\n",
      "(Pdb) current_value\n",
      "('o001', 'OBSERVATION')\n",
      "(Pdb) n\n",
      "> /Users/eisenham/anaconda3/envs/asnopt_py3/lib/python3.5/site-packages/jwst-0.7.7.dev493-py3.5-macosx-10.7-x86_64.egg/jwst/associations/association.py(447)match_member()\n",
      "-> for avalue in evaled:\n",
      "(Pdb) n\n",
      "> /Users/eisenham/anaconda3/envs/asnopt_py3/lib/python3.5/site-packages/jwst-0.7.7.dev493-py3.5-macosx-10.7-x86_64.egg/jwst/associations/association.py(454)match_member()\n",
      "-> if len(process_members) > 0:\n",
      "(Pdb) n\n",
      "> /Users/eisenham/anaconda3/envs/asnopt_py3/lib/python3.5/site-packages/jwst-0.7.7.dev493-py3.5-macosx-10.7-x86_64.egg/jwst/associations/association.py(460)match_member()\n",
      "-> evaled = current_value\n",
      "(Pdb) n\n",
      "> /Users/eisenham/anaconda3/envs/asnopt_py3/lib/python3.5/site-packages/jwst-0.7.7.dev493-py3.5-macosx-10.7-x86_64.egg/jwst/associations/association.py(462)match_member()\n",
      "-> evaled_str = str(evaled)\n",
      "(Pdb) n\n",
      "> /Users/eisenham/anaconda3/envs/asnopt_py3/lib/python3.5/site-packages/jwst-0.7.7.dev493-py3.5-macosx-10.7-x86_64.egg/jwst/associations/association.py(463)match_member()\n",
      "-> if conditions['value'] is not None:\n",
      "(Pdb) evaled_str\n",
      "\"('o001', 'OBSERVATION')\"\n",
      "(Pdb) n\n",
      "> /Users/eisenham/anaconda3/envs/asnopt_py3/lib/python3.5/site-packages/jwst-0.7.7.dev493-py3.5-macosx-10.7-x86_64.egg/jwst/associations/association.py(464)match_member()\n",
      "-> if not meets_conditions(\n",
      "(Pdb) s\n",
      "> /Users/eisenham/anaconda3/envs/asnopt_py3/lib/python3.5/site-packages/jwst-0.7.7.dev493-py3.5-macosx-10.7-x86_64.egg/jwst/associations/association.py(465)match_member()\n",
      "-> evaled_str, conditions['value']\n",
      "(Pdb) s\n",
      "--Call--\n",
      "> /Users/eisenham/anaconda3/envs/asnopt_py3/lib/python3.5/site-packages/jwst-0.7.7.dev493-py3.5-macosx-10.7-x86_64.egg/jwst/associations/association.py(628)meets_conditions()\n",
      "-> def meets_conditions(value, conditions):\n",
      "(Pdb) value\n",
      "\"('o001', 'OBSERVATION')\"\n",
      "(Pdb) conditions\n",
      "'.+(o001).+'\n",
      "(Pdb) n\n",
      "> /Users/eisenham/anaconda3/envs/asnopt_py3/lib/python3.5/site-packages/jwst-0.7.7.dev493-py3.5-macosx-10.7-x86_64.egg/jwst/associations/association.py(644)meets_conditions()\n",
      "-> if not is_iterable(conditions):\n",
      "(Pdb) n\n",
      "> /Users/eisenham/anaconda3/envs/asnopt_py3/lib/python3.5/site-packages/jwst-0.7.7.dev493-py3.5-macosx-10.7-x86_64.egg/jwst/associations/association.py(645)meets_conditions()\n",
      "-> conditions = [conditions]\n",
      "(Pdb) n\n",
      "> /Users/eisenham/anaconda3/envs/asnopt_py3/lib/python3.5/site-packages/jwst-0.7.7.dev493-py3.5-macosx-10.7-x86_64.egg/jwst/associations/association.py(646)meets_conditions()\n",
      "-> for condition in conditions:\n",
      "(Pdb) n\n",
      "> /Users/eisenham/anaconda3/envs/asnopt_py3/lib/python3.5/site-packages/jwst-0.7.7.dev493-py3.5-macosx-10.7-x86_64.egg/jwst/associations/association.py(647)meets_conditions()\n",
      "-> condition = ''.join([\n",
      "(Pdb) n\n",
      "> /Users/eisenham/anaconda3/envs/asnopt_py3/lib/python3.5/site-packages/jwst-0.7.7.dev493-py3.5-macosx-10.7-x86_64.egg/jwst/associations/association.py(648)meets_conditions()\n",
      "-> '^',\n",
      "(Pdb) n\n",
      "> /Users/eisenham/anaconda3/envs/asnopt_py3/lib/python3.5/site-packages/jwst-0.7.7.dev493-py3.5-macosx-10.7-x86_64.egg/jwst/associations/association.py(649)meets_conditions()\n",
      "-> condition,\n",
      "(Pdb) n\n",
      "> /Users/eisenham/anaconda3/envs/asnopt_py3/lib/python3.5/site-packages/jwst-0.7.7.dev493-py3.5-macosx-10.7-x86_64.egg/jwst/associations/association.py(650)meets_conditions()\n",
      "-> '$'\n",
      "(Pdb) n\n",
      "> /Users/eisenham/anaconda3/envs/asnopt_py3/lib/python3.5/site-packages/jwst-0.7.7.dev493-py3.5-macosx-10.7-x86_64.egg/jwst/associations/association.py(652)meets_conditions()\n",
      "-> match = re.match(condition, value, flags=re.IGNORECASE)\n",
      "(Pdb) n\n",
      "> /Users/eisenham/anaconda3/envs/asnopt_py3/lib/python3.5/site-packages/jwst-0.7.7.dev493-py3.5-macosx-10.7-x86_64.egg/jwst/associations/association.py(653)meets_conditions()\n",
      "-> if match:\n",
      "(Pdb) match\n",
      "<_sre.SRE_Match object; span=(0, 23), match=\"('o001', 'OBSERVATION')\">\n",
      "(Pdb) n\n",
      "> /Users/eisenham/anaconda3/envs/asnopt_py3/lib/python3.5/site-packages/jwst-0.7.7.dev493-py3.5-macosx-10.7-x86_64.egg/jwst/associations/association.py(654)meets_conditions()\n",
      "-> return True\n",
      "(Pdb) n\n",
      "--Return--\n",
      "> /Users/eisenham/anaconda3/envs/asnopt_py3/lib/python3.5/site-packages/jwst-0.7.7.dev493-py3.5-macosx-10.7-x86_64.egg/jwst/associations/association.py(654)meets_conditions()->True\n",
      "-> return True\n",
      "(Pdb) n\n",
      "> /Users/eisenham/anaconda3/envs/asnopt_py3/lib/python3.5/site-packages/jwst-0.7.7.dev493-py3.5-macosx-10.7-x86_64.egg/jwst/associations/association.py(475)match_member()\n",
      "-> logger.debug('Success Input=\"{}\" Value=\"{}\"'.format(input, evaled_str))\n",
      "(Pdb) n\n",
      "> /Users/eisenham/anaconda3/envs/asnopt_py3/lib/python3.5/site-packages/jwst-0.7.7.dev493-py3.5-macosx-10.7-x86_64.egg/jwst/associations/association.py(476)match_member()\n",
      "-> if conditions['value'] is None or \\\n",
      "(Pdb) conditions['value']\n",
      "'.+(o001).+'\n",
      "(Pdb) n\n",
      "> /Users/eisenham/anaconda3/envs/asnopt_py3/lib/python3.5/site-packages/jwst-0.7.7.dev493-py3.5-macosx-10.7-x86_64.egg/jwst/associations/association.py(477)match_member()\n",
      "-> conditions.get('force_unique', self.DEFAULT_FORCE_UNIQUE):\n",
      "(Pdb) n\n",
      "> /Users/eisenham/anaconda3/envs/asnopt_py3/lib/python3.5/site-packages/jwst-0.7.7.dev493-py3.5-macosx-10.7-x86_64.egg/jwst/associations/association.py(478)match_member()\n",
      "-> conditions['value'] = re.escape(evaled_str)\n",
      "(Pdb) conditions.get('force_unique')\n",
      "True\n",
      "(Pdb) n\n",
      "> /Users/eisenham/anaconda3/envs/asnopt_py3/lib/python3.5/site-packages/jwst-0.7.7.dev493-py3.5-macosx-10.7-x86_64.egg/jwst/associations/association.py(479)match_member()\n",
      "-> conditions['inputs'] = [input]\n",
      "(Pdb) n\n",
      "> /Users/eisenham/anaconda3/envs/asnopt_py3/lib/python3.5/site-packages/jwst-0.7.7.dev493-py3.5-macosx-10.7-x86_64.egg/jwst/associations/association.py(480)match_member()\n",
      "-> conditions['force_unique'] = False\n",
      "(Pdb) n\n",
      "> /Users/eisenham/anaconda3/envs/asnopt_py3/lib/python3.5/site-packages/jwst-0.7.7.dev493-py3.5-macosx-10.7-x86_64.egg/jwst/associations/association.py(483)match_member()\n",
      "-> return True, reprocess\n",
      "(Pdb) l\n",
      "478  \t            conditions['value'] = re.escape(evaled_str)\n",
      "479  \t            conditions['inputs'] = [input]\n",
      "480  \t            conditions['force_unique'] = False\n",
      "481  \t\n",
      "482  \t        # That's all folks\n",
      "483  ->\t        return True, reprocess\n",
      "484  \t\n",
      "485  \t    def match_constraint(self, member, constraint, conditions):\n",
      "486  \t        \"\"\"Generic constraint checking\n",
      "487  \t\n",
      "488  \t        Parameters\n"
     ]
    },
    {
     "name": "stdout",
     "output_type": "stream",
     "text": [
      "(Pdb) reprocess\n",
      "[]\n",
      "(Pdb) n\n",
      "--Return--\n",
      "> /Users/eisenham/anaconda3/envs/asnopt_py3/lib/python3.5/site-packages/jwst-0.7.7.dev493-py3.5-macosx-10.7-x86_64.egg/jwst/associations/association.py(483)match_member()->(True, [])\n",
      "-> return True, reprocess\n",
      "(Pdb) n\n",
      "> /Users/eisenham/anaconda3/envs/asnopt_py3/lib/python3.5/site-packages/jwst-0.7.7.dev493-py3.5-macosx-10.7-x86_64.egg/jwst/associations/association.py(373)test_and_set_constraints()\n",
      "-> reprocess.extend(new_reprocess)\n",
      "(Pdb) n\n",
      "> /Users/eisenham/anaconda3/envs/asnopt_py3/lib/python3.5/site-packages/jwst-0.7.7.dev493-py3.5-macosx-10.7-x86_64.egg/jwst/associations/association.py(374)test_and_set_constraints()\n",
      "-> if not matches:\n",
      "(Pdb) n\n",
      "> /Users/eisenham/anaconda3/envs/asnopt_py3/lib/python3.5/site-packages/jwst-0.7.7.dev493-py3.5-macosx-10.7-x86_64.egg/jwst/associations/association.py(367)test_and_set_constraints()\n",
      "-> for constraint, conditions in constraints.items():\n",
      "(Pdb) n\n",
      "> /Users/eisenham/anaconda3/envs/asnopt_py3/lib/python3.5/site-packages/jwst-0.7.7.dev493-py3.5-macosx-10.7-x86_64.egg/jwst/associations/association.py(368)test_and_set_constraints()\n",
      "-> logger.debug('Constraint=\"{}\" Conditions=\"{}\"'.format(\n",
      "(Pdb) constraint\n",
      "'target'\n",
      "(Pdb) c\n",
      "> /Users/eisenham/anaconda3/envs/asnopt_py3/lib/python3.5/site-packages/jwst-0.7.7.dev493-py3.5-macosx-10.7-x86_64.egg/jwst/associations/association.py(368)test_and_set_constraints()\n",
      "-> logger.debug('Constraint=\"{}\" Conditions=\"{}\"'.format(\n",
      "(Pdb) constraint\n",
      "'opt_elem2'\n",
      "(Pdb) c\n",
      "> /Users/eisenham/anaconda3/envs/asnopt_py3/lib/python3.5/site-packages/jwst-0.7.7.dev493-py3.5-macosx-10.7-x86_64.egg/jwst/associations/association.py(368)test_and_set_constraints()\n",
      "-> logger.debug('Constraint=\"{}\" Conditions=\"{}\"'.format(\n",
      "(Pdb) constraint\n",
      "'exp_type'\n",
      "(Pdb) c\n",
      "> /Users/eisenham/anaconda3/envs/asnopt_py3/lib/python3.5/site-packages/jwst-0.7.7.dev493-py3.5-macosx-10.7-x86_64.egg/jwst/associations/association.py(368)test_and_set_constraints()\n",
      "-> logger.debug('Constraint=\"{}\" Conditions=\"{}\"'.format(\n",
      "(Pdb) c\n"
     ]
    }
   ],
   "source": [
    "pdb.run('generate(pool, rules)')"
   ]
  },
  {
   "cell_type": "code",
   "execution_count": 20,
   "metadata": {
    "scrolled": false
   },
   "outputs": [],
   "source": [
    "asns, orphaned = generate(pool, rules)"
   ]
  },
  {
   "cell_type": "code",
   "execution_count": 21,
   "metadata": {},
   "outputs": [],
   "source": [
    "assert len(asns) == 1"
   ]
  },
  {
   "cell_type": "code",
   "execution_count": 22,
   "metadata": {},
   "outputs": [],
   "source": [
    "asn = asns[0]"
   ]
  },
  {
   "cell_type": "code",
   "execution_count": 23,
   "metadata": {},
   "outputs": [
    {
     "data": {
      "text/plain": [
       "{'asn_candidate': {'force_unique': False,\n",
       "  'inputs': ['ASN_CANDIDATE'],\n",
       "  'is_acid': True,\n",
       "  'value': \"\\\\(\\\\'o001\\\\'\\\\,\\\\ \\\\'OBSERVATION\\\\'\\\\)\"},\n",
       " 'exp_type': {'force_unique': False,\n",
       "  'inputs': ['EXP_TYPE'],\n",
       "  'value': 'MIR_IMAGE'},\n",
       " 'instrument': {'force_unique': False,\n",
       "  'inputs': ['INSTRUME'],\n",
       "  'value': 'MIRI'},\n",
       " 'opt_elem': {'force_unique': False, 'inputs': ['FILTER'], 'value': 'F560W'},\n",
       " 'opt_elem2': {'inputs': ['PUPIL', 'GRATING'],\n",
       "  'required': False,\n",
       "  'value': None},\n",
       " 'program': {'force_unique': False, 'inputs': ['PROGRAM'], 'value': '99009'},\n",
       " 'target': {'force_unique': False, 'inputs': ['TARGETID'], 'value': '1'},\n",
       " 'wfsvisit': {'force_undefined': True, 'inputs': ['WFSVISIT']}}"
      ]
     },
     "execution_count": 23,
     "metadata": {},
     "output_type": "execute_result"
    }
   ],
   "source": [
    "asn.constraints"
   ]
  },
  {
   "cell_type": "markdown",
   "metadata": {},
   "source": [
    "## Try Level 2 now"
   ]
  },
  {
   "cell_type": "code",
   "execution_count": null,
   "metadata": {
    "collapsed": true
   },
   "outputs": [],
   "source": [
    "rules_lv2 = registry_level2_only(global_constraints=c_o001)"
   ]
  },
  {
   "cell_type": "code",
   "execution_count": null,
   "metadata": {
    "collapsed": true
   },
   "outputs": [],
   "source": [
    "asns, orphaned = generate(pool, rules_lv2)"
   ]
  },
  {
   "cell_type": "code",
   "execution_count": null,
   "metadata": {},
   "outputs": [],
   "source": [
    "assert len(asns) == 1"
   ]
  },
  {
   "cell_type": "code",
   "execution_count": null,
   "metadata": {
    "collapsed": true
   },
   "outputs": [],
   "source": [
    "asn = asns[0]"
   ]
  },
  {
   "cell_type": "code",
   "execution_count": null,
   "metadata": {},
   "outputs": [],
   "source": [
    "asn.constraints"
   ]
  },
  {
   "cell_type": "code",
   "execution_count": null,
   "metadata": {},
   "outputs": [],
   "source": [
    "asn.acid.type"
   ]
  },
  {
   "cell_type": "code",
   "execution_count": null,
   "metadata": {},
   "outputs": [],
   "source": [
    "rules_lv2"
   ]
  },
  {
   "cell_type": "code",
   "execution_count": null,
   "metadata": {},
   "outputs": [],
   "source": [
    "asn.asn_rule"
   ]
  },
  {
   "cell_type": "code",
   "execution_count": null,
   "metadata": {
    "collapsed": true
   },
   "outputs": [],
   "source": []
  }
 ],
 "metadata": {
  "kernelspec": {
   "display_name": "Python 3",
   "language": "python",
   "name": "python3"
  },
  "language_info": {
   "codemirror_mode": {
    "name": "ipython",
    "version": 3
   },
   "file_extension": ".py",
   "mimetype": "text/x-python",
   "name": "python",
   "nbconvert_exporter": "python",
   "pygments_lexer": "ipython3",
   "version": "3.6.4"
  }
 },
 "nbformat": 4,
 "nbformat_minor": 2
}
