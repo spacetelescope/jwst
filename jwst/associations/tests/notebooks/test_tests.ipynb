{
 "cells": [
  {
   "cell_type": "markdown",
   "metadata": {},
   "source": [
    "# Abstract"
   ]
  },
  {
   "cell_type": "markdown",
   "metadata": {},
   "source": [
    "Test individual test comparison associations"
   ]
  },
  {
   "cell_type": "markdown",
   "metadata": {},
   "source": [
    "# Environment"
   ]
  },
  {
   "cell_type": "code",
   "execution_count": 1,
   "metadata": {},
   "outputs": [],
   "source": [
    "# Setup debugging log\n",
    "import logging\n",
    "logger = logging.getLogger('jwst.associations')\n",
    "handler = logging.StreamHandler()\n",
    "logger.addHandler(handler)\n",
    "handler.setLevel(logging.DEBUG)\n",
    "#logger.setLevel(logging.DEBUG)"
   ]
  },
  {
   "cell_type": "code",
   "execution_count": 2,
   "metadata": {},
   "outputs": [],
   "source": [
    "from copy import copy\n",
    "import gc\n",
    "from glob import glob\n",
    "from os import (\n",
    "    listdir, \n",
    "    mkdir,\n",
    "    path\n",
    ")\n",
    "import pdb\n",
    "import re\n",
    "import shutil\n",
    "from tempfile import TemporaryDirectory\n",
    "import timeit"
   ]
  },
  {
   "cell_type": "code",
   "execution_count": 3,
   "metadata": {},
   "outputs": [],
   "source": [
    "from IPython.core.debugger import set_trace"
   ]
  },
  {
   "cell_type": "code",
   "execution_count": 4,
   "metadata": {},
   "outputs": [],
   "source": [
    "import numpy as np"
   ]
  },
  {
   "cell_type": "code",
   "execution_count": 5,
   "metadata": {},
   "outputs": [],
   "source": [
    "from jwst.associations import (\n",
    "    AssociationPool,\n",
    "    AssociationRegistry,\n",
    "    generate\n",
    ")\n",
    "from jwst.associations.main import (Main, constrain_on_candidates)\n",
    "from jwst.associations.lib.dms_base import DMSAttrConstraint\n",
    "from jwst.associations.lib.rules_level3_base import _EMPTY"
   ]
  },
  {
   "cell_type": "code",
   "execution_count": 6,
   "metadata": {},
   "outputs": [],
   "source": [
    "from jwst.associations.tests.helpers import (\n",
    "    combine_pools,\n",
    "    registry_level3_only,\n",
    "    registry_level2_only,\n",
    "    t_path,\n",
    ")"
   ]
  },
  {
   "cell_type": "code",
   "execution_count": 7,
   "metadata": {},
   "outputs": [],
   "source": [
    "from jwst.associations.tests.test_standards import (\n",
    "    DEF_ARGS,\n",
    "    LV2_ONLY_ARGS,\n",
    "    LV3_ONLY_ARGS,\n",
    "    MakePars,\n",
    "    standards\n",
    ")"
   ]
  },
  {
   "cell_type": "code",
   "execution_count": 8,
   "metadata": {},
   "outputs": [],
   "source": [
    "# Folders\n",
    "DATA_DIR = path.join(\n",
    "    '..', 'data'\n",
    ")\n",
    "NEW_ASN_DIR = path.join(\n",
    "    DATA_DIR,\n",
    "    'new_asn_standards'\n",
    ")\n",
    "SDP_DIR = path.join(\n",
    "    '..', 'data', 'sdp'\n",
    ")\n",
    "SDP_POOLS = path.join(\n",
    "    SDP_DIR, 'pools'\n",
    ")\n",
    "SDP_NEW_ASN_DIR = path.join(\n",
    "    SDP_DIR, 'new_asns'\n",
    ")"
   ]
  },
  {
   "cell_type": "markdown",
   "metadata": {},
   "source": [
    "# Library"
   ]
  },
  {
   "cell_type": "code",
   "execution_count": 9,
   "metadata": {},
   "outputs": [],
   "source": [
    "def make_standards(pool_root, \n",
    "                   main_args=None,\n",
    "                   source=DATA_DIR,\n",
    "                   outdir=NEW_ASN_DIR\n",
    "                  ):\n",
    "    \"\"\"Make the association standards for a pool\"\"\"\n",
    "    pool_path = path.join(\n",
    "        source,\n",
    "        pool_root + '.csv'\n",
    "    )\n",
    "    pool = combine_pools(pool_path)\n",
    "    if main_args is None:\n",
    "        main_args = []\n",
    "    with TemporaryDirectory() as tmp_path:\n",
    "        args = main_args + ['-v', '-p', tmp_path]\n",
    "        results = Main(\n",
    "            args,\n",
    "            pool=pool\n",
    "        )\n",
    "        asn_paths = listdir(tmp_path)\n",
    "        for asn_path in asn_paths:\n",
    "            matches = re.match('[^-]+(-.+)', asn_path)\n",
    "            asn_tail = matches.group(1)\n",
    "            from_path = path.join(tmp_path, asn_path)\n",
    "            to_path = path.join(outdir, pool_root + asn_tail)\n",
    "            shutil.move(from_path, to_path)\n",
    "        pool.write(path.join(outdir, pool_root + '_std.csv'))"
   ]
  },
  {
   "cell_type": "code",
   "execution_count": 10,
   "metadata": {},
   "outputs": [],
   "source": [
    "def find_test(pool_root, test_pars):\n",
    "    \"\"\"Find a particular test setup\n",
    "    \n",
    "    Parameters\n",
    "    ----------\n",
    "    pool_root: str\n",
    "        The pool to find in the test parameters.\n",
    "        \n",
    "    test_pars: [MakePars[,...]]\n",
    "        The list of `MakePars` to search\n",
    "        \n",
    "    Returns\n",
    "    -------\n",
    "    MakePars\n",
    "        The `MakePars` corresponding to the desired\n",
    "        pool root.\n",
    "        \n",
    "    Raises\n",
    "    ------\n",
    "    KeyError if `pool_root` is not found\n",
    "    \"\"\"\n",
    "    for test_par in test_pars:\n",
    "        if test_par.pool_root == pool_root:\n",
    "            return test_par\n",
    "    raise Keyerror('Pool {} not found in test pars'.format(pool_root))"
   ]
  },
  {
   "cell_type": "code",
   "execution_count": 11,
   "metadata": {},
   "outputs": [],
   "source": [
    "def debug_generate(*args, **kwargs):\n",
    "    \"\"\"Set tracing for generate\"\"\"\n",
    "    set_trace()\n",
    "    asns = generate(*args, **kwargs)"
   ]
  },
  {
   "cell_type": "markdown",
   "metadata": {},
   "source": [
    "# Main"
   ]
  },
  {
   "cell_type": "markdown",
   "metadata": {},
   "source": [
    "## Setup constraints"
   ]
  },
  {
   "cell_type": "code",
   "execution_count": 12,
   "metadata": {},
   "outputs": [
    {
     "data": {
      "text/plain": [
       "DMSAttrConstraint({'sources': ['asn_candidate'], 'evaluate': True, 'force_reprocess': False, 'force_undefined': False, 'force_unique': True, 'invalid_values': (None, '', 'NULL', 'Null', 'null', '--', 'N', 'n', 'F', 'f'), 'only_on_match': False, 'onlyif': <function AttrConstraint.__init__.<locals>.<lambda> at 0x10edc37b8>, 'required': True, 'value': None, 'name': 'asn_candidate', 'is_acid': True, 'found_values': set()})"
      ]
     },
     "execution_count": 12,
     "metadata": {},
     "output_type": "execute_result"
    }
   ],
   "source": [
    "constrain_all_candidates = constrain_on_candidates(None)\n",
    "constrain_all_candidates"
   ]
  },
  {
   "cell_type": "code",
   "execution_count": 13,
   "metadata": {},
   "outputs": [],
   "source": [
    "# constrain_all_candidates.invalid_values = _EMPTY"
   ]
  },
  {
   "cell_type": "code",
   "execution_count": 14,
   "metadata": {},
   "outputs": [],
   "source": [
    "# constrain_all_candidates"
   ]
  },
  {
   "cell_type": "code",
   "execution_count": 15,
   "metadata": {},
   "outputs": [],
   "source": [
    "reg_lv2_all_candidates = registry_level2_only(global_constraints=constrain_all_candidates)\n",
    "reg_lv3_all_candidates = registry_level3_only(global_constraints=constrain_all_candidates)"
   ]
  },
  {
   "cell_type": "code",
   "execution_count": 16,
   "metadata": {},
   "outputs": [
    {
     "data": {
      "text/plain": [
       "{'Asn_Lv2FGS': abc.Asn_Lv2FGS,\n",
       " 'Asn_Lv2Image': abc.Asn_Lv2Image,\n",
       " 'Asn_Lv2ImageNonScience': abc.Asn_Lv2ImageNonScience,\n",
       " 'Asn_Lv2ImageSpecial': abc.Asn_Lv2ImageSpecial,\n",
       " 'Asn_Lv2Spec': abc.Asn_Lv2Spec,\n",
       " 'Asn_Lv2SpecSpecial': abc.Asn_Lv2SpecSpecial,\n",
       " 'Asn_Lv2WFSS': abc.Asn_Lv2WFSS}"
      ]
     },
     "execution_count": 16,
     "metadata": {},
     "output_type": "execute_result"
    }
   ],
   "source": [
    "reg_lv2_all_candidates"
   ]
  },
  {
   "cell_type": "code",
   "execution_count": 17,
   "metadata": {},
   "outputs": [
    {
     "data": {
      "text/plain": [
       "{'Asn_ACQ_Reprocess': abc.Asn_ACQ_Reprocess,\n",
       " 'Asn_AMI': abc.Asn_AMI,\n",
       " 'Asn_Coron': abc.Asn_Coron,\n",
       " 'Asn_IFU': abc.Asn_IFU,\n",
       " 'Asn_Image': abc.Asn_Image,\n",
       " 'Asn_Spectral': abc.Asn_Spectral,\n",
       " 'Asn_TSO_EXPTYPE': abc.Asn_TSO_EXPTYPE,\n",
       " 'Asn_TSO_Flag': abc.Asn_TSO_Flag,\n",
       " 'Asn_WFSCMB': abc.Asn_WFSCMB,\n",
       " 'Asn_WFSS': abc.Asn_WFSS}"
      ]
     },
     "execution_count": 17,
     "metadata": {},
     "output_type": "execute_result"
    }
   ],
   "source": [
    "reg_lv3_all_candidates"
   ]
  },
  {
   "cell_type": "markdown",
   "metadata": {},
   "source": [
    "## pool_019_niriss_wfss"
   ]
  },
  {
   "cell_type": "code",
   "execution_count": 24,
   "metadata": {},
   "outputs": [],
   "source": [
    "pool_019 = combine_pools('../data/pool_019_niriss_wfss.csv')"
   ]
  },
  {
   "cell_type": "code",
   "execution_count": 25,
   "metadata": {},
   "outputs": [],
   "source": [
    "%rm $NEW_ASN_DIR/pool_019*"
   ]
  },
  {
   "cell_type": "code",
   "execution_count": 26,
   "metadata": {},
   "outputs": [
    {
     "name": "stdout",
     "output_type": "stream",
     "text": [
      "Command-line arguments: ['-v', '-p', '/var/folders/z7/hcykr_n546s_5033t9rj5d200000zj/T/tmpmcu59i9a']\n",
      "Reading rules.\n",
      "Generating associations.\n"
     ]
    },
    {
     "name": "stderr",
     "output_type": "stream",
     "text": [
      "201802140022:WARNING:jwst.associations.lib.rules_level2_base.rename_to_level2a:Item FILENAME=\"set acid\" is not a Level 1b name. Cannot transform to Level 2a.\n",
      "201802140022:WARNING:jwst.associations.lib.rules_level2_base.rename_to_level2a:Item FILENAME=\"set acid\" is not a Level 1b name. Cannot transform to Level 2a.\n",
      "201802140022:WARNING:jwst.associations.lib.rules_level2_base.rename_to_level2a:Item FILENAME=\"set acid\" is not a Level 1b name. Cannot transform to Level 2a.\n",
      "201802140022:WARNING:jwst.associations.lib.rules_level2_base.rename_to_level2a:Item FILENAME=\"set acid\" is not a Level 1b name. Cannot transform to Level 2a.\n",
      "201802140022:WARNING:jwst.associations.lib.rules_level2_base.rename_to_level2a:Item FILENAME=\"set acid\" is not a Level 1b name. Cannot transform to Level 2a.\n",
      "201802140022:WARNING:jwst.associations.lib.rules_level2_base.rename_to_level2a:Item FILENAME=\"set acid\" is not a Level 1b name. Cannot transform to Level 2a.\n",
      "201802140022:WARNING:jwst.associations.lib.rules_level2_base.rename_to_level2a:Item FILENAME=\"set acid\" is not a Level 1b name. Cannot transform to Level 2a.\n",
      "201802140022:WARNING:jwst.associations.lib.rules_level3_base.rename_to_level2:Item FILENAME=\"set acid\" is not a Level 1b name. Cannot transform to Level 2b.\n",
      "201802140022:WARNING:jwst.associations.lib.rules_level3_base.rename_to_level2:Item FILENAME=\"set acid\" is not a Level 1b name. Cannot transform to Level 2b.\n",
      "201802140022:WARNING:jwst.associations.lib.rules_level3_base.rename_to_level2:Item FILENAME=\"set acid\" is not a Level 1b name. Cannot transform to Level 2b.\n",
      "201802140022:WARNING:jwst.associations.lib.rules_level3_base.rename_to_level2:Item FILENAME=\"set acid\" is not a Level 1b name. Cannot transform to Level 2b.\n",
      "201802140022:WARNING:jwst.associations.lib.rules_level3_base.rename_to_level2:Item FILENAME=\"set acid\" is not a Level 1b name. Cannot transform to Level 2b.\n",
      "201802140022:WARNING:jwst.associations.lib.rules_level3_base.rename_to_level2:Item FILENAME=\"set acid\" is not a Level 1b name. Cannot transform to Level 2b.\n",
      "201802140022:WARNING:jwst.associations.lib.rules_level3_base.rename_to_level2:Item FILENAME=\"set acid\" is not a Level 1b name. Cannot transform to Level 2b.\n",
      "201802140022:WARNING:jwst.associations.lib.rules_level3_base.rename_to_level2:Item FILENAME=\"set acid\" is not a Level 1b name. Cannot transform to Level 2b.\n",
      "201802140022:WARNING:jwst.associations.lib.rules_level3_base.rename_to_level2:Item FILENAME=\"set acid\" is not a Level 1b name. Cannot transform to Level 2b.\n",
      "201802140022:WARNING:jwst.associations.lib.rules_level3_base.rename_to_level2:Item FILENAME=\"set acid\" is not a Level 1b name. Cannot transform to Level 2b.\n",
      "201802140022:WARNING:jwst.associations.lib.rules_level2_base.rename_to_level2a:Item FILENAME=\"set acid\" is not a Level 1b name. Cannot transform to Level 2a.\n",
      "201802140022:WARNING:jwst.associations.lib.rules_level2_base.rename_to_level2a:Item FILENAME=\"set acid\" is not a Level 1b name. Cannot transform to Level 2a.\n",
      "201802140022:WARNING:jwst.associations.lib.rules_level2_base.rename_to_level2a:Item FILENAME=\"set acid\" is not a Level 1b name. Cannot transform to Level 2a.\n",
      "201802140022:WARNING:jwst.associations.lib.rules_level2_base.rename_to_level2a:Item FILENAME=\"set acid\" is not a Level 1b name. Cannot transform to Level 2a.\n",
      "201802140022:WARNING:jwst.associations.lib.rules_level2_base.rename_to_level2a:Item FILENAME=\"set acid\" is not a Level 1b name. Cannot transform to Level 2a.\n",
      "201802140022:WARNING:jwst.associations.lib.rules_level2_base.rename_to_level2a:Item FILENAME=\"set acid\" is not a Level 1b name. Cannot transform to Level 2a.\n",
      "201802140022:WARNING:jwst.associations.lib.rules_level2_base.rename_to_level2a:Item FILENAME=\"set acid\" is not a Level 1b name. Cannot transform to Level 2a.\n",
      "201802140022:WARNING:jwst.associations.lib.rules_level3_base.rename_to_level2:Item FILENAME=\"set acid\" is not a Level 1b name. Cannot transform to Level 2b.\n",
      "201802140022:WARNING:jwst.associations.lib.rules_level3_base.rename_to_level2:Item FILENAME=\"set acid\" is not a Level 1b name. Cannot transform to Level 2b.\n",
      "201802140022:WARNING:jwst.associations.lib.rules_level3_base.rename_to_level2:Item FILENAME=\"set acid\" is not a Level 1b name. Cannot transform to Level 2b.\n",
      "201802140022:WARNING:jwst.associations.lib.rules_level3_base.rename_to_level2:Item FILENAME=\"set acid\" is not a Level 1b name. Cannot transform to Level 2b.\n",
      "201802140022:WARNING:jwst.associations.lib.rules_level3_base.rename_to_level2:Item FILENAME=\"set acid\" is not a Level 1b name. Cannot transform to Level 2b.\n",
      "201802140022:WARNING:jwst.associations.lib.rules_level3_base.rename_to_level2:Item FILENAME=\"set acid\" is not a Level 1b name. Cannot transform to Level 2b.\n",
      "201802140022:WARNING:jwst.associations.lib.rules_level3_base.rename_to_level2:Item FILENAME=\"set acid\" is not a Level 1b name. Cannot transform to Level 2b.\n",
      "201802140022:WARNING:jwst.associations.lib.rules_level3_base.rename_to_level2:Item FILENAME=\"set acid\" is not a Level 1b name. Cannot transform to Level 2b.\n",
      "201802140022:WARNING:jwst.associations.lib.rules_level3_base.rename_to_level2:Item FILENAME=\"set acid\" is not a Level 1b name. Cannot transform to Level 2b.\n",
      "201802140022:WARNING:jwst.associations.lib.rules_level3_base.rename_to_level2:Item FILENAME=\"set acid\" is not a Level 1b name. Cannot transform to Level 2b.\n",
      "201802140022:WARNING:jwst.associations.lib.rules_level2_base.rename_to_level2a:Item FILENAME=\"set acid\" is not a Level 1b name. Cannot transform to Level 2a.\n",
      "201802140022:WARNING:jwst.associations.lib.rules_level3_base.rename_to_level2:Item FILENAME=\"set acid\" is not a Level 1b name. Cannot transform to Level 2b.\n",
      "201802140022:WARNING:jwst.associations.lib.rules_level2_base.rename_to_level2a:Item FILENAME=\"set acid\" is not a Level 1b name. Cannot transform to Level 2a.\n",
      "201802140022:WARNING:jwst.associations.lib.rules_level3_base.rename_to_level2:Item FILENAME=\"set acid\" is not a Level 1b name. Cannot transform to Level 2b.\n",
      "201802140022:WARNING:jwst.associations.lib.rules_level2_base.rename_to_level2a:Item FILENAME=\"set acid\" is not a Level 1b name. Cannot transform to Level 2a.\n",
      "201802140022:WARNING:jwst.associations.lib.rules_level2_base.rename_to_level2a:Item FILENAME=\"set acid\" is not a Level 1b name. Cannot transform to Level 2a.\n",
      "201802140022:WARNING:jwst.associations.lib.rules_level2_base.rename_to_level2a:Item FILENAME=\"set acid\" is not a Level 1b name. Cannot transform to Level 2a.\n",
      "201802140022:WARNING:jwst.associations.lib.rules_level2_base.rename_to_level2a:Item FILENAME=\"set acid\" is not a Level 1b name. Cannot transform to Level 2a.\n",
      "201802140022:WARNING:jwst.associations.lib.rules_level2_base.rename_to_level2a:Item FILENAME=\"set acid\" is not a Level 1b name. Cannot transform to Level 2a.\n",
      "201802140022:WARNING:jwst.associations.lib.rules_level2_base.rename_to_level2a:Item FILENAME=\"set acid\" is not a Level 1b name. Cannot transform to Level 2a.\n",
      "201802140022:WARNING:jwst.associations.lib.rules_level2_base.rename_to_level2a:Item FILENAME=\"set acid\" is not a Level 1b name. Cannot transform to Level 2a.\n",
      "201802140022:WARNING:jwst.associations.lib.rules_level2_base.rename_to_level2a:Item FILENAME=\"set acid\" is not a Level 1b name. Cannot transform to Level 2a.\n",
      "201802140022:WARNING:jwst.associations.lib.rules_level2_base.rename_to_level2a:Item FILENAME=\"set acid\" is not a Level 1b name. Cannot transform to Level 2a.\n",
      "201802140022:WARNING:jwst.associations.lib.rules_level2_base.rename_to_level2a:Item FILENAME=\"set acid\" is not a Level 1b name. Cannot transform to Level 2a.\n",
      "201802140022:WARNING:jwst.associations.lib.rules_level2_base.rename_to_level2a:Item FILENAME=\"set acid\" is not a Level 1b name. Cannot transform to Level 2a.\n",
      "201802140022:WARNING:jwst.associations.lib.rules_level2_base.rename_to_level2a:Item FILENAME=\"set acid\" is not a Level 1b name. Cannot transform to Level 2a.\n",
      "201802140022:WARNING:jwst.associations.lib.rules_level2_base.rename_to_level2a:Item FILENAME=\"set acid\" is not a Level 1b name. Cannot transform to Level 2a.\n",
      "201802140022:WARNING:jwst.associations.lib.rules_level2_base.rename_to_level2a:Item FILENAME=\"set acid\" is not a Level 1b name. Cannot transform to Level 2a.\n"
     ]
    },
    {
     "name": "stderr",
     "output_type": "stream",
     "text": [
      "201802140022:WARNING:jwst.associations.lib.rules_level2_base.rename_to_level2a:Item FILENAME=\"set acid\" is not a Level 1b name. Cannot transform to Level 2a.\n",
      "201802140022:WARNING:jwst.associations.lib.rules_level2_base.rename_to_level2a:Item FILENAME=\"set acid\" is not a Level 1b name. Cannot transform to Level 2a.\n",
      "201802140022:WARNING:jwst.associations.lib.rules_level2_base.rename_to_level2a:Item FILENAME=\"set acid\" is not a Level 1b name. Cannot transform to Level 2a.\n",
      "201802140022:WARNING:jwst.associations.lib.rules_level2_base.rename_to_level2a:Item FILENAME=\"set acid\" is not a Level 1b name. Cannot transform to Level 2a.\n",
      "201802140022:WARNING:jwst.associations.lib.rules_level2_base.rename_to_level2a:Item FILENAME=\"set acid\" is not a Level 1b name. Cannot transform to Level 2a.\n",
      "201802140022:WARNING:jwst.associations.lib.rules_level2_base.rename_to_level2a:Item FILENAME=\"set acid\" is not a Level 1b name. Cannot transform to Level 2a.\n",
      "201802140022:WARNING:jwst.associations.lib.rules_level2_base.rename_to_level2a:Item FILENAME=\"set acid\" is not a Level 1b name. Cannot transform to Level 2a.\n",
      "201802140022:WARNING:jwst.associations.lib.rules_level3_base.rename_to_level2:Item FILENAME=\"set acid\" is not a Level 1b name. Cannot transform to Level 2b.\n",
      "201802140022:WARNING:jwst.associations.lib.rules_level3_base.rename_to_level2:Item FILENAME=\"set acid\" is not a Level 1b name. Cannot transform to Level 2b.\n",
      "201802140022:WARNING:jwst.associations.lib.rules_level3_base.rename_to_level2:Item FILENAME=\"set acid\" is not a Level 1b name. Cannot transform to Level 2b.\n",
      "201802140022:WARNING:jwst.associations.lib.rules_level3_base.rename_to_level2:Item FILENAME=\"set acid\" is not a Level 1b name. Cannot transform to Level 2b.\n",
      "201802140022:WARNING:jwst.associations.lib.rules_level3_base.rename_to_level2:Item FILENAME=\"set acid\" is not a Level 1b name. Cannot transform to Level 2b.\n",
      "201802140022:WARNING:jwst.associations.lib.rules_level3_base.rename_to_level2:Item FILENAME=\"set acid\" is not a Level 1b name. Cannot transform to Level 2b.\n",
      "201802140022:WARNING:jwst.associations.lib.rules_level3_base.rename_to_level2:Item FILENAME=\"set acid\" is not a Level 1b name. Cannot transform to Level 2b.\n",
      "201802140022:WARNING:jwst.associations.lib.rules_level3_base.rename_to_level2:Item FILENAME=\"set acid\" is not a Level 1b name. Cannot transform to Level 2b.\n",
      "201802140022:WARNING:jwst.associations.lib.rules_level3_base.rename_to_level2:Item FILENAME=\"set acid\" is not a Level 1b name. Cannot transform to Level 2b.\n",
      "201802140022:WARNING:jwst.associations.lib.rules_level3_base.rename_to_level2:Item FILENAME=\"set acid\" is not a Level 1b name. Cannot transform to Level 2b.\n",
      "201802140022:WARNING:jwst.associations.lib.rules_level2_base.rename_to_level2a:Item FILENAME=\"set acid\" is not a Level 1b name. Cannot transform to Level 2a.\n",
      "201802140022:WARNING:jwst.associations.lib.rules_level2_base.rename_to_level2a:Item FILENAME=\"set acid\" is not a Level 1b name. Cannot transform to Level 2a.\n",
      "201802140022:WARNING:jwst.associations.lib.rules_level2_base.rename_to_level2a:Item FILENAME=\"set acid\" is not a Level 1b name. Cannot transform to Level 2a.\n",
      "201802140022:WARNING:jwst.associations.lib.rules_level2_base.rename_to_level2a:Item FILENAME=\"set acid\" is not a Level 1b name. Cannot transform to Level 2a.\n",
      "201802140022:WARNING:jwst.associations.lib.rules_level2_base.rename_to_level2a:Item FILENAME=\"set acid\" is not a Level 1b name. Cannot transform to Level 2a.\n",
      "201802140022:WARNING:jwst.associations.lib.rules_level2_base.rename_to_level2a:Item FILENAME=\"set acid\" is not a Level 1b name. Cannot transform to Level 2a.\n",
      "201802140022:WARNING:jwst.associations.lib.rules_level2_base.rename_to_level2a:Item FILENAME=\"set acid\" is not a Level 1b name. Cannot transform to Level 2a.\n",
      "201802140022:WARNING:jwst.associations.lib.rules_level3_base.rename_to_level2:Item FILENAME=\"set acid\" is not a Level 1b name. Cannot transform to Level 2b.\n",
      "201802140022:WARNING:jwst.associations.lib.rules_level3_base.rename_to_level2:Item FILENAME=\"set acid\" is not a Level 1b name. Cannot transform to Level 2b.\n",
      "201802140022:WARNING:jwst.associations.lib.rules_level3_base.rename_to_level2:Item FILENAME=\"set acid\" is not a Level 1b name. Cannot transform to Level 2b.\n",
      "201802140022:WARNING:jwst.associations.lib.rules_level3_base.rename_to_level2:Item FILENAME=\"set acid\" is not a Level 1b name. Cannot transform to Level 2b.\n",
      "201802140022:WARNING:jwst.associations.lib.rules_level3_base.rename_to_level2:Item FILENAME=\"set acid\" is not a Level 1b name. Cannot transform to Level 2b.\n",
      "201802140022:WARNING:jwst.associations.lib.rules_level3_base.rename_to_level2:Item FILENAME=\"set acid\" is not a Level 1b name. Cannot transform to Level 2b.\n",
      "201802140022:WARNING:jwst.associations.lib.rules_level3_base.rename_to_level2:Item FILENAME=\"set acid\" is not a Level 1b name. Cannot transform to Level 2b.\n",
      "201802140022:WARNING:jwst.associations.lib.rules_level3_base.rename_to_level2:Item FILENAME=\"set acid\" is not a Level 1b name. Cannot transform to Level 2b.\n",
      "201802140022:WARNING:jwst.associations.lib.rules_level3_base.rename_to_level2:Item FILENAME=\"set acid\" is not a Level 1b name. Cannot transform to Level 2b.\n",
      "201802140022:WARNING:jwst.associations.lib.rules_level3_base.rename_to_level2:Item FILENAME=\"set acid\" is not a Level 1b name. Cannot transform to Level 2b.\n"
     ]
    },
    {
     "name": "stdout",
     "output_type": "stream",
     "text": [
      "There where 4 associations and 2 orphaned items found.\n",
      "Associations found are:\n",
      "jw99009-o001_image3_001_asn with 1 products\n",
      "Rule=candidate_Asn_Image\n",
      "DMSAttrConstraint({'name': 'program', 'sources': ['program'], 'value': '99009'})\n",
      "DMSAttrConstraint({'name': 'instrument', 'sources': ['instrume'], 'value': 'niriss'})\n",
      "DMSAttrConstraint({'name': 'opt_elem', 'sources': ['filter'], 'value': 'f140m'})\n",
      "DMSAttrConstraint({'name': 'opt_elem2', 'sources': ['pupil', 'grating'], 'value': None})\n",
      "DMSAttrConstraint({'name': 'subarray', 'sources': ['subarray'], 'value': 'full'})\n",
      "Constraint_Target({'name': 'target', 'sources': ['targetid'], 'value': '1'})\n",
      "Constraint_Image({'name': 'exp_type', 'sources': ['exp_type'], 'value': 'nis_image'})\n",
      "DMSAttrConstraint({'name': 'wfsvisit', 'sources': ['visitype'], 'value': 'prime_targeted_fixed'})\n",
      "Constraint_Obsnum({'name': 'obs_num', 'sources': ['obs_num'], 'value': None})\n",
      "DMSAttrConstraint({'name': 'acq_exp', 'sources': ['exp_type'], 'value': 'mir_tacq|nis_taconfirm|nis_tacq|nrc_taconfirm|nrc_tacq|nrs_confirm|nrs_taconfirm|nrs_tacq|nrs_taslit'})\n",
      "DMSAttrConstraint({'name': 'acq_obsnum', 'sources': ['obs_num'], 'value': <function AsnMixin_Science.__init__.<locals>.<lambda> at 0x10ef00d08>})\n",
      "DMSAttrConstraint({'name': 'asn_candidate', 'sources': ['asn_candidate'], 'value': \"\\\\(\\\\'o001\\\\'\\\\,\\\\ \\\\'observation\\\\'\\\\)\"})\n",
      "Products:\n",
      "\tjw99009-o001_t001_niriss_f140m with 4 members\n",
      "jw99009-o001_spec3_001_asn with 1 products\n",
      "Rule=candidate_Asn_WFSS\n",
      "DMSAttrConstraint({'name': 'program', 'sources': ['program'], 'value': '99009'})\n",
      "DMSAttrConstraint({'name': 'instrument', 'sources': ['instrume'], 'value': 'niriss'})\n",
      "Constraint_Target({'name': 'target', 'sources': ['targetid'], 'value': '1'})\n",
      "DMSAttrConstraint({'name': 'exp_type', 'sources': ['exp_type'], 'value': 'nis_wfss'})\n",
      "DMSAttrConstraint({'name': 'opt_elem', 'sources': ['filter'], 'value': 'f140m'})\n",
      "DMSAttrConstraint({'name': 'opt_elem2', 'sources': ['grating'], 'value': 'gr150r|gr150c'})\n",
      "Constraint_Obsnum({'name': 'obs_num', 'sources': ['obs_num'], 'value': None})\n",
      "DMSAttrConstraint({'name': 'acq_exp', 'sources': ['exp_type'], 'value': 'mir_tacq|nis_taconfirm|nis_tacq|nrc_taconfirm|nrc_tacq|nrs_confirm|nrs_taconfirm|nrs_tacq|nrs_taslit'})\n",
      "DMSAttrConstraint({'name': 'acq_obsnum', 'sources': ['obs_num'], 'value': <function AsnMixin_Science.__init__.<locals>.<lambda> at 0x10f4f1400>})\n",
      "DMSAttrConstraint({'name': 'asn_candidate', 'sources': ['asn_candidate'], 'value': \"\\\\(\\\\'o001\\\\'\\\\,\\\\ \\\\'observation\\\\'\\\\)\"})\n",
      "Products:\n",
      "\tjw99009-o001_t001_niriss_f140m-gr150r-gr150c with 12 members\n",
      "Association jw99009-o001_image2_001_asn\n",
      "    Parameters:        Product type: indetermined        Rule:         indetermined        Program:      indetermined        Target:       indetermined        Pool:         indetermined\n",
      "        DMSAttrConstraint({'name': 'program', 'sources': ['program'], 'value': '99009'})\n",
      "DMSAttrConstraint({'name': 'is_tso', 'sources': ['tsovisit'], 'value': None})\n",
      "DMSAttrConstraint({'name': 'program', 'sources': ['program'], 'value': '99009'})\n",
      "DMSAttrConstraint({'name': 'target', 'sources': ['targetid'], 'value': '1'})\n",
      "DMSAttrConstraint({'name': 'instrument', 'sources': ['instrume'], 'value': 'niriss'})\n",
      "DMSAttrConstraint({'name': 'detector', 'sources': ['detector'], 'value': 'central'})\n",
      "DMSAttrConstraint({'name': 'opt_elem', 'sources': ['filter'], 'value': 'f140m'})\n",
      "DMSAttrConstraint({'name': 'opt_elem2', 'sources': ['pupil', 'grating'], 'value': None})\n",
      "DMSAttrConstraint({'name': 'subarray', 'sources': ['subarray'], 'value': 'full'})\n",
      "DMSAttrConstraint({'name': 'channel', 'sources': ['channel'], 'value': None})\n",
      "Constraint_Image_Science({'name': 'exp_type', 'sources': ['exp_type'], 'value': 'nis_image'})\n",
      "SimpleConstraint({'name': 'single_science', 'value': False})\n",
      "DMSAttrConstraint({'name': 'asn_candidate', 'sources': ['asn_candidate'], 'value': \"\\\\(\\\\'o001\\\\'\\\\,\\\\ \\\\'observation\\\\'\\\\)\"})\n",
      "\tjw_00001 with 1 members\n",
      "\tjw_00008 with 1 members\n",
      "\tjw_00009 with 1 members\n",
      "\tjw_00016 with 1 members\n",
      "\n",
      "\n",
      "Association jw99009-o001_spec2_001_asn\n",
      "    Parameters:        Product type: indetermined        Rule:         indetermined        Program:      indetermined        Target:       indetermined        Pool:         indetermined\n",
      "        DMSAttrConstraint({'name': 'program', 'sources': ['program'], 'value': '99009'})\n",
      "DMSAttrConstraint({'name': 'is_tso', 'sources': ['tsovisit'], 'value': None})\n",
      "DMSAttrConstraint({'name': 'program', 'sources': ['program'], 'value': '99009'})\n",
      "DMSAttrConstraint({'name': 'target', 'sources': ['targetid'], 'value': '1'})\n",
      "DMSAttrConstraint({'name': 'instrument', 'sources': ['instrume'], 'value': 'niriss'})\n",
      "DMSAttrConstraint({'name': 'detector', 'sources': ['detector'], 'value': 'central'})\n",
      "DMSAttrConstraint({'name': 'opt_elem', 'sources': ['filter'], 'value': 'f140m'})\n",
      "DMSAttrConstraint({'name': 'opt_elem2', 'sources': ['grating'], 'value': 'gr150r'})\n",
      "DMSAttrConstraint({'name': 'subarray', 'sources': ['subarray'], 'value': 'full'})\n",
      "DMSAttrConstraint({'name': 'channel', 'sources': ['channel'], 'value': None})\n",
      "DMSAttrConstraint({'name': 'exp_type', 'sources': ['exp_type'], 'value': 'nis_wfss'})\n",
      "SimpleConstraint({'name': 'single_science', 'value': False})\n",
      "DMSAttrConstraint({'name': 'asn_candidate', 'sources': ['asn_candidate'], 'value': \"\\\\(\\\\'o001\\\\'\\\\,\\\\ \\\\'observation\\\\'\\\\)\"})\n",
      "\tjw_00002 with 2 members\n",
      "\tjw_00003 with 2 members\n",
      "\tjw_00004 with 2 members\n",
      "\tjw_00005 with 2 members\n",
      "\tjw_00006 with 2 members\n",
      "\tjw_00007 with 2 members\n",
      "\tjw_00010 with 2 members\n",
      "\tjw_00011 with 2 members\n",
      "\tjw_00012 with 2 members\n",
      "\tjw_00013 with 2 members\n",
      "\tjw_00014 with 2 members\n",
      "\tjw_00015 with 2 members\n",
      "\n",
      "\n"
     ]
    }
   ],
   "source": [
    "make_standards('pool_019_niriss_wfss')"
   ]
  },
  {
   "cell_type": "code",
   "execution_count": 27,
   "metadata": {},
   "outputs": [
    {
     "name": "stderr",
     "output_type": "stream",
     "text": [
      "201802140022:WARNING:jwst.associations.lib.rules_level2_base.rename_to_level2a:Item FILENAME=\"set acid\" is not a Level 1b name. Cannot transform to Level 2a.\n",
      "201802140022:WARNING:jwst.associations.lib.rules_level2_base.rename_to_level2a:Item FILENAME=\"set acid\" is not a Level 1b name. Cannot transform to Level 2a.\n",
      "201802140022:WARNING:jwst.associations.lib.rules_level2_base.rename_to_level2a:Item FILENAME=\"set acid\" is not a Level 1b name. Cannot transform to Level 2a.\n",
      "201802140022:WARNING:jwst.associations.lib.rules_level2_base.rename_to_level2a:Item FILENAME=\"set acid\" is not a Level 1b name. Cannot transform to Level 2a.\n",
      "201802140022:WARNING:jwst.associations.lib.rules_level2_base.rename_to_level2a:Item FILENAME=\"set acid\" is not a Level 1b name. Cannot transform to Level 2a.\n",
      "201802140022:WARNING:jwst.associations.lib.rules_level2_base.rename_to_level2a:Item FILENAME=\"set acid\" is not a Level 1b name. Cannot transform to Level 2a.\n",
      "201802140022:WARNING:jwst.associations.lib.rules_level2_base.rename_to_level2a:Item FILENAME=\"set acid\" is not a Level 1b name. Cannot transform to Level 2a.\n",
      "201802140022:WARNING:jwst.associations.lib.rules_level3_base.rename_to_level2:Item FILENAME=\"set acid\" is not a Level 1b name. Cannot transform to Level 2b.\n",
      "201802140022:WARNING:jwst.associations.lib.rules_level3_base.rename_to_level2:Item FILENAME=\"set acid\" is not a Level 1b name. Cannot transform to Level 2b.\n",
      "201802140022:WARNING:jwst.associations.lib.rules_level3_base.rename_to_level2:Item FILENAME=\"set acid\" is not a Level 1b name. Cannot transform to Level 2b.\n",
      "201802140022:WARNING:jwst.associations.lib.rules_level3_base.rename_to_level2:Item FILENAME=\"set acid\" is not a Level 1b name. Cannot transform to Level 2b.\n",
      "201802140022:WARNING:jwst.associations.lib.rules_level3_base.rename_to_level2:Item FILENAME=\"set acid\" is not a Level 1b name. Cannot transform to Level 2b.\n",
      "201802140022:WARNING:jwst.associations.lib.rules_level3_base.rename_to_level2:Item FILENAME=\"set acid\" is not a Level 1b name. Cannot transform to Level 2b.\n",
      "201802140022:WARNING:jwst.associations.lib.rules_level3_base.rename_to_level2:Item FILENAME=\"set acid\" is not a Level 1b name. Cannot transform to Level 2b.\n",
      "201802140022:WARNING:jwst.associations.lib.rules_level3_base.rename_to_level2:Item FILENAME=\"set acid\" is not a Level 1b name. Cannot transform to Level 2b.\n",
      "201802140022:WARNING:jwst.associations.lib.rules_level3_base.rename_to_level2:Item FILENAME=\"set acid\" is not a Level 1b name. Cannot transform to Level 2b.\n",
      "201802140022:WARNING:jwst.associations.lib.rules_level3_base.rename_to_level2:Item FILENAME=\"set acid\" is not a Level 1b name. Cannot transform to Level 2b.\n",
      "201802140022:WARNING:jwst.associations.lib.rules_level2_base.rename_to_level2a:Item FILENAME=\"set acid\" is not a Level 1b name. Cannot transform to Level 2a.\n",
      "201802140022:WARNING:jwst.associations.lib.rules_level2_base.rename_to_level2a:Item FILENAME=\"set acid\" is not a Level 1b name. Cannot transform to Level 2a.\n",
      "201802140022:WARNING:jwst.associations.lib.rules_level2_base.rename_to_level2a:Item FILENAME=\"set acid\" is not a Level 1b name. Cannot transform to Level 2a.\n",
      "201802140022:WARNING:jwst.associations.lib.rules_level2_base.rename_to_level2a:Item FILENAME=\"set acid\" is not a Level 1b name. Cannot transform to Level 2a.\n",
      "201802140022:WARNING:jwst.associations.lib.rules_level2_base.rename_to_level2a:Item FILENAME=\"set acid\" is not a Level 1b name. Cannot transform to Level 2a.\n",
      "201802140022:WARNING:jwst.associations.lib.rules_level2_base.rename_to_level2a:Item FILENAME=\"set acid\" is not a Level 1b name. Cannot transform to Level 2a.\n",
      "201802140022:WARNING:jwst.associations.lib.rules_level2_base.rename_to_level2a:Item FILENAME=\"set acid\" is not a Level 1b name. Cannot transform to Level 2a.\n",
      "201802140022:WARNING:jwst.associations.lib.rules_level3_base.rename_to_level2:Item FILENAME=\"set acid\" is not a Level 1b name. Cannot transform to Level 2b.\n",
      "201802140022:WARNING:jwst.associations.lib.rules_level3_base.rename_to_level2:Item FILENAME=\"set acid\" is not a Level 1b name. Cannot transform to Level 2b.\n",
      "201802140022:WARNING:jwst.associations.lib.rules_level3_base.rename_to_level2:Item FILENAME=\"set acid\" is not a Level 1b name. Cannot transform to Level 2b.\n",
      "201802140022:WARNING:jwst.associations.lib.rules_level3_base.rename_to_level2:Item FILENAME=\"set acid\" is not a Level 1b name. Cannot transform to Level 2b.\n",
      "201802140022:WARNING:jwst.associations.lib.rules_level3_base.rename_to_level2:Item FILENAME=\"set acid\" is not a Level 1b name. Cannot transform to Level 2b.\n",
      "201802140022:WARNING:jwst.associations.lib.rules_level3_base.rename_to_level2:Item FILENAME=\"set acid\" is not a Level 1b name. Cannot transform to Level 2b.\n",
      "201802140022:WARNING:jwst.associations.lib.rules_level3_base.rename_to_level2:Item FILENAME=\"set acid\" is not a Level 1b name. Cannot transform to Level 2b.\n",
      "201802140022:WARNING:jwst.associations.lib.rules_level3_base.rename_to_level2:Item FILENAME=\"set acid\" is not a Level 1b name. Cannot transform to Level 2b.\n",
      "201802140022:WARNING:jwst.associations.lib.rules_level3_base.rename_to_level2:Item FILENAME=\"set acid\" is not a Level 1b name. Cannot transform to Level 2b.\n",
      "201802140022:WARNING:jwst.associations.lib.rules_level3_base.rename_to_level2:Item FILENAME=\"set acid\" is not a Level 1b name. Cannot transform to Level 2b.\n",
      "201802140022:WARNING:jwst.associations.lib.rules_level2_base.rename_to_level2a:Item FILENAME=\"set acid\" is not a Level 1b name. Cannot transform to Level 2a.\n",
      "201802140022:WARNING:jwst.associations.lib.rules_level3_base.rename_to_level2:Item FILENAME=\"set acid\" is not a Level 1b name. Cannot transform to Level 2b.\n",
      "201802140022:WARNING:jwst.associations.lib.rules_level2_base.rename_to_level2a:Item FILENAME=\"set acid\" is not a Level 1b name. Cannot transform to Level 2a.\n",
      "201802140022:WARNING:jwst.associations.lib.rules_level3_base.rename_to_level2:Item FILENAME=\"set acid\" is not a Level 1b name. Cannot transform to Level 2b.\n",
      "201802140022:WARNING:jwst.associations.lib.rules_level2_base.rename_to_level2a:Item FILENAME=\"set acid\" is not a Level 1b name. Cannot transform to Level 2a.\n",
      "201802140022:WARNING:jwst.associations.lib.rules_level2_base.rename_to_level2a:Item FILENAME=\"set acid\" is not a Level 1b name. Cannot transform to Level 2a.\n",
      "201802140022:WARNING:jwst.associations.lib.rules_level2_base.rename_to_level2a:Item FILENAME=\"set acid\" is not a Level 1b name. Cannot transform to Level 2a.\n",
      "201802140022:WARNING:jwst.associations.lib.rules_level2_base.rename_to_level2a:Item FILENAME=\"set acid\" is not a Level 1b name. Cannot transform to Level 2a.\n",
      "201802140022:WARNING:jwst.associations.lib.rules_level2_base.rename_to_level2a:Item FILENAME=\"set acid\" is not a Level 1b name. Cannot transform to Level 2a.\n",
      "201802140022:WARNING:jwst.associations.lib.rules_level2_base.rename_to_level2a:Item FILENAME=\"set acid\" is not a Level 1b name. Cannot transform to Level 2a.\n",
      "201802140022:WARNING:jwst.associations.lib.rules_level2_base.rename_to_level2a:Item FILENAME=\"set acid\" is not a Level 1b name. Cannot transform to Level 2a.\n",
      "201802140022:WARNING:jwst.associations.lib.rules_level2_base.rename_to_level2a:Item FILENAME=\"set acid\" is not a Level 1b name. Cannot transform to Level 2a.\n",
      "201802140022:WARNING:jwst.associations.lib.rules_level2_base.rename_to_level2a:Item FILENAME=\"set acid\" is not a Level 1b name. Cannot transform to Level 2a.\n",
      "201802140022:WARNING:jwst.associations.lib.rules_level2_base.rename_to_level2a:Item FILENAME=\"set acid\" is not a Level 1b name. Cannot transform to Level 2a.\n",
      "201802140022:WARNING:jwst.associations.lib.rules_level2_base.rename_to_level2a:Item FILENAME=\"set acid\" is not a Level 1b name. Cannot transform to Level 2a.\n",
      "201802140022:WARNING:jwst.associations.lib.rules_level2_base.rename_to_level2a:Item FILENAME=\"set acid\" is not a Level 1b name. Cannot transform to Level 2a.\n",
      "201802140022:WARNING:jwst.associations.lib.rules_level2_base.rename_to_level2a:Item FILENAME=\"set acid\" is not a Level 1b name. Cannot transform to Level 2a.\n",
      "201802140022:WARNING:jwst.associations.lib.rules_level2_base.rename_to_level2a:Item FILENAME=\"set acid\" is not a Level 1b name. Cannot transform to Level 2a.\n"
     ]
    },
    {
     "name": "stderr",
     "output_type": "stream",
     "text": [
      "201802140022:WARNING:jwst.associations.lib.rules_level2_base.rename_to_level2a:Item FILENAME=\"set acid\" is not a Level 1b name. Cannot transform to Level 2a.\n",
      "201802140022:WARNING:jwst.associations.lib.rules_level2_base.rename_to_level2a:Item FILENAME=\"set acid\" is not a Level 1b name. Cannot transform to Level 2a.\n",
      "201802140022:WARNING:jwst.associations.lib.rules_level2_base.rename_to_level2a:Item FILENAME=\"set acid\" is not a Level 1b name. Cannot transform to Level 2a.\n",
      "201802140022:WARNING:jwst.associations.lib.rules_level2_base.rename_to_level2a:Item FILENAME=\"set acid\" is not a Level 1b name. Cannot transform to Level 2a.\n",
      "201802140022:WARNING:jwst.associations.lib.rules_level2_base.rename_to_level2a:Item FILENAME=\"set acid\" is not a Level 1b name. Cannot transform to Level 2a.\n",
      "201802140022:WARNING:jwst.associations.lib.rules_level2_base.rename_to_level2a:Item FILENAME=\"set acid\" is not a Level 1b name. Cannot transform to Level 2a.\n",
      "201802140022:WARNING:jwst.associations.lib.rules_level2_base.rename_to_level2a:Item FILENAME=\"set acid\" is not a Level 1b name. Cannot transform to Level 2a.\n",
      "201802140022:WARNING:jwst.associations.lib.rules_level3_base.rename_to_level2:Item FILENAME=\"set acid\" is not a Level 1b name. Cannot transform to Level 2b.\n",
      "201802140022:WARNING:jwst.associations.lib.rules_level3_base.rename_to_level2:Item FILENAME=\"set acid\" is not a Level 1b name. Cannot transform to Level 2b.\n",
      "201802140022:WARNING:jwst.associations.lib.rules_level3_base.rename_to_level2:Item FILENAME=\"set acid\" is not a Level 1b name. Cannot transform to Level 2b.\n",
      "201802140022:WARNING:jwst.associations.lib.rules_level3_base.rename_to_level2:Item FILENAME=\"set acid\" is not a Level 1b name. Cannot transform to Level 2b.\n",
      "201802140022:WARNING:jwst.associations.lib.rules_level3_base.rename_to_level2:Item FILENAME=\"set acid\" is not a Level 1b name. Cannot transform to Level 2b.\n",
      "201802140022:WARNING:jwst.associations.lib.rules_level3_base.rename_to_level2:Item FILENAME=\"set acid\" is not a Level 1b name. Cannot transform to Level 2b.\n",
      "201802140022:WARNING:jwst.associations.lib.rules_level3_base.rename_to_level2:Item FILENAME=\"set acid\" is not a Level 1b name. Cannot transform to Level 2b.\n",
      "201802140022:WARNING:jwst.associations.lib.rules_level3_base.rename_to_level2:Item FILENAME=\"set acid\" is not a Level 1b name. Cannot transform to Level 2b.\n",
      "201802140022:WARNING:jwst.associations.lib.rules_level3_base.rename_to_level2:Item FILENAME=\"set acid\" is not a Level 1b name. Cannot transform to Level 2b.\n",
      "201802140022:WARNING:jwst.associations.lib.rules_level3_base.rename_to_level2:Item FILENAME=\"set acid\" is not a Level 1b name. Cannot transform to Level 2b.\n",
      "201802140022:WARNING:jwst.associations.lib.rules_level2_base.rename_to_level2a:Item FILENAME=\"set acid\" is not a Level 1b name. Cannot transform to Level 2a.\n",
      "201802140022:WARNING:jwst.associations.lib.rules_level2_base.rename_to_level2a:Item FILENAME=\"set acid\" is not a Level 1b name. Cannot transform to Level 2a.\n",
      "201802140022:WARNING:jwst.associations.lib.rules_level2_base.rename_to_level2a:Item FILENAME=\"set acid\" is not a Level 1b name. Cannot transform to Level 2a.\n",
      "201802140022:WARNING:jwst.associations.lib.rules_level2_base.rename_to_level2a:Item FILENAME=\"set acid\" is not a Level 1b name. Cannot transform to Level 2a.\n",
      "201802140022:WARNING:jwst.associations.lib.rules_level2_base.rename_to_level2a:Item FILENAME=\"set acid\" is not a Level 1b name. Cannot transform to Level 2a.\n",
      "201802140022:WARNING:jwst.associations.lib.rules_level2_base.rename_to_level2a:Item FILENAME=\"set acid\" is not a Level 1b name. Cannot transform to Level 2a.\n",
      "201802140022:WARNING:jwst.associations.lib.rules_level2_base.rename_to_level2a:Item FILENAME=\"set acid\" is not a Level 1b name. Cannot transform to Level 2a.\n",
      "201802140022:WARNING:jwst.associations.lib.rules_level3_base.rename_to_level2:Item FILENAME=\"set acid\" is not a Level 1b name. Cannot transform to Level 2b.\n",
      "201802140022:WARNING:jwst.associations.lib.rules_level3_base.rename_to_level2:Item FILENAME=\"set acid\" is not a Level 1b name. Cannot transform to Level 2b.\n",
      "201802140022:WARNING:jwst.associations.lib.rules_level3_base.rename_to_level2:Item FILENAME=\"set acid\" is not a Level 1b name. Cannot transform to Level 2b.\n",
      "201802140022:WARNING:jwst.associations.lib.rules_level3_base.rename_to_level2:Item FILENAME=\"set acid\" is not a Level 1b name. Cannot transform to Level 2b.\n",
      "201802140022:WARNING:jwst.associations.lib.rules_level3_base.rename_to_level2:Item FILENAME=\"set acid\" is not a Level 1b name. Cannot transform to Level 2b.\n",
      "201802140022:WARNING:jwst.associations.lib.rules_level3_base.rename_to_level2:Item FILENAME=\"set acid\" is not a Level 1b name. Cannot transform to Level 2b.\n",
      "201802140022:WARNING:jwst.associations.lib.rules_level3_base.rename_to_level2:Item FILENAME=\"set acid\" is not a Level 1b name. Cannot transform to Level 2b.\n",
      "201802140022:WARNING:jwst.associations.lib.rules_level3_base.rename_to_level2:Item FILENAME=\"set acid\" is not a Level 1b name. Cannot transform to Level 2b.\n",
      "201802140022:WARNING:jwst.associations.lib.rules_level3_base.rename_to_level2:Item FILENAME=\"set acid\" is not a Level 1b name. Cannot transform to Level 2b.\n",
      "201802140022:WARNING:jwst.associations.lib.rules_level3_base.rename_to_level2:Item FILENAME=\"set acid\" is not a Level 1b name. Cannot transform to Level 2b.\n"
     ]
    }
   ],
   "source": [
    "results = Main(['--dry-run'], pool=pool_019)"
   ]
  },
  {
   "cell_type": "code",
   "execution_count": 28,
   "metadata": {},
   "outputs": [
    {
     "data": {
      "text/plain": [
       "4"
      ]
     },
     "execution_count": 28,
     "metadata": {},
     "output_type": "execute_result"
    }
   ],
   "source": [
    "len(results.associations)"
   ]
  },
  {
   "cell_type": "code",
   "execution_count": 29,
   "metadata": {},
   "outputs": [
    {
     "data": {
      "text/html": [
       "<i>AssociationPool length=18</i>\n",
       "<table id=\"table4550996376-688262\" class=\"table-striped table-bordered table-condensed\">\n",
       "<thead><tr><th>idx</th><th>filename</th><th>obs_id</th><th>program</th><th>obs_num</th><th>visit</th><th>visit_id</th><th>visitgrp</th><th>visitype</th><th>seq_id</th><th>act_id</th><th>exposure</th><th>exp_type</th><th>nexposur</th><th>expcount</th><th>instrume</th><th>detector</th><th>channel</th><th>targetid</th><th>targprop</th><th>targname</th><th>targtype</th><th>template</th><th>pntgtype</th><th>pntg_seq</th><th>targordn</th><th>expspcin</th><th>dithptin</th><th>mostilno</th><th>module</th><th>filter</th><th>pupil</th><th>ditherid</th><th>patttype</th><th>pattstrt</th><th>numdthpt</th><th>pattsize</th><th>subpxpns</th><th>patt_num</th><th>subpxnum</th><th>subpixel</th><th>apername</th><th>sdp_ver</th><th>subarray</th><th>grating</th><th>fxd_slit</th><th>band</th><th>asn_candidate</th><th>bkgdtarg</th><th>is_imprt</th><th>is_psf</th></tr></thead>\n",
       "<tr><td>0</td><td>set acid</td><td>obs_id</td><td>program</td><td>obs_num</td><td>visit</td><td>visit_id</td><td>visitgrp</td><td>wfsvisit</td><td>seq_id</td><td>act_id</td><td>exposure</td><td>exp_type</td><td>nexposur</td><td>expcount</td><td>instrume</td><td>detector</td><td>channel</td><td>targetid</td><td>targprop</td><td>targname</td><td>targtype</td><td>template</td><td>pntgtype</td><td>pntg_seq</td><td>targordn</td><td>expspcin</td><td>dithptin</td><td>mostilno</td><td>module</td><td>filter</td><td>pupil</td><td>ditherid</td><td>patttype</td><td>pattstrt</td><td>numdthpt</td><td>pattsize</td><td>subpxpns</td><td>patt_num</td><td>subpxnum</td><td>subpixel</td><td>apername</td><td>sdp_ver</td><td>subarray</td><td>grating</td><td>fxd_slit</td><td>band</td><td>1000</td><td>background</td><td>is_imprt</td><td>is_psf</td></tr>\n",
       "<tr><td>1</td><td>jw_00001_uncal.fits</td><td>v99009003001p0000000002102</td><td>99009</td><td>1</td><td>1</td><td>99009003001</td><td>2</td><td>prime_targeted_fixed</td><td>1</td><td>2</td><td>1</td><td>nis_image</td><td>null</td><td>null</td><td>niriss</td><td>central</td><td>null</td><td>1</td><td>m-33</td><td>null</td><td>fixed</td><td>niriss wfss</td><td>science</td><td>2</td><td>1</td><td>1</td><td>1</td><td>1</td><td>null</td><td>f140m</td><td>null</td><td>null</td><td>null</td><td>null</td><td>null</td><td>null</td><td>null</td><td>null</td><td>null</td><td>null</td><td>nis_cen</td><td>2015_1</td><td>full</td><td>null</td><td>null</td><td>null</td><td>[(&apos;o001&apos;, &apos;observation&apos;)]</td><td>n</td><td>n</td><td>n</td></tr>\n",
       "<tr><td>2</td><td>jw_00002_uncal.fits</td><td>v99009003001p0000000002102</td><td>99009</td><td>1</td><td>1</td><td>99009003001</td><td>2</td><td>prime_targeted_fixed</td><td>1</td><td>2</td><td>1</td><td>nis_wfss</td><td>null</td><td>null</td><td>niriss</td><td>central</td><td>null</td><td>1</td><td>m-33</td><td>null</td><td>fixed</td><td>niriss wfss</td><td>science</td><td>2</td><td>1</td><td>1</td><td>1</td><td>1</td><td>null</td><td>f140m</td><td>null</td><td>null</td><td>null</td><td>null</td><td>null</td><td>null</td><td>null</td><td>null</td><td>null</td><td>null</td><td>nis_cen</td><td>2015_1</td><td>full</td><td>gr150r</td><td>null</td><td>null</td><td>[(&apos;o001&apos;, &apos;observation&apos;)]</td><td>n</td><td>n</td><td>n</td></tr>\n",
       "<tr><td>3</td><td>jw_00003_uncal.fits</td><td>v99009003001p0000000002102</td><td>99009</td><td>1</td><td>1</td><td>99009003001</td><td>2</td><td>prime_targeted_fixed</td><td>1</td><td>2</td><td>1</td><td>nis_wfss</td><td>null</td><td>null</td><td>niriss</td><td>central</td><td>null</td><td>1</td><td>m-33</td><td>null</td><td>fixed</td><td>niriss wfss</td><td>science</td><td>2</td><td>1</td><td>1</td><td>1</td><td>1</td><td>null</td><td>f140m</td><td>null</td><td>null</td><td>null</td><td>null</td><td>null</td><td>null</td><td>null</td><td>null</td><td>null</td><td>null</td><td>nis_cen</td><td>2015_1</td><td>full</td><td>gr150r</td><td>null</td><td>null</td><td>[(&apos;o001&apos;, &apos;observation&apos;)]</td><td>n</td><td>n</td><td>n</td></tr>\n",
       "<tr><td>4</td><td>jw_00004_uncal.fits</td><td>v99009003001p0000000002102</td><td>99009</td><td>1</td><td>1</td><td>99009003001</td><td>2</td><td>prime_targeted_fixed</td><td>1</td><td>2</td><td>1</td><td>nis_wfss</td><td>null</td><td>null</td><td>niriss</td><td>central</td><td>null</td><td>1</td><td>m-33</td><td>null</td><td>fixed</td><td>niriss wfss</td><td>science</td><td>2</td><td>1</td><td>1</td><td>1</td><td>1</td><td>null</td><td>f140m</td><td>null</td><td>null</td><td>null</td><td>null</td><td>null</td><td>null</td><td>null</td><td>null</td><td>null</td><td>null</td><td>nis_cen</td><td>2015_1</td><td>full</td><td>gr150r</td><td>null</td><td>null</td><td>[(&apos;o001&apos;, &apos;observation&apos;)]</td><td>n</td><td>n</td><td>n</td></tr>\n",
       "<tr><td>5</td><td>jw_00005_uncal.fits</td><td>v99009003001p0000000002102</td><td>99009</td><td>1</td><td>1</td><td>99009003001</td><td>2</td><td>prime_targeted_fixed</td><td>1</td><td>2</td><td>1</td><td>nis_wfss</td><td>null</td><td>null</td><td>niriss</td><td>central</td><td>null</td><td>1</td><td>m-33</td><td>null</td><td>fixed</td><td>niriss wfss</td><td>science</td><td>2</td><td>1</td><td>1</td><td>1</td><td>1</td><td>null</td><td>f140m</td><td>null</td><td>null</td><td>null</td><td>null</td><td>null</td><td>null</td><td>null</td><td>null</td><td>null</td><td>null</td><td>nis_cen</td><td>2015_1</td><td>full</td><td>gr150r</td><td>null</td><td>null</td><td>[(&apos;o001&apos;, &apos;observation&apos;)]</td><td>n</td><td>n</td><td>n</td></tr>\n",
       "<tr><td>6</td><td>jw_00006_uncal.fits</td><td>v99009003001p0000000002102</td><td>99009</td><td>1</td><td>1</td><td>99009003001</td><td>2</td><td>prime_targeted_fixed</td><td>1</td><td>2</td><td>1</td><td>nis_wfss</td><td>null</td><td>null</td><td>niriss</td><td>central</td><td>null</td><td>1</td><td>m-33</td><td>null</td><td>fixed</td><td>niriss wfss</td><td>science</td><td>2</td><td>1</td><td>1</td><td>1</td><td>1</td><td>null</td><td>f140m</td><td>null</td><td>null</td><td>null</td><td>null</td><td>null</td><td>null</td><td>null</td><td>null</td><td>null</td><td>null</td><td>nis_cen</td><td>2015_1</td><td>full</td><td>gr150r</td><td>null</td><td>null</td><td>[(&apos;o001&apos;, &apos;observation&apos;)]</td><td>n</td><td>n</td><td>n</td></tr>\n",
       "<tr><td>7</td><td>jw_00007_uncal.fits</td><td>v99009003001p0000000002102</td><td>99009</td><td>1</td><td>1</td><td>99009003001</td><td>2</td><td>prime_targeted_fixed</td><td>1</td><td>2</td><td>1</td><td>nis_wfss</td><td>null</td><td>null</td><td>niriss</td><td>central</td><td>null</td><td>1</td><td>m-33</td><td>null</td><td>fixed</td><td>niriss wfss</td><td>science</td><td>2</td><td>1</td><td>1</td><td>1</td><td>1</td><td>null</td><td>f140m</td><td>null</td><td>null</td><td>null</td><td>null</td><td>null</td><td>null</td><td>null</td><td>null</td><td>null</td><td>null</td><td>nis_cen</td><td>2015_1</td><td>full</td><td>gr150r</td><td>null</td><td>null</td><td>[(&apos;o001&apos;, &apos;observation&apos;)]</td><td>n</td><td>n</td><td>n</td></tr>\n",
       "<tr><td>8</td><td>jw_00008_uncal.fits</td><td>v99009003001p0000000002102</td><td>99009</td><td>1</td><td>1</td><td>99009003001</td><td>2</td><td>prime_targeted_fixed</td><td>1</td><td>2</td><td>1</td><td>nis_image</td><td>null</td><td>null</td><td>niriss</td><td>central</td><td>null</td><td>1</td><td>m-33</td><td>null</td><td>fixed</td><td>niriss wfss</td><td>science</td><td>2</td><td>1</td><td>1</td><td>1</td><td>1</td><td>null</td><td>f140m</td><td>null</td><td>null</td><td>null</td><td>null</td><td>null</td><td>null</td><td>null</td><td>null</td><td>null</td><td>null</td><td>nis_cen</td><td>2015_1</td><td>full</td><td>null</td><td>null</td><td>null</td><td>[(&apos;o001&apos;, &apos;observation&apos;)]</td><td>n</td><td>n</td><td>n</td></tr>\n",
       "<tr><td>9</td><td>jw_00009_uncal.fits</td><td>v99009003001p0000000002102</td><td>99009</td><td>1</td><td>1</td><td>99009003001</td><td>2</td><td>prime_targeted_fixed</td><td>1</td><td>2</td><td>1</td><td>nis_image</td><td>null</td><td>null</td><td>niriss</td><td>central</td><td>null</td><td>1</td><td>m-33</td><td>null</td><td>fixed</td><td>niriss wfss</td><td>science</td><td>2</td><td>1</td><td>1</td><td>1</td><td>1</td><td>null</td><td>f140m</td><td>null</td><td>null</td><td>null</td><td>null</td><td>null</td><td>null</td><td>null</td><td>null</td><td>null</td><td>null</td><td>nis_cen</td><td>2015_1</td><td>full</td><td>null</td><td>null</td><td>null</td><td>[(&apos;o001&apos;, &apos;observation&apos;)]</td><td>n</td><td>n</td><td>n</td></tr>\n",
       "<tr><td>10</td><td>jw_00010_uncal.fits</td><td>v99009003001p0000000002102</td><td>99009</td><td>1</td><td>1</td><td>99009003001</td><td>2</td><td>prime_targeted_fixed</td><td>1</td><td>2</td><td>1</td><td>nis_wfss</td><td>null</td><td>null</td><td>niriss</td><td>central</td><td>null</td><td>1</td><td>m-33</td><td>null</td><td>fixed</td><td>niriss wfss</td><td>science</td><td>2</td><td>1</td><td>1</td><td>1</td><td>1</td><td>null</td><td>f140m</td><td>null</td><td>null</td><td>null</td><td>null</td><td>null</td><td>null</td><td>null</td><td>null</td><td>null</td><td>null</td><td>nis_cen</td><td>2015_1</td><td>full</td><td>gr150c</td><td>null</td><td>null</td><td>[(&apos;o001&apos;, &apos;observation&apos;)]</td><td>n</td><td>n</td><td>n</td></tr>\n",
       "<tr><td>11</td><td>jw_00011_uncal.fits</td><td>v99009003001p0000000002102</td><td>99009</td><td>1</td><td>1</td><td>99009003001</td><td>2</td><td>prime_targeted_fixed</td><td>1</td><td>2</td><td>1</td><td>nis_wfss</td><td>null</td><td>null</td><td>niriss</td><td>central</td><td>null</td><td>1</td><td>m-33</td><td>null</td><td>fixed</td><td>niriss wfss</td><td>science</td><td>2</td><td>1</td><td>1</td><td>1</td><td>1</td><td>null</td><td>f140m</td><td>null</td><td>null</td><td>null</td><td>null</td><td>null</td><td>null</td><td>null</td><td>null</td><td>null</td><td>null</td><td>nis_cen</td><td>2015_1</td><td>full</td><td>gr150c</td><td>null</td><td>null</td><td>[(&apos;o001&apos;, &apos;observation&apos;)]</td><td>n</td><td>n</td><td>n</td></tr>\n",
       "<tr><td>12</td><td>jw_00012_uncal.fits</td><td>v99009003001p0000000002102</td><td>99009</td><td>1</td><td>1</td><td>99009003001</td><td>2</td><td>prime_targeted_fixed</td><td>1</td><td>2</td><td>1</td><td>nis_wfss</td><td>null</td><td>null</td><td>niriss</td><td>central</td><td>null</td><td>1</td><td>m-33</td><td>null</td><td>fixed</td><td>niriss wfss</td><td>science</td><td>2</td><td>1</td><td>1</td><td>1</td><td>1</td><td>null</td><td>f140m</td><td>null</td><td>null</td><td>null</td><td>null</td><td>null</td><td>null</td><td>null</td><td>null</td><td>null</td><td>null</td><td>nis_cen</td><td>2015_1</td><td>full</td><td>gr150c</td><td>null</td><td>null</td><td>[(&apos;o001&apos;, &apos;observation&apos;)]</td><td>n</td><td>n</td><td>n</td></tr>\n",
       "<tr><td>13</td><td>jw_00013_uncal.fits</td><td>v99009003001p0000000002102</td><td>99009</td><td>1</td><td>1</td><td>99009003001</td><td>2</td><td>prime_targeted_fixed</td><td>1</td><td>2</td><td>1</td><td>nis_wfss</td><td>null</td><td>null</td><td>niriss</td><td>central</td><td>null</td><td>1</td><td>m-33</td><td>null</td><td>fixed</td><td>niriss wfss</td><td>science</td><td>2</td><td>1</td><td>1</td><td>1</td><td>1</td><td>null</td><td>f140m</td><td>null</td><td>null</td><td>null</td><td>null</td><td>null</td><td>null</td><td>null</td><td>null</td><td>null</td><td>null</td><td>nis_cen</td><td>2015_1</td><td>full</td><td>gr150c</td><td>null</td><td>null</td><td>[(&apos;o001&apos;, &apos;observation&apos;)]</td><td>n</td><td>n</td><td>n</td></tr>\n",
       "<tr><td>14</td><td>jw_00014_uncal.fits</td><td>v99009003001p0000000002102</td><td>99009</td><td>1</td><td>1</td><td>99009003001</td><td>2</td><td>prime_targeted_fixed</td><td>1</td><td>2</td><td>1</td><td>nis_wfss</td><td>null</td><td>null</td><td>niriss</td><td>central</td><td>null</td><td>1</td><td>m-33</td><td>null</td><td>fixed</td><td>niriss wfss</td><td>science</td><td>2</td><td>1</td><td>1</td><td>1</td><td>1</td><td>null</td><td>f140m</td><td>null</td><td>null</td><td>null</td><td>null</td><td>null</td><td>null</td><td>null</td><td>null</td><td>null</td><td>null</td><td>nis_cen</td><td>2015_1</td><td>full</td><td>gr150c</td><td>null</td><td>null</td><td>[(&apos;o001&apos;, &apos;observation&apos;)]</td><td>n</td><td>n</td><td>n</td></tr>\n",
       "<tr><td>15</td><td>jw_00015_uncal.fits</td><td>v99009003001p0000000002102</td><td>99009</td><td>1</td><td>1</td><td>99009003001</td><td>2</td><td>prime_targeted_fixed</td><td>1</td><td>2</td><td>1</td><td>nis_wfss</td><td>null</td><td>null</td><td>niriss</td><td>central</td><td>null</td><td>1</td><td>m-33</td><td>null</td><td>fixed</td><td>niriss wfss</td><td>science</td><td>2</td><td>1</td><td>1</td><td>1</td><td>1</td><td>null</td><td>f140m</td><td>null</td><td>null</td><td>null</td><td>null</td><td>null</td><td>null</td><td>null</td><td>null</td><td>null</td><td>null</td><td>nis_cen</td><td>2015_1</td><td>full</td><td>gr150c</td><td>null</td><td>null</td><td>[(&apos;o001&apos;, &apos;observation&apos;)]</td><td>n</td><td>n</td><td>n</td></tr>\n",
       "<tr><td>16</td><td>jw_00016_uncal.fits</td><td>v99009003001p0000000002102</td><td>99009</td><td>1</td><td>1</td><td>99009003001</td><td>2</td><td>prime_targeted_fixed</td><td>1</td><td>2</td><td>1</td><td>nis_image</td><td>null</td><td>null</td><td>niriss</td><td>central</td><td>null</td><td>1</td><td>m-33</td><td>null</td><td>fixed</td><td>niriss wfss</td><td>science</td><td>2</td><td>1</td><td>1</td><td>1</td><td>1</td><td>null</td><td>f140m</td><td>null</td><td>null</td><td>null</td><td>null</td><td>null</td><td>null</td><td>null</td><td>null</td><td>null</td><td>null</td><td>nis_cen</td><td>2015_1</td><td>full</td><td>null</td><td>null</td><td>null</td><td>[(&apos;o001&apos;, &apos;observation&apos;)]</td><td>n</td><td>n</td><td>n</td></tr>\n",
       "<tr><td>17</td><td>set acid</td><td>obs_id</td><td>program</td><td>obs_num</td><td>visit</td><td>visit_id</td><td>visitgrp</td><td>prime_targeted_fixed</td><td>seq_id</td><td>act_id</td><td>exposure</td><td>exp_type</td><td>nexposur</td><td>expcount</td><td>instrume</td><td>detector</td><td>channel</td><td>targetid</td><td>targprop</td><td>targname</td><td>targtype</td><td>template</td><td>pntgtype</td><td>pntg_seq</td><td>targordn</td><td>expspcin</td><td>dithptin</td><td>mostilno</td><td>module</td><td>filter</td><td>pupil</td><td>ditherid</td><td>patttype</td><td>pattstrt</td><td>numdthpt</td><td>pattsize</td><td>subpxpns</td><td>patt_num</td><td>subpxnum</td><td>subpixel</td><td>apername</td><td>sdp_ver</td><td>subarray</td><td>grating</td><td>fxd_slit</td><td>band</td><td>1000</td><td>background</td><td>is_imprt</td><td>is_psf</td></tr>\n",
       "</table><style>table.dataTable {clear: both; width: auto !important; margin: 0 !important;}\n",
       ".dataTables_info, .dataTables_length, .dataTables_filter, .dataTables_paginate{\n",
       "display: inline-block; margin-right: 1em; }\n",
       ".paginate_button { margin-right: 5px; }\n",
       "</style>\n",
       "<script>\n",
       "\n",
       "var astropy_sort_num = function(a, b) {\n",
       "    var a_num = parseFloat(a);\n",
       "    var b_num = parseFloat(b);\n",
       "\n",
       "    if (isNaN(a_num) && isNaN(b_num))\n",
       "        return ((a < b) ? -1 : ((a > b) ? 1 : 0));\n",
       "    else if (!isNaN(a_num) && !isNaN(b_num))\n",
       "        return ((a_num < b_num) ? -1 : ((a_num > b_num) ? 1 : 0));\n",
       "    else\n",
       "        return isNaN(a_num) ? -1 : 1;\n",
       "}\n",
       "\n",
       "require.config({paths: {\n",
       "    datatables: 'https://cdn.datatables.net/1.10.12/js/jquery.dataTables.min'\n",
       "}});\n",
       "require([\"datatables\"], function(){\n",
       "    console.log(\"$('#table4550996376-688262').dataTable()\");\n",
       "    \n",
       "jQuery.extend( jQuery.fn.dataTableExt.oSort, {\n",
       "    \"optionalnum-asc\": astropy_sort_num,\n",
       "    \"optionalnum-desc\": function (a,b) { return -astropy_sort_num(a, b); }\n",
       "});\n",
       "\n",
       "    $('#table4550996376-688262').dataTable({\n",
       "        order: [],\n",
       "        pageLength: 50,\n",
       "        lengthMenu: [[10, 25, 50, 100, 500, 1000, -1], [10, 25, 50, 100, 500, 1000, 'All']],\n",
       "        pagingType: \"full_numbers\",\n",
       "        columnDefs: [{targets: [0], type: \"optionalnum\"}]\n",
       "    });\n",
       "});\n",
       "</script>\n"
      ],
      "text/plain": [
       "<IPython.core.display.HTML object>"
      ]
     },
     "execution_count": 29,
     "metadata": {},
     "output_type": "execute_result"
    }
   ],
   "source": [
    "pool_019.show_in_notebook()"
   ]
  },
  {
   "cell_type": "markdown",
   "metadata": {},
   "source": [
    "## sdp/jw10004"
   ]
  },
  {
   "cell_type": "code",
   "execution_count": null,
   "metadata": {},
   "outputs": [],
   "source": [
    "pool_10004 = combine_pools('../data/sdp/pools/jw10004_20171108T090028_pool.csv')"
   ]
  },
  {
   "cell_type": "code",
   "execution_count": null,
   "metadata": {},
   "outputs": [],
   "source": [
    "pool_10004.show_in_notebook()"
   ]
  },
  {
   "cell_type": "markdown",
   "metadata": {},
   "source": [
    "## pool_017_spec_nirspec_lv2imprint"
   ]
  },
  {
   "cell_type": "code",
   "execution_count": null,
   "metadata": {},
   "outputs": [],
   "source": [
    "pool_017 = combine_pools('../data/pool_017_spec_nirspec_lv2imprint.csv')"
   ]
  },
  {
   "cell_type": "code",
   "execution_count": null,
   "metadata": {},
   "outputs": [],
   "source": [
    "reg_lv2_spec = copy(reg_lv2_all_candidates)"
   ]
  },
  {
   "cell_type": "code",
   "execution_count": null,
   "metadata": {},
   "outputs": [],
   "source": [
    "for key in list(reg_lv2_spec.keys()):\n",
    "    if key not in ('Asn_Lv2Spec'):\n",
    "        del reg_lv2_spec[key]\n",
    "reg_lv2_spec"
   ]
  },
  {
   "cell_type": "code",
   "execution_count": null,
   "metadata": {},
   "outputs": [],
   "source": [
    "asns = generate(pool_017, reg_lv2_all_candidates)"
   ]
  },
  {
   "cell_type": "code",
   "execution_count": null,
   "metadata": {
    "scrolled": false
   },
   "outputs": [],
   "source": [
    "asns"
   ]
  },
  {
   "cell_type": "code",
   "execution_count": null,
   "metadata": {
    "scrolled": false
   },
   "outputs": [],
   "source": [
    "pdb.runcall(generate, pool_017, reg_lv2_spec)"
   ]
  },
  {
   "cell_type": "code",
   "execution_count": null,
   "metadata": {},
   "outputs": [],
   "source": [
    "make_standards('pool_017_spec_nirspec_lv2imprint')"
   ]
  },
  {
   "cell_type": "markdown",
   "metadata": {},
   "source": [
    "## pool_001_candidates"
   ]
  },
  {
   "cell_type": "code",
   "execution_count": null,
   "metadata": {},
   "outputs": [],
   "source": [
    "pool_001 = combine_pools('../data/pool_001_candidates.csv')"
   ]
  },
  {
   "cell_type": "code",
   "execution_count": null,
   "metadata": {},
   "outputs": [],
   "source": [
    "constraint_twoobs = DMSAttrConstraint(\n",
    "    name='asn_candidate_id',\n",
    "    value='.+(o001|o002).+',\n",
    "    sources=['asn_candidate'],\n",
    "    force_unique=False,\n",
    "    is_acid=True,\n",
    "    evaluate=True,\n",
    ")"
   ]
  },
  {
   "cell_type": "code",
   "execution_count": null,
   "metadata": {},
   "outputs": [],
   "source": [
    "reg_lv2_twoobs = registry_level2_only(global_constraints=constraint_twoobs)"
   ]
  },
  {
   "cell_type": "code",
   "execution_count": null,
   "metadata": {
    "scrolled": false
   },
   "outputs": [],
   "source": [
    "pdb.runcall(generate, pool_001, reg_lv2_all_candidates)"
   ]
  },
  {
   "cell_type": "code",
   "execution_count": null,
   "metadata": {},
   "outputs": [],
   "source": [
    "asns = generate(pool_001, reg_lv2_twoobs)"
   ]
  },
  {
   "cell_type": "code",
   "execution_count": null,
   "metadata": {},
   "outputs": [],
   "source": [
    "asns"
   ]
  },
  {
   "cell_type": "markdown",
   "metadata": {},
   "source": [
    "## pool_020_00009_image_miri"
   ]
  },
  {
   "cell_type": "code",
   "execution_count": null,
   "metadata": {},
   "outputs": [],
   "source": [
    "pool_020_00009 = combine_pools('../data/pool_020_00009_image_miri.csv')"
   ]
  },
  {
   "cell_type": "code",
   "execution_count": null,
   "metadata": {},
   "outputs": [],
   "source": [
    "asns = generate(pool_020_00009, registry_level2_only())"
   ]
  },
  {
   "cell_type": "code",
   "execution_count": null,
   "metadata": {
    "scrolled": true
   },
   "outputs": [],
   "source": [
    "asns"
   ]
  },
  {
   "cell_type": "markdown",
   "metadata": {},
   "source": [
    "## pool_009_spec_miri_lv2bkg"
   ]
  },
  {
   "cell_type": "code",
   "execution_count": null,
   "metadata": {},
   "outputs": [],
   "source": [
    "pool_009 = combine_pools('../data/pool_009_spec_miri_lv2bkg.csv')"
   ]
  },
  {
   "cell_type": "code",
   "execution_count": null,
   "metadata": {
    "scrolled": true
   },
   "outputs": [],
   "source": [
    "pdb.runcall(generate, pool_009, reg_lv2_all_candidates)"
   ]
  },
  {
   "cell_type": "code",
   "execution_count": null,
   "metadata": {},
   "outputs": [],
   "source": [
    "asns = generate(pool_009, reg_lv2_all_candidates)"
   ]
  },
  {
   "cell_type": "code",
   "execution_count": null,
   "metadata": {
    "scrolled": true
   },
   "outputs": [],
   "source": [
    "asns"
   ]
  },
  {
   "cell_type": "code",
   "execution_count": null,
   "metadata": {},
   "outputs": [],
   "source": [
    "%rm $NEW_ASN_DIR/pool_009*"
   ]
  },
  {
   "cell_type": "code",
   "execution_count": null,
   "metadata": {},
   "outputs": [],
   "source": [
    "make_standards('pool_009_spec_miri_lv2bkg')"
   ]
  },
  {
   "cell_type": "markdown",
   "metadata": {},
   "source": [
    "## pool_013_coron_nircam"
   ]
  },
  {
   "cell_type": "code",
   "execution_count": null,
   "metadata": {},
   "outputs": [],
   "source": [
    "%rm $NEW_ASN_DIR/pool_013*"
   ]
  },
  {
   "cell_type": "code",
   "execution_count": null,
   "metadata": {},
   "outputs": [],
   "source": [
    "make_standards('pool_013_coron_nircam')"
   ]
  },
  {
   "cell_type": "code",
   "execution_count": null,
   "metadata": {},
   "outputs": [],
   "source": [
    "pool_013 = combine_pools('../data/pool_013_coron_nircam.csv')"
   ]
  },
  {
   "cell_type": "code",
   "execution_count": null,
   "metadata": {},
   "outputs": [],
   "source": [
    "constraint_candidate = constrain_on_candidates(['c1010'])"
   ]
  },
  {
   "cell_type": "code",
   "execution_count": null,
   "metadata": {},
   "outputs": [],
   "source": [
    "reg_lv3_candidate = registry_level3_only(global_constraints=constraint_candidate)"
   ]
  },
  {
   "cell_type": "code",
   "execution_count": null,
   "metadata": {},
   "outputs": [],
   "source": [
    "reg_lv3_candidate"
   ]
  },
  {
   "cell_type": "code",
   "execution_count": null,
   "metadata": {},
   "outputs": [],
   "source": [
    "reg_lv3_candidate_asn_coron = copy(reg_lv3_candidate)"
   ]
  },
  {
   "cell_type": "code",
   "execution_count": null,
   "metadata": {},
   "outputs": [],
   "source": [
    "for key in list(reg_lv3_candidate_asn_coron.keys()):\n",
    "    if key not in ('Asn_Coron', 'Asn_ACQ_Reprocess'):\n",
    "        del reg_lv3_candidate_asn_coron[key]\n",
    "reg_lv3_candidate_asn_coron"
   ]
  },
  {
   "cell_type": "code",
   "execution_count": null,
   "metadata": {
    "scrolled": false
   },
   "outputs": [],
   "source": [
    "# asns = generate(pool_013, reg_lv3_candidate_asn_coron)"
   ]
  },
  {
   "cell_type": "code",
   "execution_count": null,
   "metadata": {
    "scrolled": false
   },
   "outputs": [],
   "source": [
    "len(asns[0]['products'][0]['members'])"
   ]
  },
  {
   "cell_type": "code",
   "execution_count": null,
   "metadata": {
    "scrolled": true
   },
   "outputs": [],
   "source": [
    "asns[0]"
   ]
  },
  {
   "cell_type": "code",
   "execution_count": null,
   "metadata": {},
   "outputs": [],
   "source": [
    "asns[0].constraints['obs_num'].found_values"
   ]
  },
  {
   "cell_type": "code",
   "execution_count": null,
   "metadata": {
    "scrolled": false
   },
   "outputs": [],
   "source": [
    "pdb.runcall(generate, pool_013, reg_lv3_candidate_asn_coron)"
   ]
  },
  {
   "cell_type": "code",
   "execution_count": null,
   "metadata": {},
   "outputs": [],
   "source": [
    "len(asns)"
   ]
  },
  {
   "cell_type": "code",
   "execution_count": null,
   "metadata": {
    "scrolled": true
   },
   "outputs": [],
   "source": [
    "asn = asns[0]"
   ]
  },
  {
   "cell_type": "code",
   "execution_count": null,
   "metadata": {
    "scrolled": false
   },
   "outputs": [],
   "source": [
    "asn"
   ]
  },
  {
   "cell_type": "code",
   "execution_count": null,
   "metadata": {},
   "outputs": [],
   "source": [
    "asn.constraints"
   ]
  },
  {
   "cell_type": "code",
   "execution_count": null,
   "metadata": {},
   "outputs": [],
   "source": [
    "asn.constraints['obs_num']"
   ]
  },
  {
   "cell_type": "code",
   "execution_count": null,
   "metadata": {},
   "outputs": [],
   "source": [
    "pool_013[pool_013['obs_num'] == '6']['filename']"
   ]
  },
  {
   "cell_type": "code",
   "execution_count": null,
   "metadata": {},
   "outputs": [],
   "source": [
    "pool_013[pool_013['filename'] == 'jw_00024_uncal.fits']['obs_num']"
   ]
  },
  {
   "cell_type": "markdown",
   "metadata": {},
   "source": [
    "## pool_005_spec_niriss"
   ]
  },
  {
   "cell_type": "code",
   "execution_count": null,
   "metadata": {},
   "outputs": [],
   "source": [
    "%rm $NEW_ASN_DIR/pool_005*"
   ]
  },
  {
   "cell_type": "code",
   "execution_count": null,
   "metadata": {
    "scrolled": false
   },
   "outputs": [],
   "source": [
    "make_standards('pool_005_spec_niriss')"
   ]
  },
  {
   "cell_type": "code",
   "execution_count": null,
   "metadata": {
    "scrolled": true
   },
   "outputs": [],
   "source": [
    "%debug"
   ]
  },
  {
   "cell_type": "code",
   "execution_count": null,
   "metadata": {},
   "outputs": [],
   "source": [
    "pool_005 = combine_pools('../data/pool_005_spec_niriss.csv')"
   ]
  },
  {
   "cell_type": "code",
   "execution_count": null,
   "metadata": {},
   "outputs": [],
   "source": [
    "reg_lv3_asn_nis_so_slitless = copy(reg_lv3_all_candidates)"
   ]
  },
  {
   "cell_type": "code",
   "execution_count": null,
   "metadata": {},
   "outputs": [],
   "source": [
    "for key in list(reg_lv3_asn_nis_so_slitless.keys()):\n",
    "    if key not in ('Asn_NIS_SO_SLITLESS', 'Asn_ACQ_Reprocess'):\n",
    "        del reg_lv3_asn_nis_so_slitless[key]\n",
    "reg_lv3_asn_nis_so_slitless"
   ]
  },
  {
   "cell_type": "code",
   "execution_count": null,
   "metadata": {},
   "outputs": [],
   "source": [
    "asns = generate(pool_005, reg_lv3_asn_nis_so_slitless)"
   ]
  },
  {
   "cell_type": "code",
   "execution_count": null,
   "metadata": {},
   "outputs": [],
   "source": [
    "asns"
   ]
  },
  {
   "cell_type": "code",
   "execution_count": null,
   "metadata": {
    "scrolled": false
   },
   "outputs": [],
   "source": [
    "pdb.run(\"generate(pool_005, reg_lv3_asn_nis_so_slitless)\")"
   ]
  },
  {
   "cell_type": "markdown",
   "metadata": {},
   "source": [
    "## pool_002_image_miri"
   ]
  },
  {
   "cell_type": "code",
   "execution_count": null,
   "metadata": {},
   "outputs": [],
   "source": [
    "%rm $NEW_ASN_DIR/pool_002*"
   ]
  },
  {
   "cell_type": "code",
   "execution_count": null,
   "metadata": {
    "scrolled": false
   },
   "outputs": [],
   "source": [
    "make_standards('pool_002_image_miri')"
   ]
  },
  {
   "cell_type": "markdown",
   "metadata": {},
   "source": [
    "## pool_004_wfs level3"
   ]
  },
  {
   "cell_type": "code",
   "execution_count": null,
   "metadata": {},
   "outputs": [],
   "source": [
    "%rm $NEW_ASN_DIR/pool_004*"
   ]
  },
  {
   "cell_type": "code",
   "execution_count": null,
   "metadata": {
    "scrolled": false
   },
   "outputs": [],
   "source": [
    "make_standards('pool_004_wfs')"
   ]
  },
  {
   "cell_type": "code",
   "execution_count": null,
   "metadata": {},
   "outputs": [],
   "source": [
    "pool_004_wfs = combine_pools('../data/pool_004_wfs.csv')"
   ]
  },
  {
   "cell_type": "code",
   "execution_count": null,
   "metadata": {},
   "outputs": [],
   "source": [
    "pool_004_wfs.show_in_notebook()"
   ]
  },
  {
   "cell_type": "markdown",
   "metadata": {},
   "source": [
    "## pool_004_wfs looking for level2 image"
   ]
  },
  {
   "cell_type": "code",
   "execution_count": null,
   "metadata": {
    "scrolled": false
   },
   "outputs": [],
   "source": [
    "pdb.run(\"generate(pool_004_wfs, reg_lv2_all_candidates)\")"
   ]
  },
  {
   "cell_type": "code",
   "execution_count": null,
   "metadata": {},
   "outputs": [],
   "source": [
    "asns = generate(pool_004_wfs, reg_lv2_all_candidates)"
   ]
  },
  {
   "cell_type": "code",
   "execution_count": null,
   "metadata": {},
   "outputs": [],
   "source": [
    "len(asns)"
   ]
  },
  {
   "cell_type": "code",
   "execution_count": null,
   "metadata": {
    "scrolled": true
   },
   "outputs": [],
   "source": [
    "asns"
   ]
  },
  {
   "cell_type": "markdown",
   "metadata": {},
   "source": [
    "## pool_007_spec_miri for target acquisitions"
   ]
  },
  {
   "cell_type": "code",
   "execution_count": null,
   "metadata": {},
   "outputs": [],
   "source": [
    "%rm $NEW_ASN_DIR/pool_007*"
   ]
  },
  {
   "cell_type": "code",
   "execution_count": null,
   "metadata": {},
   "outputs": [],
   "source": [
    "make_standards('pool_007_spec_miri')"
   ]
  },
  {
   "cell_type": "markdown",
   "metadata": {},
   "source": [
    "## sdp/jw87600 double image3 for o029"
   ]
  },
  {
   "cell_type": "markdown",
   "metadata": {},
   "source": [
    "Now, the second round, the last exposure of the candidate has gone completely missing."
   ]
  },
  {
   "cell_type": "code",
   "execution_count": null,
   "metadata": {},
   "outputs": [],
   "source": [
    "pool_jw87600 = combine_pools('../data/sdp/pools/jw87600_20171108T042226_pool.csv')"
   ]
  },
  {
   "cell_type": "code",
   "execution_count": null,
   "metadata": {},
   "outputs": [],
   "source": [
    "constrain_o029 = constrain_on_candidates(['o029'])"
   ]
  },
  {
   "cell_type": "code",
   "execution_count": null,
   "metadata": {},
   "outputs": [],
   "source": [
    "constrain_o029"
   ]
  },
  {
   "cell_type": "code",
   "execution_count": null,
   "metadata": {},
   "outputs": [],
   "source": [
    "reg_lv3_o029 = registry_level3_only(global_constraints=constrain_o029)"
   ]
  },
  {
   "cell_type": "markdown",
   "metadata": {},
   "source": [
    "Error occurs with level3 only rules, constrain on all candidates"
   ]
  },
  {
   "cell_type": "code",
   "execution_count": null,
   "metadata": {},
   "outputs": [],
   "source": [
    "asns = generate(pool_jw87600, reg_lv3_all_candidates)"
   ]
  },
  {
   "cell_type": "code",
   "execution_count": null,
   "metadata": {},
   "outputs": [],
   "source": [
    "len(asns)"
   ]
  },
  {
   "cell_type": "code",
   "execution_count": null,
   "metadata": {
    "scrolled": true
   },
   "outputs": [],
   "source": [
    "asns"
   ]
  },
  {
   "cell_type": "code",
   "execution_count": null,
   "metadata": {
    "scrolled": false
   },
   "outputs": [],
   "source": [
    "for idx, asn in enumerate(asns):\n",
    "    if asn['asn_id'] == 'o029' and asn['asn_type'] == 'image3':\n",
    "        print(idx, asn)"
   ]
  },
  {
   "cell_type": "code",
   "execution_count": null,
   "metadata": {},
   "outputs": [],
   "source": [
    "asns[19]['products'][0]['members']"
   ]
  },
  {
   "cell_type": "code",
   "execution_count": null,
   "metadata": {},
   "outputs": [],
   "source": [
    "asns[20]['products'][0]['members']"
   ]
  },
  {
   "cell_type": "markdown",
   "metadata": {},
   "source": [
    "Try on just the one exposure. Works as expected"
   ]
  },
  {
   "cell_type": "code",
   "execution_count": null,
   "metadata": {},
   "outputs": [],
   "source": [
    "pool_jw87600_single = combine_pools('../data/sdp/pools/jw87600_single_pool.csv')"
   ]
  },
  {
   "cell_type": "code",
   "execution_count": null,
   "metadata": {},
   "outputs": [],
   "source": [
    "pool_jw87600_single.show_in_notebook()"
   ]
  },
  {
   "cell_type": "code",
   "execution_count": null,
   "metadata": {},
   "outputs": [],
   "source": [
    "asns = generate(pool_jw87600_single, reg_lv3_all_candidates)"
   ]
  },
  {
   "cell_type": "code",
   "execution_count": null,
   "metadata": {},
   "outputs": [],
   "source": [
    "len(asns)"
   ]
  },
  {
   "cell_type": "code",
   "execution_count": null,
   "metadata": {
    "scrolled": true
   },
   "outputs": [],
   "source": [
    "asns"
   ]
  },
  {
   "cell_type": "markdown",
   "metadata": {},
   "source": [
    "Try the whole candidate. Works fine"
   ]
  },
  {
   "cell_type": "code",
   "execution_count": null,
   "metadata": {},
   "outputs": [],
   "source": [
    "pool_jw87600_o029 = combine_pools('../data/sdp/pools/jw87600_o029_pool.csv')"
   ]
  },
  {
   "cell_type": "code",
   "execution_count": null,
   "metadata": {},
   "outputs": [],
   "source": [
    "pool_jw87600_o029.show_in_notebook()"
   ]
  },
  {
   "cell_type": "code",
   "execution_count": null,
   "metadata": {},
   "outputs": [],
   "source": [
    "asns = generate(pool_jw87600_o029, reg_lv3_all_candidates)"
   ]
  },
  {
   "cell_type": "code",
   "execution_count": null,
   "metadata": {},
   "outputs": [],
   "source": [
    "len(asns)"
   ]
  },
  {
   "cell_type": "code",
   "execution_count": null,
   "metadata": {
    "scrolled": false
   },
   "outputs": [],
   "source": [
    "for asn in asns:\n",
    "    if asn['asn_id'] == 'o029' and asn['asn_type'] == 'image3':\n",
    "        print(asn)"
   ]
  },
  {
   "cell_type": "markdown",
   "metadata": {},
   "source": [
    "Remove the offending exposure, see if something else appears. Nope, its gone and the other doesn't start duplicating."
   ]
  },
  {
   "cell_type": "code",
   "execution_count": null,
   "metadata": {},
   "outputs": [],
   "source": [
    "pool_jw87600_removed = combine_pools('../data/sdp/pools/jw87600_exp_removed_pool.csv')"
   ]
  },
  {
   "cell_type": "code",
   "execution_count": null,
   "metadata": {},
   "outputs": [],
   "source": [
    "asns = generate(pool_jw87600_removed, reg_lv3_all_candidates)"
   ]
  },
  {
   "cell_type": "code",
   "execution_count": null,
   "metadata": {
    "scrolled": false
   },
   "outputs": [],
   "source": [
    "for asn in asns:\n",
    "    if asn['asn_id'] == 'o029' and asn['asn_type'] == 'image3':\n",
    "        print(asn)"
   ]
  },
  {
   "cell_type": "markdown",
   "metadata": {},
   "source": [
    "Remove extraneous exposures around o029. Duplication occurs. Has something to do with the intervening ones."
   ]
  },
  {
   "cell_type": "code",
   "execution_count": null,
   "metadata": {},
   "outputs": [],
   "source": [
    "pool_jw87600_surrounding_removed = combine_pools('../data/sdp/pools/jw87600_surrounding_removed_pool.csv')"
   ]
  },
  {
   "cell_type": "code",
   "execution_count": null,
   "metadata": {},
   "outputs": [],
   "source": [
    "asns = generate(pool_jw87600_surrounding_removed, reg_lv3_all_candidates)"
   ]
  },
  {
   "cell_type": "code",
   "execution_count": null,
   "metadata": {
    "scrolled": false
   },
   "outputs": [],
   "source": [
    "for asn in asns:\n",
    "    if asn['asn_id'] == 'o029' and asn['asn_type'] == 'image3':\n",
    "        print(asn)"
   ]
  },
  {
   "cell_type": "markdown",
   "metadata": {},
   "source": [
    "Will work here removing intervening exposures until problem goes away.\n",
    "\n",
    "_And have actually found a single other exposure that causes the issue. Problem pool now contains only two exposures. An exposure without a candidate, and a exposure with a candidate. And the without candidate must be first. The expectation is to get two associations, one discovered that has both the exposures in it, the other the observation candidate with the one exposure. Instead, we get the observation candidate twice._"
   ]
  },
  {
   "cell_type": "code",
   "execution_count": null,
   "metadata": {},
   "outputs": [],
   "source": [
    "pool_jw87600_intervening_removed = combine_pools('../data/sdp/pools/jw87600_intervening_removed_pool.csv')"
   ]
  },
  {
   "cell_type": "code",
   "execution_count": null,
   "metadata": {},
   "outputs": [],
   "source": [
    "asns = generate(pool_jw87600_intervening_removed, reg_lv3_all_candidates)"
   ]
  },
  {
   "cell_type": "code",
   "execution_count": null,
   "metadata": {
    "scrolled": false
   },
   "outputs": [],
   "source": [
    "for idx, asn in enumerate(asns):\n",
    "    if asn['asn_id'] == 'o029' and asn['asn_type'] == 'image3':\n",
    "        print(idx, asn)"
   ]
  },
  {
   "cell_type": "code",
   "execution_count": null,
   "metadata": {},
   "outputs": [],
   "source": [
    "asns"
   ]
  },
  {
   "cell_type": "code",
   "execution_count": null,
   "metadata": {},
   "outputs": [],
   "source": [
    "pool_jw87600_intervening_removed.show_in_notebook()"
   ]
  },
  {
   "cell_type": "markdown",
   "metadata": {},
   "source": [
    "Now let's debug the hell out of this..."
   ]
  },
  {
   "cell_type": "code",
   "execution_count": null,
   "metadata": {
    "scrolled": false
   },
   "outputs": [],
   "source": [
    "pdb.run(\"generate(pool_jw87600_intervening_removed, reg_lv3_all_candidates)\")"
   ]
  },
  {
   "cell_type": "markdown",
   "metadata": {},
   "source": [
    "Now lets run the Main and see what is up."
   ]
  },
  {
   "cell_type": "code",
   "execution_count": null,
   "metadata": {},
   "outputs": [],
   "source": [
    "cmd_args = [\n",
    "    '--dry-run',\n",
    "]"
   ]
  },
  {
   "cell_type": "code",
   "execution_count": null,
   "metadata": {},
   "outputs": [],
   "source": [
    "main_generated = Main(cmd_args, pool=pool_jw87600_intervening_removed)"
   ]
  },
  {
   "cell_type": "code",
   "execution_count": null,
   "metadata": {},
   "outputs": [],
   "source": [
    "main_generated.associations"
   ]
  },
  {
   "cell_type": "markdown",
   "metadata": {},
   "source": [
    "## 82600"
   ]
  },
  {
   "cell_type": "code",
   "execution_count": null,
   "metadata": {},
   "outputs": [],
   "source": [
    "all_candidates = copy(LV3_ONLY_ARGS)\n",
    "all_candidates.extend(['--all-candidates'])"
   ]
  },
  {
   "cell_type": "code",
   "execution_count": null,
   "metadata": {},
   "outputs": [],
   "source": [
    "pool_82600_fpath = '../data/sdp/pools/jw82600_20171108T041350_pool.csv'\n",
    "pool_82600 = AssociationPool.read(pool_82600_fpath)\n",
    "pool_82600_path, pool_82600_root = path.split(pool_82600_fpath)\n",
    "pool_82600_root = path.splitext(pool_82600_root)[0]"
   ]
  },
  {
   "cell_type": "code",
   "execution_count": null,
   "metadata": {},
   "outputs": [],
   "source": [
    "reg_lv3 = registry_level3_only()\n",
    "reg_all_candidates = registry_level3_only(global_constraints=constrain_on_candidates(None))"
   ]
  },
  {
   "cell_type": "code",
   "execution_count": null,
   "metadata": {
    "scrolled": false
   },
   "outputs": [],
   "source": [
    "pdb.run(\"asns = generate(pool_82600, reg_all_candidates)\")"
   ]
  },
  {
   "cell_type": "code",
   "execution_count": null,
   "metadata": {
    "scrolled": true
   },
   "outputs": [],
   "source": [
    "asns = generate(pool_82600, reg_all_candidates)"
   ]
  },
  {
   "cell_type": "code",
   "execution_count": null,
   "metadata": {},
   "outputs": [],
   "source": [
    "len(asns)"
   ]
  },
  {
   "cell_type": "code",
   "execution_count": null,
   "metadata": {},
   "outputs": [],
   "source": [
    "asns"
   ]
  },
  {
   "cell_type": "code",
   "execution_count": null,
   "metadata": {},
   "outputs": [],
   "source": [
    "gc.collect()"
   ]
  },
  {
   "cell_type": "code",
   "execution_count": null,
   "metadata": {},
   "outputs": [],
   "source": [
    "pool_82600[pool_82600['asn_candidate'] != 'null']['exp_type']"
   ]
  },
  {
   "cell_type": "code",
   "execution_count": null,
   "metadata": {},
   "outputs": [],
   "source": [
    "pool_mega = combine_pools('../data/mega_pool.csv')"
   ]
  },
  {
   "cell_type": "code",
   "execution_count": null,
   "metadata": {
    "scrolled": true
   },
   "outputs": [],
   "source": [
    "pdb.run(\"generate(pool_mega, reg_all_candidates)\")"
   ]
  },
  {
   "cell_type": "code",
   "execution_count": null,
   "metadata": {},
   "outputs": [],
   "source": [
    "make_standards(\n",
    "    pool_82600_root,\n",
    "    source= pool_82600_path,\n",
    "    outdir=SDP_NEW_ASN_DIR\n",
    ")"
   ]
  },
  {
   "cell_type": "markdown",
   "metadata": {},
   "source": [
    "## Coronographic test"
   ]
  },
  {
   "cell_type": "code",
   "execution_count": null,
   "metadata": {},
   "outputs": [],
   "source": [
    "nrc_coron_pars = find_test('pool_013_coron_nircam', standards)"
   ]
  },
  {
   "cell_type": "code",
   "execution_count": null,
   "metadata": {},
   "outputs": [],
   "source": [
    "c1000_args = copy(LV3_ONLY_ARGS)\n",
    "c1000_args.extend(['-i', 'c1000', 'c1001'])"
   ]
  },
  {
   "cell_type": "code",
   "execution_count": null,
   "metadata": {
    "scrolled": true
   },
   "outputs": [],
   "source": [
    "make_standards(\n",
    "    nrc_coron_pars.pool_root,\n",
    "    main_args=all_candidates,\n",
    "    source=DATA_DIR,\n",
    "    outdir=NEW_ASN_DIR\n",
    ")"
   ]
  },
  {
   "cell_type": "code",
   "execution_count": null,
   "metadata": {},
   "outputs": [],
   "source": [
    "nrc_coron_pool = combine_pools(path.join(DATA_DIR, nrc_coron_pars.pool_root + '.csv'))"
   ]
  },
  {
   "cell_type": "code",
   "execution_count": null,
   "metadata": {
    "scrolled": false
   },
   "outputs": [],
   "source": [
    "nrc_coron_pool['filename','targetid', 'is_psf', 'asn_candidate']"
   ]
  },
  {
   "cell_type": "code",
   "execution_count": null,
   "metadata": {},
   "outputs": [],
   "source": [
    "reg_coron = copy(reg_lv3)"
   ]
  },
  {
   "cell_type": "code",
   "execution_count": null,
   "metadata": {},
   "outputs": [],
   "source": [
    "names = [name for name in reg_coron]\n",
    "for name in names:\n",
    "    if name != 'Asn_Coron':\n",
    "        del reg_coron[name]"
   ]
  },
  {
   "cell_type": "code",
   "execution_count": null,
   "metadata": {
    "scrolled": true
   },
   "outputs": [],
   "source": [
    "asns = generate(nrc_coron_pool, reg_coron)"
   ]
  },
  {
   "cell_type": "code",
   "execution_count": null,
   "metadata": {
    "scrolled": true
   },
   "outputs": [],
   "source": [
    "len(asns)"
   ]
  },
  {
   "cell_type": "code",
   "execution_count": null,
   "metadata": {
    "scrolled": true
   },
   "outputs": [],
   "source": [
    "asns"
   ]
  },
  {
   "cell_type": "code",
   "execution_count": null,
   "metadata": {
    "scrolled": false
   },
   "outputs": [],
   "source": [
    "pdb.run(\"generate(nrc_coron_pool, reg_coron)\")"
   ]
  },
  {
   "cell_type": "markdown",
   "metadata": {},
   "source": [
    "## Make the SPD-based associations"
   ]
  },
  {
   "cell_type": "code",
   "execution_count": null,
   "metadata": {},
   "outputs": [],
   "source": [
    "pools = glob(path.join(SDP_POOLS, '*.csv'))"
   ]
  },
  {
   "cell_type": "code",
   "execution_count": null,
   "metadata": {
    "scrolled": true
   },
   "outputs": [],
   "source": [
    "for pool in pools:\n",
    "    if MAKE_ALL:\n",
    "        pool_dir, pool = path.split(pool)\n",
    "        pool, ext = path.splitext(pool)\n",
    "        make_standards(\n",
    "            pool,\n",
    "            source=pool_dir,\n",
    "            outdir=SDP_NEW_ASN_DIR\n",
    "        )"
   ]
  },
  {
   "cell_type": "code",
   "execution_count": null,
   "metadata": {},
   "outputs": [],
   "source": []
  }
 ],
 "metadata": {
  "anaconda-cloud": {},
  "kernelspec": {
   "display_name": "Python 3",
   "language": "python",
   "name": "python3"
  },
  "language_info": {
   "codemirror_mode": {
    "name": "ipython",
    "version": 3
   },
   "file_extension": ".py",
   "mimetype": "text/x-python",
   "name": "python",
   "nbconvert_exporter": "python",
   "pygments_lexer": "ipython3",
   "version": "3.6.4"
  }
 },
 "nbformat": 4,
 "nbformat_minor": 2
}
