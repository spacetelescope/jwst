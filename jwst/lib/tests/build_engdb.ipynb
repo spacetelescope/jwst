{
 "cells": [
  {
   "cell_type": "markdown",
   "metadata": {},
   "source": [
    "# Abstract"
   ]
  },
  {
   "cell_type": "markdown",
   "metadata": {},
   "source": [
    "Build an offline version of the engineering DB."
   ]
  },
  {
   "cell_type": "markdown",
   "metadata": {},
   "source": [
    "# Environment"
   ]
  },
  {
   "cell_type": "code",
   "execution_count": 1,
   "metadata": {},
   "outputs": [],
   "source": [
    "import json\n",
    "import os\n",
    "from pathlib import Path\n",
    "import shutil"
   ]
  },
  {
   "cell_type": "code",
   "execution_count": 2,
   "metadata": {},
   "outputs": [],
   "source": [
    "from astropy.time import Time"
   ]
  },
  {
   "cell_type": "code",
   "execution_count": 3,
   "metadata": {},
   "outputs": [],
   "source": [
    "from jwst.lib.engdb_tools import ENGDB_Service\n",
    "from jwst.lib.tests import engdb_mock"
   ]
  },
  {
   "cell_type": "markdown",
   "metadata": {},
   "source": [
    "# Library"
   ]
  },
  {
   "cell_type": "markdown",
   "metadata": {},
   "source": [
    "# Main"
   ]
  },
  {
   "cell_type": "markdown",
   "metadata": {},
   "source": [
    "## Produce a cache for a generic date/time"
   ]
  },
  {
   "cell_type": "code",
   "execution_count": 6,
   "metadata": {},
   "outputs": [],
   "source": [
    "# Time range corresponds to simulation producing exposure jw00624028002_02101_00001_nrca1_uncal.fits\n",
    "# Midpoint is about 2021-01-26T02:32:26.205\n",
    "date_start = Time('59240.10349754328', format='mjd')\n",
    "date_end = Time('59240.1082197338', format='mjd')"
   ]
  },
  {
   "cell_type": "code",
   "execution_count": 9,
   "metadata": {},
   "outputs": [
    {
     "data": {
      "text/plain": [
       "'2021-01-26 02:29:02.188'"
      ]
     },
     "execution_count": 9,
     "metadata": {},
     "output_type": "execute_result"
    }
   ],
   "source": [
    "date_start.iso"
   ]
  },
  {
   "cell_type": "code",
   "execution_count": 7,
   "metadata": {},
   "outputs": [],
   "source": [
    "db_path = Path('./data/engdb')\n",
    "try:\n",
    "    shutil.rmtree(db_path)\n",
    "except FileNotFoundError:\n",
    "    pass\n",
    "db_path.mkdir()"
   ]
  },
  {
   "cell_type": "code",
   "execution_count": 8,
   "metadata": {},
   "outputs": [],
   "source": [
    "engdb_mock.cache_engdb(engdb_mock.MNEMONICS_TO_CACHE, date_start, date_end, db_path)"
   ]
  },
  {
   "cell_type": "code",
   "execution_count": null,
   "metadata": {},
   "outputs": [],
   "source": [
    "d = Time(1487025000000 / 1000., format='unix')\n",
    "d.iso"
   ]
  },
  {
   "cell_type": "code",
   "execution_count": null,
   "metadata": {},
   "outputs": [],
   "source": [
    "Time('2016-01-18 15:23').unix * 1000."
   ]
  },
  {
   "cell_type": "markdown",
   "metadata": {},
   "source": [
    "## Produce a cache for proposal JW00703"
   ]
  },
  {
   "cell_type": "code",
   "execution_count": null,
   "metadata": {},
   "outputs": [],
   "source": [
    "date_start = Time('2019-06-03 16:23')\n",
    "date_end = Time('2019-06-03 18:09')"
   ]
  },
  {
   "cell_type": "code",
   "execution_count": null,
   "metadata": {},
   "outputs": [],
   "source": [
    "db_path = Path('./data/engdb_jw00703')\n",
    "try:\n",
    "    shutil.rmtree(db_path)\n",
    "except FileNotFoundError:\n",
    "    pass\n",
    "db_path.mkdir()"
   ]
  },
  {
   "cell_type": "code",
   "execution_count": null,
   "metadata": {},
   "outputs": [],
   "source": [
    "engdb_mock.cache_engdb(engdb_mock.MNEMONICS_TO_CACHE, date_start, date_end, db_path)"
   ]
  },
  {
   "cell_type": "markdown",
   "metadata": {},
   "source": [
    "## Development of saving"
   ]
  },
  {
   "cell_type": "markdown",
   "metadata": {},
   "source": [
    "Define the desired mnemonics"
   ]
  },
  {
   "cell_type": "code",
   "execution_count": null,
   "metadata": {},
   "outputs": [],
   "source": [
    "mnemonics = [\n",
    "    'SA_ZATTEST1',\n",
    "    'SA_ZATTEST2',\n",
    "    'SA_ZATTEST3',\n",
    "    'SA_ZATTEST4',\n",
    "    'SA_ZRFGS2J11',\n",
    "    'SA_ZRFGS2J21',\n",
    "    'SA_ZRFGS2J31',\n",
    "    'SA_ZRFGS2J12',\n",
    "    'SA_ZRFGS2J22',\n",
    "    'SA_ZRFGS2J32',\n",
    "    'SA_ZRFGS2J13',\n",
    "    'SA_ZRFGS2J23',\n",
    "    'SA_ZRFGS2J33',\n",
    "    'SA_ZADUCMDX',\n",
    "    'SA_ZADUCMDY',\n",
    "    'SA_ZFGGSCMDX',\n",
    "    'SA_ZFGGSCMDY'\n",
    "]"
   ]
  },
  {
   "cell_type": "markdown",
   "metadata": {},
   "source": [
    "Define the date range"
   ]
  },
  {
   "cell_type": "code",
   "execution_count": null,
   "metadata": {},
   "outputs": [],
   "source": [
    "date_start = Time('2019-06-03 16:23')\n",
    "date_end = Time('2019-06-03 18:09')"
   ]
  },
  {
   "cell_type": "markdown",
   "metadata": {},
   "source": [
    "Start up the engineering DB"
   ]
  },
  {
   "cell_type": "code",
   "execution_count": null,
   "metadata": {},
   "outputs": [],
   "source": [
    "edb = ENGDB_Service()"
   ]
  },
  {
   "cell_type": "markdown",
   "metadata": {},
   "source": [
    "Setup the local DB"
   ]
  },
  {
   "cell_type": "code",
   "execution_count": null,
   "metadata": {},
   "outputs": [],
   "source": [
    "db_path = './engdb_new'\n",
    "if not os.path.exists(db_path):\n",
    "    os.mkdir(db_path)"
   ]
  },
  {
   "cell_type": "markdown",
   "metadata": {},
   "source": [
    "Retrieve and save each mnemonic"
   ]
  },
  {
   "cell_type": "code",
   "execution_count": null,
   "metadata": {},
   "outputs": [],
   "source": [
    "for mnemonic in mnemonics:\n",
    "    records = edb.get_records(mnemonic, date_start, date_end)\n",
    "    with open(os.path.join(db_path, mnemonic + '.json'), 'w') as fp:\n",
    "        json.dump(records, fp)"
   ]
  },
  {
   "cell_type": "code",
   "execution_count": null,
   "metadata": {},
   "outputs": [],
   "source": []
  }
 ],
 "metadata": {
  "anaconda-cloud": {},
  "kernelspec": {
   "display_name": "Python 3",
   "language": "python",
   "name": "python3"
  },
  "language_info": {
   "codemirror_mode": {
    "name": "ipython",
    "version": 3
   },
   "file_extension": ".py",
   "mimetype": "text/x-python",
   "name": "python",
   "nbconvert_exporter": "python",
   "pygments_lexer": "ipython3",
   "version": "3.9.1"
  }
 },
 "nbformat": 4,
 "nbformat_minor": 1
}
