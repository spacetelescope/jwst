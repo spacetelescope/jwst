{
 "cells": [
  {
   "cell_type": "markdown",
   "metadata": {},
   "source": [
    "# Abstract"
   ]
  },
  {
   "cell_type": "markdown",
   "metadata": {},
   "source": [
    "Build an offline version of the engineering DB."
   ]
  },
  {
   "cell_type": "markdown",
   "metadata": {},
   "source": [
    "# Environment"
   ]
  },
  {
   "cell_type": "code",
   "execution_count": 28,
   "metadata": {},
   "outputs": [],
   "source": [
    "import json\n",
    "import os\n",
    "from pathlib import Path\n",
    "import shutil"
   ]
  },
  {
   "cell_type": "code",
   "execution_count": 2,
   "metadata": {},
   "outputs": [],
   "source": [
    "from astropy.time import Time"
   ]
  },
  {
   "cell_type": "code",
   "execution_count": 34,
   "metadata": {},
   "outputs": [],
   "source": [
    "from jwst.lib.engdb_tools import ENGDB_Service\n",
    "import jwst.lib.tests.engdb_mock"
   ]
  },
  {
   "cell_type": "markdown",
   "metadata": {},
   "source": [
    "# Library"
   ]
  },
  {
   "cell_type": "markdown",
   "metadata": {},
   "source": [
    "# Main"
   ]
  },
  {
   "cell_type": "markdown",
   "metadata": {},
   "source": [
    "## Produce a cache for a generic date/time"
   ]
  },
  {
   "cell_type": "code",
   "execution_count": 36,
   "metadata": {},
   "outputs": [
    {
     "data": {
      "text/plain": [
       "'2016-01-18 15:22:38.400'"
      ]
     },
     "execution_count": 36,
     "metadata": {},
     "output_type": "execute_result"
    }
   ],
   "source": [
    "d = Time(1453130558400 / 1000., format='unix')\n",
    "d.iso"
   ]
  },
  {
   "cell_type": "code",
   "execution_count": 37,
   "metadata": {},
   "outputs": [
    {
     "data": {
      "text/plain": [
       "'2016-01-18 15:30:00.000'"
      ]
     },
     "execution_count": 37,
     "metadata": {},
     "output_type": "execute_result"
    }
   ],
   "source": [
    "d = Time(1453131000000 / 1000., format='unix')\n",
    "d.iso"
   ]
  },
  {
   "cell_type": "code",
   "execution_count": 39,
   "metadata": {},
   "outputs": [],
   "source": [
    "date_start = Time('2016-01-18 15:22')\n",
    "date_end = Time('2016-01-18 15:30')"
   ]
  },
  {
   "cell_type": "code",
   "execution_count": 40,
   "metadata": {},
   "outputs": [],
   "source": [
    "db_path = Path('./data/engdb')\n",
    "try:\n",
    "    shutil.rmtree(db_path)\n",
    "except FileNotFoundError:\n",
    "    pass\n",
    "db_path.mkdir()"
   ]
  },
  {
   "cell_type": "code",
   "execution_count": 41,
   "metadata": {},
   "outputs": [],
   "source": [
    "engdb_mock.cache_engdb(engdb_mock.MNEMONICS_TO_CACHE, date_start, date_end, db_path)"
   ]
  },
  {
   "cell_type": "code",
   "execution_count": 42,
   "metadata": {},
   "outputs": [
    {
     "data": {
      "text/plain": [
       "'2017-02-13 22:30:00.000'"
      ]
     },
     "execution_count": 42,
     "metadata": {},
     "output_type": "execute_result"
    }
   ],
   "source": [
    "d = Time(1487025000000 / 1000., format='unix')\n",
    "d.iso"
   ]
  },
  {
   "cell_type": "code",
   "execution_count": 45,
   "metadata": {},
   "outputs": [
    {
     "data": {
      "text/plain": [
       "1453130580000.0"
      ]
     },
     "execution_count": 45,
     "metadata": {},
     "output_type": "execute_result"
    }
   ],
   "source": [
    "Time('2016-01-18 15:23').unix * 1000."
   ]
  },
  {
   "cell_type": "markdown",
   "metadata": {},
   "source": [
    "## Produce a cache for proposal JW00703"
   ]
  },
  {
   "cell_type": "code",
   "execution_count": 20,
   "metadata": {},
   "outputs": [],
   "source": [
    "date_start = Time('2019-06-03 16:23')\n",
    "date_end = Time('2019-06-03 18:09')"
   ]
  },
  {
   "cell_type": "code",
   "execution_count": 33,
   "metadata": {},
   "outputs": [],
   "source": [
    "db_path = Path('./data/engdb_jw00703')\n",
    "try:\n",
    "    shutil.rmtree(db_path)\n",
    "except FileNotFoundError:\n",
    "    pass\n",
    "db_path.mkdir()"
   ]
  },
  {
   "cell_type": "code",
   "execution_count": 35,
   "metadata": {},
   "outputs": [],
   "source": [
    "engdb_mock.cache_engdb(engdb_mock.MNEMONICS_TO_CACHE, date_start, date_end, db_path)"
   ]
  },
  {
   "cell_type": "markdown",
   "metadata": {},
   "source": [
    "## Development of saving"
   ]
  },
  {
   "cell_type": "markdown",
   "metadata": {},
   "source": [
    "Define the desired mneumonics"
   ]
  },
  {
   "cell_type": "code",
   "execution_count": 13,
   "metadata": {},
   "outputs": [],
   "source": [
    "mneumonics = [\n",
    "    'SA_ZATTEST1',\n",
    "    'SA_ZATTEST2',\n",
    "    'SA_ZATTEST3',\n",
    "    'SA_ZATTEST4',\n",
    "    'SA_ZRFGS2J11',\n",
    "    'SA_ZRFGS2J21',\n",
    "    'SA_ZRFGS2J31',\n",
    "    'SA_ZRFGS2J12',\n",
    "    'SA_ZRFGS2J22',\n",
    "    'SA_ZRFGS2J32',\n",
    "    'SA_ZRFGS2J13',\n",
    "    'SA_ZRFGS2J23',\n",
    "    'SA_ZRFGS2J33',\n",
    "    'SA_ZADUCMDX',\n",
    "    'SA_ZADUCMDY',\n",
    "    'SA_ZFGGSCMDX',\n",
    "    'SA_ZFGGSCMDY'\n",
    "]"
   ]
  },
  {
   "cell_type": "markdown",
   "metadata": {},
   "source": [
    "Define the date range"
   ]
  },
  {
   "cell_type": "code",
   "execution_count": 14,
   "metadata": {},
   "outputs": [],
   "source": [
    "date_start = Time('2019-06-03 16:23')\n",
    "date_end = Time('2019-06-03 18:09')"
   ]
  },
  {
   "cell_type": "markdown",
   "metadata": {},
   "source": [
    "Start up the engineering DB"
   ]
  },
  {
   "cell_type": "code",
   "execution_count": 15,
   "metadata": {},
   "outputs": [],
   "source": [
    "edb = ENGDB_Service()"
   ]
  },
  {
   "cell_type": "markdown",
   "metadata": {},
   "source": [
    "Setup the local DB"
   ]
  },
  {
   "cell_type": "code",
   "execution_count": 16,
   "metadata": {},
   "outputs": [],
   "source": [
    "db_path = './engdb_new'\n",
    "if not os.path.exists(db_path):\n",
    "    os.mkdir(db_path)"
   ]
  },
  {
   "cell_type": "markdown",
   "metadata": {},
   "source": [
    "Retrieve and save each mneumonic"
   ]
  },
  {
   "cell_type": "code",
   "execution_count": 17,
   "metadata": {},
   "outputs": [],
   "source": [
    "for mneumonic in mneumonics:\n",
    "    records = edb.get_records(mneumonic, date_start, date_end)\n",
    "    with open(os.path.join(db_path, mneumonic + '.json'), 'w') as fp:\n",
    "        json.dump(records, fp)"
   ]
  },
  {
   "cell_type": "code",
   "execution_count": null,
   "metadata": {},
   "outputs": [],
   "source": []
  }
 ],
 "metadata": {
  "anaconda-cloud": {},
  "kernelspec": {
   "display_name": "Python 3",
   "language": "python",
   "name": "python3"
  },
  "language_info": {
   "codemirror_mode": {
    "name": "ipython",
    "version": 3
   },
   "file_extension": ".py",
   "mimetype": "text/x-python",
   "name": "python",
   "nbconvert_exporter": "python",
   "pygments_lexer": "ipython3",
   "version": "3.9.1"
  }
 },
 "nbformat": 4,
 "nbformat_minor": 1
}
