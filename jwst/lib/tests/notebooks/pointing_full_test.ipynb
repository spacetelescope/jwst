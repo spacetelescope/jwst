{
 "cells": [
  {
   "cell_type": "markdown",
   "metadata": {},
   "source": [
    "# Abstract"
   ]
  },
  {
   "cell_type": "markdown",
   "metadata": {},
   "source": [
    "Test out setting up test for whole spreadsheet run."
   ]
  },
  {
   "cell_type": "markdown",
   "metadata": {},
   "source": [
    "# Environment"
   ]
  },
  {
   "cell_type": "code",
   "execution_count": 1,
   "metadata": {},
   "outputs": [],
   "source": [
    "from astropy.table import Table\n",
    "import numpy as np"
   ]
  },
  {
   "cell_type": "code",
   "execution_count": 2,
   "metadata": {},
   "outputs": [],
   "source": [
    "from jwst.lib import set_telescope_pointing as stp"
   ]
  },
  {
   "cell_type": "markdown",
   "metadata": {},
   "source": [
    "# Library"
   ]
  },
  {
   "cell_type": "code",
   "execution_count": 3,
   "metadata": {},
   "outputs": [],
   "source": [
    "def row_to_pointing(r, siaf=None):\n",
    "    \"\"\"Convert a row of the spreadsheet to a Pointing\n",
    "    \n",
    "    Parameters\n",
    "    ----------\n",
    "    r: dict\n",
    "        A row of pointing information\n",
    "        \n",
    "    siaf: SIAF\n",
    "        SIAF info to use. If None, a non-transformative\n",
    "        SIAF will be used.\n",
    "        \n",
    "    Returns\n",
    "    -------\n",
    "    Pointing, vinfo_expected\n",
    "        A `Pointing` instance filled out.\n",
    "        A `WCS` instance with the expected V1 information.\n",
    "    \"\"\"\n",
    "    if siaf is None:\n",
    "        siaf = stp.SIAF(v2_ref=0., v3_ref=0., v3yangle=0., vparity=1.)\n",
    "\n",
    "    q = np.asarray([\n",
    "        r['SA_ZATTEST1'],        \n",
    "        r['SA_ZATTEST2'],        \n",
    "        r['SA_ZATTEST3'],        \n",
    "        r['SA_ZATTEST4'],        \n",
    "    ])\n",
    "    \n",
    "    j2fgs_matrix = np.asarray([\n",
    "        r['SA_ZRFGS2J11'], r['SA_ZRFGS2J21'], r['SA_ZRFGS2J31'],\n",
    "        r['SA_ZRFGS2J12'], r['SA_ZRFGS2J22'], r['SA_ZRFGS2J32'],\n",
    "        r['SA_ZRFGS2J13'], r['SA_ZRFGS2J23'], r['SA_ZRFGS2J33'],\n",
    "    ])\n",
    "    \n",
    "    fsmcorr = np.asarray([\n",
    "        r['SA_ZADUCMDX'], r['SA_ZADUCMDY']\n",
    "    ])\n",
    "    \n",
    "    p = stp.Pointing(q=q, j2fgs_matrix=j2fgs_matrix, fsmcorr=fsmcorr)\n",
    "    \n",
    "    v = stp.WCSRef(ra=r['Vra'], dec=r['Vdec'], pa=r['V3PAatV1'])\n",
    "    \n",
    "    return p, v"
   ]
  },
  {
   "cell_type": "code",
   "execution_count": 4,
   "metadata": {},
   "outputs": [],
   "source": [
    "def wcs_equality(left, right):\n",
    "    \"\"\"Assert equality of to WCSRef instances\"\"\"\n",
    "    assert np.isclose(left.ra, right.ra), 'RAs are different {} != {}'.format(left.ra, right.ra)\n",
    "    assert np.isclose(left.dec, right.dec), 'DECs are different {} != {}'.format(left.dec, right.dec)\n",
    "    assert np.isclose(left.pa, right.pa), 'PAs are different {} != {}'.format(left.pa, right.pa)"
   ]
  },
  {
   "cell_type": "markdown",
   "metadata": {},
   "source": [
    "# Main"
   ]
  },
  {
   "cell_type": "code",
   "execution_count": 5,
   "metadata": {},
   "outputs": [],
   "source": [
    "t = Table.read('../data/acs_tlm_data_4_stsci_dms_jitter_file_mod_RA_DEC_PA.csv')"
   ]
  },
  {
   "cell_type": "code",
   "execution_count": 6,
   "metadata": {},
   "outputs": [],
   "source": [
    "pointings = [\n",
    "    row_to_pointing(r)\n",
    "    for r in t\n",
    "]"
   ]
  },
  {
   "cell_type": "code",
   "execution_count": 7,
   "metadata": {},
   "outputs": [
    {
     "data": {
      "text/plain": [
       "(Pointing(q=array([-0.36915286,  0.33763282,  0.05758533,  0.86395264]), j2fgs_matrix=array([-1.00444000e-03,  3.38145836e-03,  9.99993778e-01,  9.99999496e-01,\n",
       "        -3.90000000e-14,  1.00444575e-03,  3.39649146e-06,  9.99994283e-01,\n",
       "        -3.38145665e-03]), fsmcorr=array([0., 0.]), obstime=None),\n",
       " WCSRef(ra=348.927867, dec=-38.749239, pa=50.176708))"
      ]
     },
     "execution_count": 7,
     "metadata": {},
     "output_type": "execute_result"
    }
   ],
   "source": [
    "pointings[0]"
   ]
  },
  {
   "cell_type": "code",
   "execution_count": 8,
   "metadata": {},
   "outputs": [
    {
     "data": {
      "text/plain": [
       "20711"
      ]
     },
     "execution_count": 8,
     "metadata": {},
     "output_type": "execute_result"
    }
   ],
   "source": [
    "len(pointings)"
   ]
  },
  {
   "cell_type": "code",
   "execution_count": 9,
   "metadata": {},
   "outputs": [],
   "source": [
    "siaf = stp.SIAF(v2_ref=0., v3_ref=0., v3yangle=0., vparity = 1.)"
   ]
  },
  {
   "cell_type": "code",
   "execution_count": 10,
   "metadata": {},
   "outputs": [],
   "source": [
    "wcsinfo, vinfo = stp.calc_wcs(pointings[0][0], siaf)"
   ]
  },
  {
   "cell_type": "code",
   "execution_count": 11,
   "metadata": {},
   "outputs": [
    {
     "data": {
      "text/plain": [
       "WCSRef(ra=348.92786699856623, dec=-38.749239233976155, pa=50.17670770067501)"
      ]
     },
     "execution_count": 11,
     "metadata": {},
     "output_type": "execute_result"
    }
   ],
   "source": [
    "vinfo"
   ]
  },
  {
   "cell_type": "code",
   "execution_count": 12,
   "metadata": {},
   "outputs": [
    {
     "data": {
      "text/plain": [
       "WCSRef(ra=348.927867, dec=-38.749239, pa=50.176708)"
      ]
     },
     "execution_count": 12,
     "metadata": {},
     "output_type": "execute_result"
    }
   ],
   "source": [
    "pointings[0][1]"
   ]
  },
  {
   "cell_type": "code",
   "execution_count": 13,
   "metadata": {},
   "outputs": [],
   "source": [
    "wcs_equality(vinfo, pointings[0][1])"
   ]
  },
  {
   "cell_type": "code",
   "execution_count": 14,
   "metadata": {},
   "outputs": [],
   "source": [
    "for idx, pv in enumerate(pointings):\n",
    "    p, v = pv\n",
    "    wcsinfo, vinfo = stp.calc_wcs(p, siaf)\n",
    "    try:\n",
    "        wcs_equality(vinfo, v)\n",
    "    except AssertionError as e:\n",
    "        print('{}'.format(idx))\n",
    "        print(e)\n",
    "            "
   ]
  }
 ],
 "metadata": {
  "kernelspec": {
   "display_name": "Python 3",
   "language": "python",
   "name": "python3"
  },
  "language_info": {
   "codemirror_mode": {
    "name": "ipython",
    "version": 3
   },
   "file_extension": ".py",
   "mimetype": "text/x-python",
   "name": "python",
   "nbconvert_exporter": "python",
   "pygments_lexer": "ipython3",
   "version": "3.9.1"
  }
 },
 "nbformat": 4,
 "nbformat_minor": 2
}
